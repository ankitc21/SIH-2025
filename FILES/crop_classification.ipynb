{
 "cells": [
  {
   "cell_type": "markdown",
   "metadata": {},
   "source": [
    "# Crop Production Classification\n",
    "This notebook builds a classification model using crop production dataset.\n",
    "Target variable: **Crop**"
   ]
  },
  {
   "cell_type": "code",
   "execution_count": 1,
   "metadata": {},
   "outputs": [
    {
     "data": {
      "application/vnd.microsoft.datawrangler.viewer.v0+json": {
       "columns": [
        {
         "name": "index",
         "rawType": "int64",
         "type": "integer"
        },
        {
         "name": "State_Name",
         "rawType": "object",
         "type": "string"
        },
        {
         "name": "District_Name",
         "rawType": "object",
         "type": "string"
        },
        {
         "name": "Crop_Year",
         "rawType": "int64",
         "type": "integer"
        },
        {
         "name": "Season",
         "rawType": "object",
         "type": "string"
        },
        {
         "name": "Crop",
         "rawType": "object",
         "type": "string"
        },
        {
         "name": "Area",
         "rawType": "float64",
         "type": "float"
        },
        {
         "name": "Production",
         "rawType": "float64",
         "type": "float"
        }
       ],
       "ref": "0e0a0c67-fdaf-458d-9a4f-1a1a0c3bb73e",
       "rows": [
        [
         "0",
         "Andaman and Nicobar Islands",
         "NICOBARS",
         "2000",
         "Kharif     ",
         "Arecanut",
         "1254.0",
         "2000.0"
        ],
        [
         "1",
         "Andaman and Nicobar Islands",
         "NICOBARS",
         "2000",
         "Kharif     ",
         "Other Kharif pulses",
         "2.0",
         "1.0"
        ],
        [
         "2",
         "Andaman and Nicobar Islands",
         "NICOBARS",
         "2000",
         "Kharif     ",
         "Rice",
         "102.0",
         "321.0"
        ],
        [
         "3",
         "Andaman and Nicobar Islands",
         "NICOBARS",
         "2000",
         "Whole Year ",
         "Banana",
         "176.0",
         "641.0"
        ],
        [
         "4",
         "Andaman and Nicobar Islands",
         "NICOBARS",
         "2000",
         "Whole Year ",
         "Cashewnut",
         "720.0",
         "165.0"
        ]
       ],
       "shape": {
        "columns": 7,
        "rows": 5
       }
      },
      "text/html": [
       "<div>\n",
       "<style scoped>\n",
       "    .dataframe tbody tr th:only-of-type {\n",
       "        vertical-align: middle;\n",
       "    }\n",
       "\n",
       "    .dataframe tbody tr th {\n",
       "        vertical-align: top;\n",
       "    }\n",
       "\n",
       "    .dataframe thead th {\n",
       "        text-align: right;\n",
       "    }\n",
       "</style>\n",
       "<table border=\"1\" class=\"dataframe\">\n",
       "  <thead>\n",
       "    <tr style=\"text-align: right;\">\n",
       "      <th></th>\n",
       "      <th>State_Name</th>\n",
       "      <th>District_Name</th>\n",
       "      <th>Crop_Year</th>\n",
       "      <th>Season</th>\n",
       "      <th>Crop</th>\n",
       "      <th>Area</th>\n",
       "      <th>Production</th>\n",
       "    </tr>\n",
       "  </thead>\n",
       "  <tbody>\n",
       "    <tr>\n",
       "      <th>0</th>\n",
       "      <td>Andaman and Nicobar Islands</td>\n",
       "      <td>NICOBARS</td>\n",
       "      <td>2000</td>\n",
       "      <td>Kharif</td>\n",
       "      <td>Arecanut</td>\n",
       "      <td>1254.0</td>\n",
       "      <td>2000.0</td>\n",
       "    </tr>\n",
       "    <tr>\n",
       "      <th>1</th>\n",
       "      <td>Andaman and Nicobar Islands</td>\n",
       "      <td>NICOBARS</td>\n",
       "      <td>2000</td>\n",
       "      <td>Kharif</td>\n",
       "      <td>Other Kharif pulses</td>\n",
       "      <td>2.0</td>\n",
       "      <td>1.0</td>\n",
       "    </tr>\n",
       "    <tr>\n",
       "      <th>2</th>\n",
       "      <td>Andaman and Nicobar Islands</td>\n",
       "      <td>NICOBARS</td>\n",
       "      <td>2000</td>\n",
       "      <td>Kharif</td>\n",
       "      <td>Rice</td>\n",
       "      <td>102.0</td>\n",
       "      <td>321.0</td>\n",
       "    </tr>\n",
       "    <tr>\n",
       "      <th>3</th>\n",
       "      <td>Andaman and Nicobar Islands</td>\n",
       "      <td>NICOBARS</td>\n",
       "      <td>2000</td>\n",
       "      <td>Whole Year</td>\n",
       "      <td>Banana</td>\n",
       "      <td>176.0</td>\n",
       "      <td>641.0</td>\n",
       "    </tr>\n",
       "    <tr>\n",
       "      <th>4</th>\n",
       "      <td>Andaman and Nicobar Islands</td>\n",
       "      <td>NICOBARS</td>\n",
       "      <td>2000</td>\n",
       "      <td>Whole Year</td>\n",
       "      <td>Cashewnut</td>\n",
       "      <td>720.0</td>\n",
       "      <td>165.0</td>\n",
       "    </tr>\n",
       "  </tbody>\n",
       "</table>\n",
       "</div>"
      ],
      "text/plain": [
       "                    State_Name District_Name  Crop_Year       Season  \\\n",
       "0  Andaman and Nicobar Islands      NICOBARS       2000  Kharif        \n",
       "1  Andaman and Nicobar Islands      NICOBARS       2000  Kharif        \n",
       "2  Andaman and Nicobar Islands      NICOBARS       2000  Kharif        \n",
       "3  Andaman and Nicobar Islands      NICOBARS       2000  Whole Year    \n",
       "4  Andaman and Nicobar Islands      NICOBARS       2000  Whole Year    \n",
       "\n",
       "                  Crop    Area  Production  \n",
       "0             Arecanut  1254.0      2000.0  \n",
       "1  Other Kharif pulses     2.0         1.0  \n",
       "2                 Rice   102.0       321.0  \n",
       "3               Banana   176.0       641.0  \n",
       "4            Cashewnut   720.0       165.0  "
      ]
     },
     "execution_count": 1,
     "metadata": {},
     "output_type": "execute_result"
    }
   ],
   "source": [
    "import pandas as pd\n",
    "import numpy as np\n",
    "from sklearn.model_selection import train_test_split\n",
    "from sklearn.preprocessing import LabelEncoder, OneHotEncoder, StandardScaler\n",
    "from sklearn.compose import ColumnTransformer\n",
    "from sklearn.pipeline import Pipeline\n",
    "from sklearn.metrics import accuracy_score, classification_report, confusion_matrix\n",
    "from sklearn.ensemble import RandomForestClassifier\n",
    "\n",
    "# Load dataset\n",
    "df = pd.read_csv('crop_production.csv')\n",
    "df.head()"
   ]
  },
  {
   "cell_type": "code",
   "execution_count": 2,
   "metadata": {},
   "outputs": [
    {
     "name": "stdout",
     "output_type": "stream",
     "text": [
      "<class 'pandas.core.frame.DataFrame'>\n",
      "RangeIndex: 246091 entries, 0 to 246090\n",
      "Data columns (total 7 columns):\n",
      " #   Column         Non-Null Count   Dtype  \n",
      "---  ------         --------------   -----  \n",
      " 0   State_Name     246091 non-null  object \n",
      " 1   District_Name  246091 non-null  object \n",
      " 2   Crop_Year      246091 non-null  int64  \n",
      " 3   Season         246091 non-null  object \n",
      " 4   Crop           246091 non-null  object \n",
      " 5   Area           246091 non-null  float64\n",
      " 6   Production     242361 non-null  float64\n",
      "dtypes: float64(2), int64(1), object(4)\n",
      "memory usage: 13.1+ MB\n"
     ]
    },
    {
     "data": {
      "application/vnd.microsoft.datawrangler.viewer.v0+json": {
       "columns": [
        {
         "name": "index",
         "rawType": "object",
         "type": "string"
        },
        {
         "name": "State_Name",
         "rawType": "object",
         "type": "unknown"
        },
        {
         "name": "District_Name",
         "rawType": "object",
         "type": "unknown"
        },
        {
         "name": "Crop_Year",
         "rawType": "float64",
         "type": "float"
        },
        {
         "name": "Season",
         "rawType": "object",
         "type": "unknown"
        },
        {
         "name": "Crop",
         "rawType": "object",
         "type": "unknown"
        },
        {
         "name": "Area",
         "rawType": "float64",
         "type": "float"
        },
        {
         "name": "Production",
         "rawType": "float64",
         "type": "float"
        }
       ],
       "ref": "81203072-f57b-4003-9457-88ecea5bf5af",
       "rows": [
        [
         "count",
         "246091",
         "246091",
         "246091.0",
         "246091",
         "246091",
         "246091.0",
         "242361.0"
        ],
        [
         "unique",
         "33",
         "646",
         null,
         "6",
         "124",
         null,
         null
        ],
        [
         "top",
         "Uttar Pradesh",
         "BIJAPUR",
         null,
         "Kharif     ",
         "Rice",
         null,
         null
        ],
        [
         "freq",
         "33306",
         "945",
         null,
         "95951",
         "15104",
         null,
         null
        ],
        [
         "mean",
         null,
         null,
         "2005.6430182330926",
         null,
         null,
         "12002.82086370489",
         "582503.4422509808"
        ],
        [
         "std",
         null,
         null,
         "4.952163852561266",
         null,
         null,
         "50523.404018913716",
         "17065813.172410313"
        ],
        [
         "min",
         null,
         null,
         "1997.0",
         null,
         null,
         "0.04",
         "0.0"
        ],
        [
         "25%",
         null,
         null,
         "2002.0",
         null,
         null,
         "80.0",
         "88.0"
        ],
        [
         "50%",
         null,
         null,
         "2006.0",
         null,
         null,
         "582.0",
         "729.0"
        ],
        [
         "75%",
         null,
         null,
         "2010.0",
         null,
         null,
         "4392.0",
         "7023.0"
        ],
        [
         "max",
         null,
         null,
         "2015.0",
         null,
         null,
         "8580100.0",
         "1250800000.0"
        ]
       ],
       "shape": {
        "columns": 7,
        "rows": 11
       }
      },
      "text/html": [
       "<div>\n",
       "<style scoped>\n",
       "    .dataframe tbody tr th:only-of-type {\n",
       "        vertical-align: middle;\n",
       "    }\n",
       "\n",
       "    .dataframe tbody tr th {\n",
       "        vertical-align: top;\n",
       "    }\n",
       "\n",
       "    .dataframe thead th {\n",
       "        text-align: right;\n",
       "    }\n",
       "</style>\n",
       "<table border=\"1\" class=\"dataframe\">\n",
       "  <thead>\n",
       "    <tr style=\"text-align: right;\">\n",
       "      <th></th>\n",
       "      <th>State_Name</th>\n",
       "      <th>District_Name</th>\n",
       "      <th>Crop_Year</th>\n",
       "      <th>Season</th>\n",
       "      <th>Crop</th>\n",
       "      <th>Area</th>\n",
       "      <th>Production</th>\n",
       "    </tr>\n",
       "  </thead>\n",
       "  <tbody>\n",
       "    <tr>\n",
       "      <th>count</th>\n",
       "      <td>246091</td>\n",
       "      <td>246091</td>\n",
       "      <td>246091.000000</td>\n",
       "      <td>246091</td>\n",
       "      <td>246091</td>\n",
       "      <td>2.460910e+05</td>\n",
       "      <td>2.423610e+05</td>\n",
       "    </tr>\n",
       "    <tr>\n",
       "      <th>unique</th>\n",
       "      <td>33</td>\n",
       "      <td>646</td>\n",
       "      <td>NaN</td>\n",
       "      <td>6</td>\n",
       "      <td>124</td>\n",
       "      <td>NaN</td>\n",
       "      <td>NaN</td>\n",
       "    </tr>\n",
       "    <tr>\n",
       "      <th>top</th>\n",
       "      <td>Uttar Pradesh</td>\n",
       "      <td>BIJAPUR</td>\n",
       "      <td>NaN</td>\n",
       "      <td>Kharif</td>\n",
       "      <td>Rice</td>\n",
       "      <td>NaN</td>\n",
       "      <td>NaN</td>\n",
       "    </tr>\n",
       "    <tr>\n",
       "      <th>freq</th>\n",
       "      <td>33306</td>\n",
       "      <td>945</td>\n",
       "      <td>NaN</td>\n",
       "      <td>95951</td>\n",
       "      <td>15104</td>\n",
       "      <td>NaN</td>\n",
       "      <td>NaN</td>\n",
       "    </tr>\n",
       "    <tr>\n",
       "      <th>mean</th>\n",
       "      <td>NaN</td>\n",
       "      <td>NaN</td>\n",
       "      <td>2005.643018</td>\n",
       "      <td>NaN</td>\n",
       "      <td>NaN</td>\n",
       "      <td>1.200282e+04</td>\n",
       "      <td>5.825034e+05</td>\n",
       "    </tr>\n",
       "    <tr>\n",
       "      <th>std</th>\n",
       "      <td>NaN</td>\n",
       "      <td>NaN</td>\n",
       "      <td>4.952164</td>\n",
       "      <td>NaN</td>\n",
       "      <td>NaN</td>\n",
       "      <td>5.052340e+04</td>\n",
       "      <td>1.706581e+07</td>\n",
       "    </tr>\n",
       "    <tr>\n",
       "      <th>min</th>\n",
       "      <td>NaN</td>\n",
       "      <td>NaN</td>\n",
       "      <td>1997.000000</td>\n",
       "      <td>NaN</td>\n",
       "      <td>NaN</td>\n",
       "      <td>4.000000e-02</td>\n",
       "      <td>0.000000e+00</td>\n",
       "    </tr>\n",
       "    <tr>\n",
       "      <th>25%</th>\n",
       "      <td>NaN</td>\n",
       "      <td>NaN</td>\n",
       "      <td>2002.000000</td>\n",
       "      <td>NaN</td>\n",
       "      <td>NaN</td>\n",
       "      <td>8.000000e+01</td>\n",
       "      <td>8.800000e+01</td>\n",
       "    </tr>\n",
       "    <tr>\n",
       "      <th>50%</th>\n",
       "      <td>NaN</td>\n",
       "      <td>NaN</td>\n",
       "      <td>2006.000000</td>\n",
       "      <td>NaN</td>\n",
       "      <td>NaN</td>\n",
       "      <td>5.820000e+02</td>\n",
       "      <td>7.290000e+02</td>\n",
       "    </tr>\n",
       "    <tr>\n",
       "      <th>75%</th>\n",
       "      <td>NaN</td>\n",
       "      <td>NaN</td>\n",
       "      <td>2010.000000</td>\n",
       "      <td>NaN</td>\n",
       "      <td>NaN</td>\n",
       "      <td>4.392000e+03</td>\n",
       "      <td>7.023000e+03</td>\n",
       "    </tr>\n",
       "    <tr>\n",
       "      <th>max</th>\n",
       "      <td>NaN</td>\n",
       "      <td>NaN</td>\n",
       "      <td>2015.000000</td>\n",
       "      <td>NaN</td>\n",
       "      <td>NaN</td>\n",
       "      <td>8.580100e+06</td>\n",
       "      <td>1.250800e+09</td>\n",
       "    </tr>\n",
       "  </tbody>\n",
       "</table>\n",
       "</div>"
      ],
      "text/plain": [
       "           State_Name District_Name      Crop_Year       Season    Crop  \\\n",
       "count          246091        246091  246091.000000       246091  246091   \n",
       "unique             33           646            NaN            6     124   \n",
       "top     Uttar Pradesh       BIJAPUR            NaN  Kharif         Rice   \n",
       "freq            33306           945            NaN        95951   15104   \n",
       "mean              NaN           NaN    2005.643018          NaN     NaN   \n",
       "std               NaN           NaN       4.952164          NaN     NaN   \n",
       "min               NaN           NaN    1997.000000          NaN     NaN   \n",
       "25%               NaN           NaN    2002.000000          NaN     NaN   \n",
       "50%               NaN           NaN    2006.000000          NaN     NaN   \n",
       "75%               NaN           NaN    2010.000000          NaN     NaN   \n",
       "max               NaN           NaN    2015.000000          NaN     NaN   \n",
       "\n",
       "                Area    Production  \n",
       "count   2.460910e+05  2.423610e+05  \n",
       "unique           NaN           NaN  \n",
       "top              NaN           NaN  \n",
       "freq             NaN           NaN  \n",
       "mean    1.200282e+04  5.825034e+05  \n",
       "std     5.052340e+04  1.706581e+07  \n",
       "min     4.000000e-02  0.000000e+00  \n",
       "25%     8.000000e+01  8.800000e+01  \n",
       "50%     5.820000e+02  7.290000e+02  \n",
       "75%     4.392000e+03  7.023000e+03  \n",
       "max     8.580100e+06  1.250800e+09  "
      ]
     },
     "execution_count": 2,
     "metadata": {},
     "output_type": "execute_result"
    }
   ],
   "source": [
    "# Check dataset info\n",
    "df.info()\n",
    "df.describe(include='all')"
   ]
  },
  {
   "cell_type": "code",
   "execution_count": 3,
   "metadata": {},
   "outputs": [
    {
     "data": {
      "text/plain": [
       "(['State_Name', 'District_Name', 'Season'], ['Crop_Year', 'Area'])"
      ]
     },
     "execution_count": 3,
     "metadata": {},
     "output_type": "execute_result"
    }
   ],
   "source": [
    "# Drop irrelevant or missing-heavy columns if necessary\n",
    "# Example: drop NaNs\n",
    "df = df.dropna()\n",
    "\n",
    "# Separate features and target\n",
    "X = df.drop(['Crop','Production'], axis=1)\n",
    "y = df['Crop']\n",
    "\n",
    "# Identify categorical and numeric features\n",
    "categorical_features = X.select_dtypes(include=['object']).columns.tolist()\n",
    "numeric_features = X.select_dtypes(include=['int64','float64']).columns.tolist()\n",
    "\n",
    "categorical_features, numeric_features"
   ]
  },
  {
   "cell_type": "code",
   "execution_count": 4,
   "id": "6404835b",
   "metadata": {},
   "outputs": [
    {
     "data": {
      "text/plain": [
       "242361"
      ]
     },
     "execution_count": 4,
     "metadata": {},
     "output_type": "execute_result"
    }
   ],
   "source": [
    "len(X)"
   ]
  },
  {
   "cell_type": "code",
   "execution_count": 5,
   "id": "291e47e8",
   "metadata": {},
   "outputs": [
    {
     "data": {
      "application/vnd.microsoft.datawrangler.viewer.v0+json": {
       "columns": [
        {
         "name": "index",
         "rawType": "int64",
         "type": "integer"
        },
        {
         "name": "State_Name",
         "rawType": "object",
         "type": "string"
        },
        {
         "name": "District_Name",
         "rawType": "object",
         "type": "string"
        },
        {
         "name": "Crop_Year",
         "rawType": "int64",
         "type": "integer"
        },
        {
         "name": "Season",
         "rawType": "object",
         "type": "string"
        },
        {
         "name": "Area",
         "rawType": "float64",
         "type": "float"
        }
       ],
       "ref": "f8a62089-8465-4537-b28a-13943244d090",
       "rows": [
        [
         "0",
         "Andaman and Nicobar Islands",
         "NICOBARS",
         "2000",
         "Kharif     ",
         "1254.0"
        ],
        [
         "1",
         "Andaman and Nicobar Islands",
         "NICOBARS",
         "2000",
         "Kharif     ",
         "2.0"
        ],
        [
         "2",
         "Andaman and Nicobar Islands",
         "NICOBARS",
         "2000",
         "Kharif     ",
         "102.0"
        ],
        [
         "3",
         "Andaman and Nicobar Islands",
         "NICOBARS",
         "2000",
         "Whole Year ",
         "176.0"
        ],
        [
         "4",
         "Andaman and Nicobar Islands",
         "NICOBARS",
         "2000",
         "Whole Year ",
         "720.0"
        ],
        [
         "5",
         "Andaman and Nicobar Islands",
         "NICOBARS",
         "2000",
         "Whole Year ",
         "18168.0"
        ],
        [
         "6",
         "Andaman and Nicobar Islands",
         "NICOBARS",
         "2000",
         "Whole Year ",
         "36.0"
        ],
        [
         "7",
         "Andaman and Nicobar Islands",
         "NICOBARS",
         "2000",
         "Whole Year ",
         "1.0"
        ],
        [
         "8",
         "Andaman and Nicobar Islands",
         "NICOBARS",
         "2000",
         "Whole Year ",
         "5.0"
        ],
        [
         "9",
         "Andaman and Nicobar Islands",
         "NICOBARS",
         "2000",
         "Whole Year ",
         "40.0"
        ],
        [
         "10",
         "Andaman and Nicobar Islands",
         "NICOBARS",
         "2001",
         "Kharif     ",
         "1254.0"
        ],
        [
         "11",
         "Andaman and Nicobar Islands",
         "NICOBARS",
         "2001",
         "Kharif     ",
         "2.0"
        ],
        [
         "12",
         "Andaman and Nicobar Islands",
         "NICOBARS",
         "2001",
         "Kharif     ",
         "83.0"
        ],
        [
         "13",
         "Andaman and Nicobar Islands",
         "NICOBARS",
         "2001",
         "Whole Year ",
         "719.0"
        ],
        [
         "14",
         "Andaman and Nicobar Islands",
         "NICOBARS",
         "2001",
         "Whole Year ",
         "18190.0"
        ],
        [
         "15",
         "Andaman and Nicobar Islands",
         "NICOBARS",
         "2001",
         "Whole Year ",
         "46.0"
        ],
        [
         "16",
         "Andaman and Nicobar Islands",
         "NICOBARS",
         "2001",
         "Whole Year ",
         "1.0"
        ],
        [
         "17",
         "Andaman and Nicobar Islands",
         "NICOBARS",
         "2001",
         "Whole Year ",
         "11.0"
        ],
        [
         "18",
         "Andaman and Nicobar Islands",
         "NICOBARS",
         "2002",
         "Kharif     ",
         "189.2"
        ],
        [
         "19",
         "Andaman and Nicobar Islands",
         "NICOBARS",
         "2002",
         "Whole Year ",
         "1258.0"
        ],
        [
         "20",
         "Andaman and Nicobar Islands",
         "NICOBARS",
         "2002",
         "Whole Year ",
         "213.0"
        ],
        [
         "21",
         "Andaman and Nicobar Islands",
         "NICOBARS",
         "2002",
         "Whole Year ",
         "63.0"
        ],
        [
         "22",
         "Andaman and Nicobar Islands",
         "NICOBARS",
         "2002",
         "Whole Year ",
         "719.0"
        ],
        [
         "23",
         "Andaman and Nicobar Islands",
         "NICOBARS",
         "2002",
         "Whole Year ",
         "18240.0"
        ],
        [
         "24",
         "Andaman and Nicobar Islands",
         "NICOBARS",
         "2002",
         "Whole Year ",
         "413.0"
        ],
        [
         "25",
         "Andaman and Nicobar Islands",
         "NICOBARS",
         "2002",
         "Whole Year ",
         "47.3"
        ],
        [
         "26",
         "Andaman and Nicobar Islands",
         "NICOBARS",
         "2002",
         "Whole Year ",
         "5.0"
        ],
        [
         "27",
         "Andaman and Nicobar Islands",
         "NICOBARS",
         "2003",
         "Kharif     ",
         "52.0"
        ],
        [
         "28",
         "Andaman and Nicobar Islands",
         "NICOBARS",
         "2003",
         "Whole Year ",
         "1261.0"
        ],
        [
         "29",
         "Andaman and Nicobar Islands",
         "NICOBARS",
         "2003",
         "Whole Year ",
         "266.0"
        ],
        [
         "30",
         "Andaman and Nicobar Islands",
         "NICOBARS",
         "2003",
         "Whole Year ",
         "75.5"
        ],
        [
         "31",
         "Andaman and Nicobar Islands",
         "NICOBARS",
         "2003",
         "Whole Year ",
         "717.0"
        ],
        [
         "32",
         "Andaman and Nicobar Islands",
         "NICOBARS",
         "2003",
         "Whole Year ",
         "18284.74"
        ],
        [
         "33",
         "Andaman and Nicobar Islands",
         "NICOBARS",
         "2003",
         "Whole Year ",
         "60.0"
        ],
        [
         "34",
         "Andaman and Nicobar Islands",
         "NICOBARS",
         "2003",
         "Whole Year ",
         "102.0"
        ],
        [
         "35",
         "Andaman and Nicobar Islands",
         "NICOBARS",
         "2003",
         "Whole Year ",
         "4.2"
        ],
        [
         "36",
         "Andaman and Nicobar Islands",
         "NICOBARS",
         "2004",
         "Kharif     ",
         "52.94"
        ],
        [
         "37",
         "Andaman and Nicobar Islands",
         "NICOBARS",
         "2004",
         "Whole Year ",
         "1264.7"
        ],
        [
         "38",
         "Andaman and Nicobar Islands",
         "NICOBARS",
         "2004",
         "Whole Year ",
         "66.42"
        ],
        [
         "39",
         "Andaman and Nicobar Islands",
         "NICOBARS",
         "2004",
         "Whole Year ",
         "85.0"
        ],
        [
         "40",
         "Andaman and Nicobar Islands",
         "NICOBARS",
         "2004",
         "Whole Year ",
         "683.5"
        ],
        [
         "41",
         "Andaman and Nicobar Islands",
         "NICOBARS",
         "2004",
         "Whole Year ",
         "18394.7"
        ],
        [
         "42",
         "Andaman and Nicobar Islands",
         "NICOBARS",
         "2004",
         "Whole Year ",
         "60.0"
        ],
        [
         "43",
         "Andaman and Nicobar Islands",
         "NICOBARS",
         "2004",
         "Whole Year ",
         "118.0"
        ],
        [
         "44",
         "Andaman and Nicobar Islands",
         "NICOBARS",
         "2004",
         "Whole Year ",
         "1.0"
        ],
        [
         "45",
         "Andaman and Nicobar Islands",
         "NICOBARS",
         "2005",
         "Kharif     ",
         "2.09"
        ],
        [
         "47",
         "Andaman and Nicobar Islands",
         "NICOBARS",
         "2005",
         "Whole Year ",
         "22.0"
        ],
        [
         "48",
         "Andaman and Nicobar Islands",
         "NICOBARS",
         "2005",
         "Whole Year ",
         "41.0"
        ],
        [
         "49",
         "Andaman and Nicobar Islands",
         "NICOBARS",
         "2005",
         "Whole Year ",
         "450.0"
        ],
        [
         "50",
         "Andaman and Nicobar Islands",
         "NICOBARS",
         "2005",
         "Whole Year ",
         "13876.57"
        ]
       ],
       "shape": {
        "columns": 5,
        "rows": 242361
       }
      },
      "text/html": [
       "<div>\n",
       "<style scoped>\n",
       "    .dataframe tbody tr th:only-of-type {\n",
       "        vertical-align: middle;\n",
       "    }\n",
       "\n",
       "    .dataframe tbody tr th {\n",
       "        vertical-align: top;\n",
       "    }\n",
       "\n",
       "    .dataframe thead th {\n",
       "        text-align: right;\n",
       "    }\n",
       "</style>\n",
       "<table border=\"1\" class=\"dataframe\">\n",
       "  <thead>\n",
       "    <tr style=\"text-align: right;\">\n",
       "      <th></th>\n",
       "      <th>State_Name</th>\n",
       "      <th>District_Name</th>\n",
       "      <th>Crop_Year</th>\n",
       "      <th>Season</th>\n",
       "      <th>Area</th>\n",
       "    </tr>\n",
       "  </thead>\n",
       "  <tbody>\n",
       "    <tr>\n",
       "      <th>0</th>\n",
       "      <td>Andaman and Nicobar Islands</td>\n",
       "      <td>NICOBARS</td>\n",
       "      <td>2000</td>\n",
       "      <td>Kharif</td>\n",
       "      <td>1254.0</td>\n",
       "    </tr>\n",
       "    <tr>\n",
       "      <th>1</th>\n",
       "      <td>Andaman and Nicobar Islands</td>\n",
       "      <td>NICOBARS</td>\n",
       "      <td>2000</td>\n",
       "      <td>Kharif</td>\n",
       "      <td>2.0</td>\n",
       "    </tr>\n",
       "    <tr>\n",
       "      <th>2</th>\n",
       "      <td>Andaman and Nicobar Islands</td>\n",
       "      <td>NICOBARS</td>\n",
       "      <td>2000</td>\n",
       "      <td>Kharif</td>\n",
       "      <td>102.0</td>\n",
       "    </tr>\n",
       "    <tr>\n",
       "      <th>3</th>\n",
       "      <td>Andaman and Nicobar Islands</td>\n",
       "      <td>NICOBARS</td>\n",
       "      <td>2000</td>\n",
       "      <td>Whole Year</td>\n",
       "      <td>176.0</td>\n",
       "    </tr>\n",
       "    <tr>\n",
       "      <th>4</th>\n",
       "      <td>Andaman and Nicobar Islands</td>\n",
       "      <td>NICOBARS</td>\n",
       "      <td>2000</td>\n",
       "      <td>Whole Year</td>\n",
       "      <td>720.0</td>\n",
       "    </tr>\n",
       "    <tr>\n",
       "      <th>...</th>\n",
       "      <td>...</td>\n",
       "      <td>...</td>\n",
       "      <td>...</td>\n",
       "      <td>...</td>\n",
       "      <td>...</td>\n",
       "    </tr>\n",
       "    <tr>\n",
       "      <th>246086</th>\n",
       "      <td>West Bengal</td>\n",
       "      <td>PURULIA</td>\n",
       "      <td>2014</td>\n",
       "      <td>Summer</td>\n",
       "      <td>306.0</td>\n",
       "    </tr>\n",
       "    <tr>\n",
       "      <th>246087</th>\n",
       "      <td>West Bengal</td>\n",
       "      <td>PURULIA</td>\n",
       "      <td>2014</td>\n",
       "      <td>Summer</td>\n",
       "      <td>627.0</td>\n",
       "    </tr>\n",
       "    <tr>\n",
       "      <th>246088</th>\n",
       "      <td>West Bengal</td>\n",
       "      <td>PURULIA</td>\n",
       "      <td>2014</td>\n",
       "      <td>Whole Year</td>\n",
       "      <td>324.0</td>\n",
       "    </tr>\n",
       "    <tr>\n",
       "      <th>246089</th>\n",
       "      <td>West Bengal</td>\n",
       "      <td>PURULIA</td>\n",
       "      <td>2014</td>\n",
       "      <td>Winter</td>\n",
       "      <td>279151.0</td>\n",
       "    </tr>\n",
       "    <tr>\n",
       "      <th>246090</th>\n",
       "      <td>West Bengal</td>\n",
       "      <td>PURULIA</td>\n",
       "      <td>2014</td>\n",
       "      <td>Winter</td>\n",
       "      <td>175.0</td>\n",
       "    </tr>\n",
       "  </tbody>\n",
       "</table>\n",
       "<p>242361 rows × 5 columns</p>\n",
       "</div>"
      ],
      "text/plain": [
       "                         State_Name District_Name  Crop_Year       Season  \\\n",
       "0       Andaman and Nicobar Islands      NICOBARS       2000  Kharif        \n",
       "1       Andaman and Nicobar Islands      NICOBARS       2000  Kharif        \n",
       "2       Andaman and Nicobar Islands      NICOBARS       2000  Kharif        \n",
       "3       Andaman and Nicobar Islands      NICOBARS       2000  Whole Year    \n",
       "4       Andaman and Nicobar Islands      NICOBARS       2000  Whole Year    \n",
       "...                             ...           ...        ...          ...   \n",
       "246086                  West Bengal       PURULIA       2014  Summer        \n",
       "246087                  West Bengal       PURULIA       2014  Summer        \n",
       "246088                  West Bengal       PURULIA       2014  Whole Year    \n",
       "246089                  West Bengal       PURULIA       2014  Winter        \n",
       "246090                  West Bengal       PURULIA       2014  Winter        \n",
       "\n",
       "            Area  \n",
       "0         1254.0  \n",
       "1            2.0  \n",
       "2          102.0  \n",
       "3          176.0  \n",
       "4          720.0  \n",
       "...          ...  \n",
       "246086     306.0  \n",
       "246087     627.0  \n",
       "246088     324.0  \n",
       "246089  279151.0  \n",
       "246090     175.0  \n",
       "\n",
       "[242361 rows x 5 columns]"
      ]
     },
     "execution_count": 5,
     "metadata": {},
     "output_type": "execute_result"
    }
   ],
   "source": [
    "X"
   ]
  },
  {
   "cell_type": "code",
   "execution_count": 6,
   "id": "e563c3a3",
   "metadata": {},
   "outputs": [
    {
     "data": {
      "text/plain": [
       "242361"
      ]
     },
     "execution_count": 6,
     "metadata": {},
     "output_type": "execute_result"
    }
   ],
   "source": [
    "len(y)"
   ]
  },
  {
   "cell_type": "code",
   "execution_count": 7,
   "id": "57926b7c",
   "metadata": {},
   "outputs": [
    {
     "data": {
      "application/vnd.microsoft.datawrangler.viewer.v0+json": {
       "columns": [
        {
         "name": "index",
         "rawType": "int64",
         "type": "integer"
        },
        {
         "name": "Crop",
         "rawType": "object",
         "type": "string"
        }
       ],
       "ref": "dd81b535-3647-4696-8bcf-42a3bc50ac6b",
       "rows": [
        [
         "0",
         "Arecanut"
        ],
        [
         "1",
         "Other Kharif pulses"
        ],
        [
         "2",
         "Rice"
        ],
        [
         "3",
         "Banana"
        ],
        [
         "4",
         "Cashewnut"
        ],
        [
         "5",
         "Coconut "
        ],
        [
         "6",
         "Dry ginger"
        ],
        [
         "7",
         "Sugarcane"
        ],
        [
         "8",
         "Sweet potato"
        ],
        [
         "9",
         "Tapioca"
        ],
        [
         "10",
         "Arecanut"
        ],
        [
         "11",
         "Other Kharif pulses"
        ],
        [
         "12",
         "Rice"
        ],
        [
         "13",
         "Cashewnut"
        ],
        [
         "14",
         "Coconut "
        ],
        [
         "15",
         "Dry ginger"
        ],
        [
         "16",
         "Sugarcane"
        ],
        [
         "17",
         "Sweet potato"
        ],
        [
         "18",
         "Rice"
        ],
        [
         "19",
         "Arecanut"
        ],
        [
         "20",
         "Banana"
        ],
        [
         "21",
         "Black pepper"
        ],
        [
         "22",
         "Cashewnut"
        ],
        [
         "23",
         "Coconut "
        ],
        [
         "24",
         "Dry chillies"
        ],
        [
         "25",
         "Dry ginger"
        ],
        [
         "26",
         "Sugarcane"
        ],
        [
         "27",
         "Rice"
        ],
        [
         "28",
         "Arecanut"
        ],
        [
         "29",
         "Banana"
        ],
        [
         "30",
         "Black pepper"
        ],
        [
         "31",
         "Cashewnut"
        ],
        [
         "32",
         "Coconut "
        ],
        [
         "33",
         "Dry chillies"
        ],
        [
         "34",
         "Dry ginger"
        ],
        [
         "35",
         "other oilseeds"
        ],
        [
         "36",
         "Rice"
        ],
        [
         "37",
         "Arecanut"
        ],
        [
         "38",
         "Banana"
        ],
        [
         "39",
         "Black pepper"
        ],
        [
         "40",
         "Cashewnut"
        ],
        [
         "41",
         "Coconut "
        ],
        [
         "42",
         "Dry chillies"
        ],
        [
         "43",
         "Dry ginger"
        ],
        [
         "44",
         "other oilseeds"
        ],
        [
         "45",
         "Rice"
        ],
        [
         "47",
         "Banana"
        ],
        [
         "48",
         "Black pepper"
        ],
        [
         "49",
         "Cashewnut"
        ],
        [
         "50",
         "Coconut "
        ]
       ],
       "shape": {
        "columns": 1,
        "rows": 242361
       }
      },
      "text/plain": [
       "0                    Arecanut\n",
       "1         Other Kharif pulses\n",
       "2                        Rice\n",
       "3                      Banana\n",
       "4                   Cashewnut\n",
       "                 ...         \n",
       "246086                   Rice\n",
       "246087                Sesamum\n",
       "246088              Sugarcane\n",
       "246089                   Rice\n",
       "246090                Sesamum\n",
       "Name: Crop, Length: 242361, dtype: object"
      ]
     },
     "execution_count": 7,
     "metadata": {},
     "output_type": "execute_result"
    }
   ],
   "source": [
    "y"
   ]
  },
  {
   "cell_type": "code",
   "execution_count": 8,
   "metadata": {},
   "outputs": [],
   "source": [
    "# Preprocessing pipeline\n",
    "categorical_transformer = OneHotEncoder(handle_unknown='ignore')\n",
    "numeric_transformer = StandardScaler()\n",
    "\n",
    "preprocessor = ColumnTransformer(\n",
    "    transformers=[\n",
    "        ('cat', categorical_transformer, categorical_features),\n",
    "        ('num', numeric_transformer, numeric_features)\n",
    "    ])\n",
    "\n"
   ]
  },
  {
   "cell_type": "code",
   "execution_count": 9,
   "id": "db296042",
   "metadata": {},
   "outputs": [],
   "source": [
    "# Train-test split\n",
    "X_train, X_test, y_train, y_test = train_test_split(X, y, test_size=0.2, random_state=42)"
   ]
  },
  {
   "cell_type": "code",
   "execution_count": 10,
   "id": "78f5e7ba",
   "metadata": {},
   "outputs": [
    {
     "name": "stdout",
     "output_type": "stream",
     "text": [
      "Shape of preprocessed training data: (193888, 687)\n",
      "Shape of preprocessed test data: (48473, 687)\n"
     ]
    }
   ],
   "source": [
    "# Fit the preprocessor only on training data\n",
    "X_train_prep = preprocessor.fit_transform(X_train)\n",
    "\n",
    "# Transform the test data\n",
    "X_test_prep = preprocessor.transform(X_test)\n",
    "\n",
    "print(\"Shape of preprocessed training data:\", X_train_prep.shape)\n",
    "print(\"Shape of preprocessed test data:\", X_test_prep.shape)\n"
   ]
  },
  {
   "cell_type": "code",
   "execution_count": 11,
   "id": "9f34b13f",
   "metadata": {},
   "outputs": [
    {
     "data": {
      "application/vnd.microsoft.datawrangler.viewer.v0+json": {
       "columns": [
        {
         "name": "index",
         "rawType": "int64",
         "type": "integer"
        },
        {
         "name": "State_Name_Andaman and Nicobar Islands",
         "rawType": "float64",
         "type": "float"
        },
        {
         "name": "State_Name_Andhra Pradesh",
         "rawType": "float64",
         "type": "float"
        },
        {
         "name": "State_Name_Arunachal Pradesh",
         "rawType": "float64",
         "type": "float"
        },
        {
         "name": "State_Name_Assam",
         "rawType": "float64",
         "type": "float"
        },
        {
         "name": "State_Name_Bihar",
         "rawType": "float64",
         "type": "float"
        },
        {
         "name": "State_Name_Chandigarh",
         "rawType": "float64",
         "type": "float"
        },
        {
         "name": "State_Name_Chhattisgarh",
         "rawType": "float64",
         "type": "float"
        },
        {
         "name": "State_Name_Dadra and Nagar Haveli",
         "rawType": "float64",
         "type": "float"
        },
        {
         "name": "State_Name_Goa",
         "rawType": "float64",
         "type": "float"
        },
        {
         "name": "State_Name_Gujarat",
         "rawType": "float64",
         "type": "float"
        },
        {
         "name": "State_Name_Haryana",
         "rawType": "float64",
         "type": "float"
        },
        {
         "name": "State_Name_Himachal Pradesh",
         "rawType": "float64",
         "type": "float"
        },
        {
         "name": "State_Name_Jammu and Kashmir ",
         "rawType": "float64",
         "type": "float"
        },
        {
         "name": "State_Name_Jharkhand",
         "rawType": "float64",
         "type": "float"
        },
        {
         "name": "State_Name_Karnataka",
         "rawType": "float64",
         "type": "float"
        },
        {
         "name": "State_Name_Kerala",
         "rawType": "float64",
         "type": "float"
        },
        {
         "name": "State_Name_Madhya Pradesh",
         "rawType": "float64",
         "type": "float"
        },
        {
         "name": "State_Name_Maharashtra",
         "rawType": "float64",
         "type": "float"
        },
        {
         "name": "State_Name_Manipur",
         "rawType": "float64",
         "type": "float"
        },
        {
         "name": "State_Name_Meghalaya",
         "rawType": "float64",
         "type": "float"
        },
        {
         "name": "State_Name_Mizoram",
         "rawType": "float64",
         "type": "float"
        },
        {
         "name": "State_Name_Nagaland",
         "rawType": "float64",
         "type": "float"
        },
        {
         "name": "State_Name_Odisha",
         "rawType": "float64",
         "type": "float"
        },
        {
         "name": "State_Name_Puducherry",
         "rawType": "float64",
         "type": "float"
        },
        {
         "name": "State_Name_Punjab",
         "rawType": "float64",
         "type": "float"
        },
        {
         "name": "State_Name_Rajasthan",
         "rawType": "float64",
         "type": "float"
        },
        {
         "name": "State_Name_Sikkim",
         "rawType": "float64",
         "type": "float"
        },
        {
         "name": "State_Name_Tamil Nadu",
         "rawType": "float64",
         "type": "float"
        },
        {
         "name": "State_Name_Telangana ",
         "rawType": "float64",
         "type": "float"
        },
        {
         "name": "State_Name_Tripura",
         "rawType": "float64",
         "type": "float"
        },
        {
         "name": "State_Name_Uttar Pradesh",
         "rawType": "float64",
         "type": "float"
        },
        {
         "name": "State_Name_Uttarakhand",
         "rawType": "float64",
         "type": "float"
        },
        {
         "name": "State_Name_West Bengal",
         "rawType": "float64",
         "type": "float"
        },
        {
         "name": "District_Name_24 PARAGANAS NORTH",
         "rawType": "float64",
         "type": "float"
        },
        {
         "name": "District_Name_24 PARAGANAS SOUTH",
         "rawType": "float64",
         "type": "float"
        },
        {
         "name": "District_Name_ADILABAD",
         "rawType": "float64",
         "type": "float"
        },
        {
         "name": "District_Name_AGAR MALWA",
         "rawType": "float64",
         "type": "float"
        },
        {
         "name": "District_Name_AGRA",
         "rawType": "float64",
         "type": "float"
        },
        {
         "name": "District_Name_AHMADABAD",
         "rawType": "float64",
         "type": "float"
        },
        {
         "name": "District_Name_AHMEDNAGAR",
         "rawType": "float64",
         "type": "float"
        },
        {
         "name": "District_Name_AIZAWL",
         "rawType": "float64",
         "type": "float"
        },
        {
         "name": "District_Name_AJMER",
         "rawType": "float64",
         "type": "float"
        },
        {
         "name": "District_Name_AKOLA",
         "rawType": "float64",
         "type": "float"
        },
        {
         "name": "District_Name_ALAPPUZHA",
         "rawType": "float64",
         "type": "float"
        },
        {
         "name": "District_Name_ALIGARH",
         "rawType": "float64",
         "type": "float"
        },
        {
         "name": "District_Name_ALIRAJPUR",
         "rawType": "float64",
         "type": "float"
        },
        {
         "name": "District_Name_ALLAHABAD",
         "rawType": "float64",
         "type": "float"
        },
        {
         "name": "District_Name_ALMORA",
         "rawType": "float64",
         "type": "float"
        },
        {
         "name": "District_Name_ALWAR",
         "rawType": "float64",
         "type": "float"
        },
        {
         "name": "District_Name_AMBALA",
         "rawType": "float64",
         "type": "float"
        },
        {
         "name": "District_Name_AMBEDKAR NAGAR",
         "rawType": "float64",
         "type": "float"
        },
        {
         "name": "District_Name_AMETHI",
         "rawType": "float64",
         "type": "float"
        },
        {
         "name": "District_Name_AMRAVATI",
         "rawType": "float64",
         "type": "float"
        },
        {
         "name": "District_Name_AMRELI",
         "rawType": "float64",
         "type": "float"
        },
        {
         "name": "District_Name_AMRITSAR",
         "rawType": "float64",
         "type": "float"
        },
        {
         "name": "District_Name_AMROHA",
         "rawType": "float64",
         "type": "float"
        },
        {
         "name": "District_Name_ANAND",
         "rawType": "float64",
         "type": "float"
        },
        {
         "name": "District_Name_ANANTAPUR",
         "rawType": "float64",
         "type": "float"
        },
        {
         "name": "District_Name_ANANTNAG",
         "rawType": "float64",
         "type": "float"
        },
        {
         "name": "District_Name_ANJAW",
         "rawType": "float64",
         "type": "float"
        },
        {
         "name": "District_Name_ANUGUL",
         "rawType": "float64",
         "type": "float"
        },
        {
         "name": "District_Name_ANUPPUR",
         "rawType": "float64",
         "type": "float"
        },
        {
         "name": "District_Name_ARARIA",
         "rawType": "float64",
         "type": "float"
        },
        {
         "name": "District_Name_ARIYALUR",
         "rawType": "float64",
         "type": "float"
        },
        {
         "name": "District_Name_ARWAL",
         "rawType": "float64",
         "type": "float"
        },
        {
         "name": "District_Name_ASHOKNAGAR",
         "rawType": "float64",
         "type": "float"
        },
        {
         "name": "District_Name_AURAIYA",
         "rawType": "float64",
         "type": "float"
        },
        {
         "name": "District_Name_AURANGABAD",
         "rawType": "float64",
         "type": "float"
        },
        {
         "name": "District_Name_AZAMGARH",
         "rawType": "float64",
         "type": "float"
        },
        {
         "name": "District_Name_BADGAM",
         "rawType": "float64",
         "type": "float"
        },
        {
         "name": "District_Name_BAGALKOT",
         "rawType": "float64",
         "type": "float"
        },
        {
         "name": "District_Name_BAGESHWAR",
         "rawType": "float64",
         "type": "float"
        },
        {
         "name": "District_Name_BAGHPAT",
         "rawType": "float64",
         "type": "float"
        },
        {
         "name": "District_Name_BAHRAICH",
         "rawType": "float64",
         "type": "float"
        },
        {
         "name": "District_Name_BAKSA",
         "rawType": "float64",
         "type": "float"
        },
        {
         "name": "District_Name_BALAGHAT",
         "rawType": "float64",
         "type": "float"
        },
        {
         "name": "District_Name_BALANGIR",
         "rawType": "float64",
         "type": "float"
        },
        {
         "name": "District_Name_BALESHWAR",
         "rawType": "float64",
         "type": "float"
        },
        {
         "name": "District_Name_BALLIA",
         "rawType": "float64",
         "type": "float"
        },
        {
         "name": "District_Name_BALOD",
         "rawType": "float64",
         "type": "float"
        },
        {
         "name": "District_Name_BALODA BAZAR",
         "rawType": "float64",
         "type": "float"
        },
        {
         "name": "District_Name_BALRAMPUR",
         "rawType": "float64",
         "type": "float"
        },
        {
         "name": "District_Name_BANAS KANTHA",
         "rawType": "float64",
         "type": "float"
        },
        {
         "name": "District_Name_BANDA",
         "rawType": "float64",
         "type": "float"
        },
        {
         "name": "District_Name_BANDIPORA",
         "rawType": "float64",
         "type": "float"
        },
        {
         "name": "District_Name_BANGALORE RURAL",
         "rawType": "float64",
         "type": "float"
        },
        {
         "name": "District_Name_BANKA",
         "rawType": "float64",
         "type": "float"
        },
        {
         "name": "District_Name_BANKURA",
         "rawType": "float64",
         "type": "float"
        },
        {
         "name": "District_Name_BANSWARA",
         "rawType": "float64",
         "type": "float"
        },
        {
         "name": "District_Name_BARABANKI",
         "rawType": "float64",
         "type": "float"
        },
        {
         "name": "District_Name_BARAMULLA",
         "rawType": "float64",
         "type": "float"
        },
        {
         "name": "District_Name_BARAN",
         "rawType": "float64",
         "type": "float"
        },
        {
         "name": "District_Name_BARDHAMAN",
         "rawType": "float64",
         "type": "float"
        },
        {
         "name": "District_Name_BAREILLY",
         "rawType": "float64",
         "type": "float"
        },
        {
         "name": "District_Name_BARGARH",
         "rawType": "float64",
         "type": "float"
        },
        {
         "name": "District_Name_BARMER",
         "rawType": "float64",
         "type": "float"
        },
        {
         "name": "District_Name_BARNALA",
         "rawType": "float64",
         "type": "float"
        },
        {
         "name": "District_Name_BARPETA",
         "rawType": "float64",
         "type": "float"
        },
        {
         "name": "District_Name_BARWANI",
         "rawType": "float64",
         "type": "float"
        },
        {
         "name": "District_Name_BASTAR",
         "rawType": "float64",
         "type": "float"
        },
        {
         "name": "District_Name_BASTI",
         "rawType": "float64",
         "type": "float"
        },
        {
         "name": "District_Name_BATHINDA",
         "rawType": "float64",
         "type": "float"
        },
        {
         "name": "District_Name_BEED",
         "rawType": "float64",
         "type": "float"
        },
        {
         "name": "District_Name_BEGUSARAI",
         "rawType": "float64",
         "type": "float"
        },
        {
         "name": "District_Name_BELGAUM",
         "rawType": "float64",
         "type": "float"
        },
        {
         "name": "District_Name_BELLARY",
         "rawType": "float64",
         "type": "float"
        },
        {
         "name": "District_Name_BEMETARA",
         "rawType": "float64",
         "type": "float"
        },
        {
         "name": "District_Name_BENGALURU URBAN",
         "rawType": "float64",
         "type": "float"
        },
        {
         "name": "District_Name_BETUL",
         "rawType": "float64",
         "type": "float"
        },
        {
         "name": "District_Name_BHADRAK",
         "rawType": "float64",
         "type": "float"
        },
        {
         "name": "District_Name_BHAGALPUR",
         "rawType": "float64",
         "type": "float"
        },
        {
         "name": "District_Name_BHANDARA",
         "rawType": "float64",
         "type": "float"
        },
        {
         "name": "District_Name_BHARATPUR",
         "rawType": "float64",
         "type": "float"
        },
        {
         "name": "District_Name_BHARUCH",
         "rawType": "float64",
         "type": "float"
        },
        {
         "name": "District_Name_BHAVNAGAR",
         "rawType": "float64",
         "type": "float"
        },
        {
         "name": "District_Name_BHILWARA",
         "rawType": "float64",
         "type": "float"
        },
        {
         "name": "District_Name_BHIND",
         "rawType": "float64",
         "type": "float"
        },
        {
         "name": "District_Name_BHIWANI",
         "rawType": "float64",
         "type": "float"
        },
        {
         "name": "District_Name_BHOJPUR",
         "rawType": "float64",
         "type": "float"
        },
        {
         "name": "District_Name_BHOPAL",
         "rawType": "float64",
         "type": "float"
        },
        {
         "name": "District_Name_BIDAR",
         "rawType": "float64",
         "type": "float"
        },
        {
         "name": "District_Name_BIJAPUR",
         "rawType": "float64",
         "type": "float"
        },
        {
         "name": "District_Name_BIJNOR",
         "rawType": "float64",
         "type": "float"
        },
        {
         "name": "District_Name_BIKANER",
         "rawType": "float64",
         "type": "float"
        },
        {
         "name": "District_Name_BILASPUR",
         "rawType": "float64",
         "type": "float"
        },
        {
         "name": "District_Name_BIRBHUM",
         "rawType": "float64",
         "type": "float"
        },
        {
         "name": "District_Name_BISHNUPUR",
         "rawType": "float64",
         "type": "float"
        },
        {
         "name": "District_Name_BOKARO",
         "rawType": "float64",
         "type": "float"
        },
        {
         "name": "District_Name_BONGAIGAON",
         "rawType": "float64",
         "type": "float"
        },
        {
         "name": "District_Name_BOUDH",
         "rawType": "float64",
         "type": "float"
        },
        {
         "name": "District_Name_BUDAUN",
         "rawType": "float64",
         "type": "float"
        },
        {
         "name": "District_Name_BULANDSHAHR",
         "rawType": "float64",
         "type": "float"
        },
        {
         "name": "District_Name_BULDHANA",
         "rawType": "float64",
         "type": "float"
        },
        {
         "name": "District_Name_BUNDI",
         "rawType": "float64",
         "type": "float"
        },
        {
         "name": "District_Name_BURHANPUR",
         "rawType": "float64",
         "type": "float"
        },
        {
         "name": "District_Name_BUXAR",
         "rawType": "float64",
         "type": "float"
        },
        {
         "name": "District_Name_CACHAR",
         "rawType": "float64",
         "type": "float"
        },
        {
         "name": "District_Name_CHAMARAJANAGAR",
         "rawType": "float64",
         "type": "float"
        },
        {
         "name": "District_Name_CHAMBA",
         "rawType": "float64",
         "type": "float"
        },
        {
         "name": "District_Name_CHAMOLI",
         "rawType": "float64",
         "type": "float"
        },
        {
         "name": "District_Name_CHAMPAWAT",
         "rawType": "float64",
         "type": "float"
        },
        {
         "name": "District_Name_CHAMPHAI",
         "rawType": "float64",
         "type": "float"
        },
        {
         "name": "District_Name_CHANDAULI",
         "rawType": "float64",
         "type": "float"
        },
        {
         "name": "District_Name_CHANDEL",
         "rawType": "float64",
         "type": "float"
        },
        {
         "name": "District_Name_CHANDIGARH",
         "rawType": "float64",
         "type": "float"
        },
        {
         "name": "District_Name_CHANDRAPUR",
         "rawType": "float64",
         "type": "float"
        },
        {
         "name": "District_Name_CHANGLANG",
         "rawType": "float64",
         "type": "float"
        },
        {
         "name": "District_Name_CHATRA",
         "rawType": "float64",
         "type": "float"
        },
        {
         "name": "District_Name_CHHATARPUR",
         "rawType": "float64",
         "type": "float"
        },
        {
         "name": "District_Name_CHHINDWARA",
         "rawType": "float64",
         "type": "float"
        },
        {
         "name": "District_Name_CHIKBALLAPUR",
         "rawType": "float64",
         "type": "float"
        },
        {
         "name": "District_Name_CHIKMAGALUR",
         "rawType": "float64",
         "type": "float"
        },
        {
         "name": "District_Name_CHIRANG",
         "rawType": "float64",
         "type": "float"
        },
        {
         "name": "District_Name_CHITRADURGA",
         "rawType": "float64",
         "type": "float"
        },
        {
         "name": "District_Name_CHITRAKOOT",
         "rawType": "float64",
         "type": "float"
        },
        {
         "name": "District_Name_CHITTOOR",
         "rawType": "float64",
         "type": "float"
        },
        {
         "name": "District_Name_CHITTORGARH",
         "rawType": "float64",
         "type": "float"
        },
        {
         "name": "District_Name_CHURACHANDPUR",
         "rawType": "float64",
         "type": "float"
        },
        {
         "name": "District_Name_CHURU",
         "rawType": "float64",
         "type": "float"
        },
        {
         "name": "District_Name_COIMBATORE",
         "rawType": "float64",
         "type": "float"
        },
        {
         "name": "District_Name_COOCHBEHAR",
         "rawType": "float64",
         "type": "float"
        },
        {
         "name": "District_Name_CUDDALORE",
         "rawType": "float64",
         "type": "float"
        },
        {
         "name": "District_Name_CUTTACK",
         "rawType": "float64",
         "type": "float"
        },
        {
         "name": "District_Name_DADRA AND NAGAR HAVELI",
         "rawType": "float64",
         "type": "float"
        },
        {
         "name": "District_Name_DAKSHIN KANNAD",
         "rawType": "float64",
         "type": "float"
        },
        {
         "name": "District_Name_DAMOH",
         "rawType": "float64",
         "type": "float"
        },
        {
         "name": "District_Name_DANG",
         "rawType": "float64",
         "type": "float"
        },
        {
         "name": "District_Name_DANTEWADA",
         "rawType": "float64",
         "type": "float"
        },
        {
         "name": "District_Name_DARBHANGA",
         "rawType": "float64",
         "type": "float"
        },
        {
         "name": "District_Name_DARJEELING",
         "rawType": "float64",
         "type": "float"
        },
        {
         "name": "District_Name_DARRANG",
         "rawType": "float64",
         "type": "float"
        },
        {
         "name": "District_Name_DATIA",
         "rawType": "float64",
         "type": "float"
        },
        {
         "name": "District_Name_DAUSA",
         "rawType": "float64",
         "type": "float"
        },
        {
         "name": "District_Name_DAVANGERE",
         "rawType": "float64",
         "type": "float"
        },
        {
         "name": "District_Name_DEHRADUN",
         "rawType": "float64",
         "type": "float"
        },
        {
         "name": "District_Name_DEOGARH",
         "rawType": "float64",
         "type": "float"
        },
        {
         "name": "District_Name_DEOGHAR",
         "rawType": "float64",
         "type": "float"
        },
        {
         "name": "District_Name_DEORIA",
         "rawType": "float64",
         "type": "float"
        },
        {
         "name": "District_Name_DEWAS",
         "rawType": "float64",
         "type": "float"
        },
        {
         "name": "District_Name_DHALAI",
         "rawType": "float64",
         "type": "float"
        },
        {
         "name": "District_Name_DHAMTARI",
         "rawType": "float64",
         "type": "float"
        },
        {
         "name": "District_Name_DHANBAD",
         "rawType": "float64",
         "type": "float"
        },
        {
         "name": "District_Name_DHAR",
         "rawType": "float64",
         "type": "float"
        },
        {
         "name": "District_Name_DHARMAPURI",
         "rawType": "float64",
         "type": "float"
        },
        {
         "name": "District_Name_DHARWAD",
         "rawType": "float64",
         "type": "float"
        },
        {
         "name": "District_Name_DHEMAJI",
         "rawType": "float64",
         "type": "float"
        },
        {
         "name": "District_Name_DHENKANAL",
         "rawType": "float64",
         "type": "float"
        },
        {
         "name": "District_Name_DHOLPUR",
         "rawType": "float64",
         "type": "float"
        },
        {
         "name": "District_Name_DHUBRI",
         "rawType": "float64",
         "type": "float"
        },
        {
         "name": "District_Name_DHULE",
         "rawType": "float64",
         "type": "float"
        },
        {
         "name": "District_Name_DIBANG VALLEY",
         "rawType": "float64",
         "type": "float"
        },
        {
         "name": "District_Name_DIBRUGARH",
         "rawType": "float64",
         "type": "float"
        },
        {
         "name": "District_Name_DIMA HASAO",
         "rawType": "float64",
         "type": "float"
        },
        {
         "name": "District_Name_DIMAPUR",
         "rawType": "float64",
         "type": "float"
        },
        {
         "name": "District_Name_DINAJPUR DAKSHIN",
         "rawType": "float64",
         "type": "float"
        },
        {
         "name": "District_Name_DINAJPUR UTTAR",
         "rawType": "float64",
         "type": "float"
        },
        {
         "name": "District_Name_DINDIGUL",
         "rawType": "float64",
         "type": "float"
        },
        {
         "name": "District_Name_DINDORI",
         "rawType": "float64",
         "type": "float"
        },
        {
         "name": "District_Name_DODA",
         "rawType": "float64",
         "type": "float"
        },
        {
         "name": "District_Name_DOHAD",
         "rawType": "float64",
         "type": "float"
        },
        {
         "name": "District_Name_DUMKA",
         "rawType": "float64",
         "type": "float"
        },
        {
         "name": "District_Name_DUNGARPUR",
         "rawType": "float64",
         "type": "float"
        },
        {
         "name": "District_Name_DURG",
         "rawType": "float64",
         "type": "float"
        },
        {
         "name": "District_Name_EAST DISTRICT",
         "rawType": "float64",
         "type": "float"
        },
        {
         "name": "District_Name_EAST GARO HILLS",
         "rawType": "float64",
         "type": "float"
        },
        {
         "name": "District_Name_EAST GODAVARI",
         "rawType": "float64",
         "type": "float"
        },
        {
         "name": "District_Name_EAST JAINTIA HILLS",
         "rawType": "float64",
         "type": "float"
        },
        {
         "name": "District_Name_EAST KAMENG",
         "rawType": "float64",
         "type": "float"
        },
        {
         "name": "District_Name_EAST KHASI HILLS",
         "rawType": "float64",
         "type": "float"
        },
        {
         "name": "District_Name_EAST SIANG",
         "rawType": "float64",
         "type": "float"
        },
        {
         "name": "District_Name_EAST SINGHBUM",
         "rawType": "float64",
         "type": "float"
        },
        {
         "name": "District_Name_ERNAKULAM",
         "rawType": "float64",
         "type": "float"
        },
        {
         "name": "District_Name_ERODE",
         "rawType": "float64",
         "type": "float"
        },
        {
         "name": "District_Name_ETAH",
         "rawType": "float64",
         "type": "float"
        },
        {
         "name": "District_Name_ETAWAH",
         "rawType": "float64",
         "type": "float"
        },
        {
         "name": "District_Name_FAIZABAD",
         "rawType": "float64",
         "type": "float"
        },
        {
         "name": "District_Name_FARIDABAD",
         "rawType": "float64",
         "type": "float"
        },
        {
         "name": "District_Name_FARIDKOT",
         "rawType": "float64",
         "type": "float"
        },
        {
         "name": "District_Name_FARRUKHABAD",
         "rawType": "float64",
         "type": "float"
        },
        {
         "name": "District_Name_FATEHABAD",
         "rawType": "float64",
         "type": "float"
        },
        {
         "name": "District_Name_FATEHGARH SAHIB",
         "rawType": "float64",
         "type": "float"
        },
        {
         "name": "District_Name_FATEHPUR",
         "rawType": "float64",
         "type": "float"
        },
        {
         "name": "District_Name_FAZILKA",
         "rawType": "float64",
         "type": "float"
        },
        {
         "name": "District_Name_FIROZABAD",
         "rawType": "float64",
         "type": "float"
        },
        {
         "name": "District_Name_FIROZEPUR",
         "rawType": "float64",
         "type": "float"
        },
        {
         "name": "District_Name_GADAG",
         "rawType": "float64",
         "type": "float"
        },
        {
         "name": "District_Name_GADCHIROLI",
         "rawType": "float64",
         "type": "float"
        },
        {
         "name": "District_Name_GAJAPATI",
         "rawType": "float64",
         "type": "float"
        },
        {
         "name": "District_Name_GANDERBAL",
         "rawType": "float64",
         "type": "float"
        },
        {
         "name": "District_Name_GANDHINAGAR",
         "rawType": "float64",
         "type": "float"
        },
        {
         "name": "District_Name_GANGANAGAR",
         "rawType": "float64",
         "type": "float"
        },
        {
         "name": "District_Name_GANJAM",
         "rawType": "float64",
         "type": "float"
        },
        {
         "name": "District_Name_GARHWA",
         "rawType": "float64",
         "type": "float"
        },
        {
         "name": "District_Name_GARIYABAND",
         "rawType": "float64",
         "type": "float"
        },
        {
         "name": "District_Name_GAUTAM BUDDHA NAGAR",
         "rawType": "float64",
         "type": "float"
        },
        {
         "name": "District_Name_GAYA",
         "rawType": "float64",
         "type": "float"
        },
        {
         "name": "District_Name_GHAZIABAD",
         "rawType": "float64",
         "type": "float"
        },
        {
         "name": "District_Name_GHAZIPUR",
         "rawType": "float64",
         "type": "float"
        },
        {
         "name": "District_Name_GIRIDIH",
         "rawType": "float64",
         "type": "float"
        },
        {
         "name": "District_Name_GOALPARA",
         "rawType": "float64",
         "type": "float"
        },
        {
         "name": "District_Name_GODDA",
         "rawType": "float64",
         "type": "float"
        },
        {
         "name": "District_Name_GOLAGHAT",
         "rawType": "float64",
         "type": "float"
        },
        {
         "name": "District_Name_GOMATI",
         "rawType": "float64",
         "type": "float"
        },
        {
         "name": "District_Name_GONDA",
         "rawType": "float64",
         "type": "float"
        },
        {
         "name": "District_Name_GONDIA",
         "rawType": "float64",
         "type": "float"
        },
        {
         "name": "District_Name_GOPALGANJ",
         "rawType": "float64",
         "type": "float"
        },
        {
         "name": "District_Name_GORAKHPUR",
         "rawType": "float64",
         "type": "float"
        },
        {
         "name": "District_Name_GULBARGA",
         "rawType": "float64",
         "type": "float"
        },
        {
         "name": "District_Name_GUMLA",
         "rawType": "float64",
         "type": "float"
        },
        {
         "name": "District_Name_GUNA",
         "rawType": "float64",
         "type": "float"
        },
        {
         "name": "District_Name_GUNTUR",
         "rawType": "float64",
         "type": "float"
        },
        {
         "name": "District_Name_GURDASPUR",
         "rawType": "float64",
         "type": "float"
        },
        {
         "name": "District_Name_GURGAON",
         "rawType": "float64",
         "type": "float"
        },
        {
         "name": "District_Name_GWALIOR",
         "rawType": "float64",
         "type": "float"
        },
        {
         "name": "District_Name_HAILAKANDI",
         "rawType": "float64",
         "type": "float"
        },
        {
         "name": "District_Name_HAMIRPUR",
         "rawType": "float64",
         "type": "float"
        },
        {
         "name": "District_Name_HANUMANGARH",
         "rawType": "float64",
         "type": "float"
        },
        {
         "name": "District_Name_HAPUR",
         "rawType": "float64",
         "type": "float"
        },
        {
         "name": "District_Name_HARDA",
         "rawType": "float64",
         "type": "float"
        },
        {
         "name": "District_Name_HARDOI",
         "rawType": "float64",
         "type": "float"
        },
        {
         "name": "District_Name_HARIDWAR",
         "rawType": "float64",
         "type": "float"
        },
        {
         "name": "District_Name_HASSAN",
         "rawType": "float64",
         "type": "float"
        },
        {
         "name": "District_Name_HATHRAS",
         "rawType": "float64",
         "type": "float"
        },
        {
         "name": "District_Name_HAVERI",
         "rawType": "float64",
         "type": "float"
        },
        {
         "name": "District_Name_HAZARIBAGH",
         "rawType": "float64",
         "type": "float"
        },
        {
         "name": "District_Name_HINGOLI",
         "rawType": "float64",
         "type": "float"
        },
        {
         "name": "District_Name_HISAR",
         "rawType": "float64",
         "type": "float"
        },
        {
         "name": "District_Name_HOOGHLY",
         "rawType": "float64",
         "type": "float"
        },
        {
         "name": "District_Name_HOSHANGABAD",
         "rawType": "float64",
         "type": "float"
        },
        {
         "name": "District_Name_HOSHIARPUR",
         "rawType": "float64",
         "type": "float"
        },
        {
         "name": "District_Name_HOWRAH",
         "rawType": "float64",
         "type": "float"
        },
        {
         "name": "District_Name_HYDERABAD",
         "rawType": "float64",
         "type": "float"
        },
        {
         "name": "District_Name_IDUKKI",
         "rawType": "float64",
         "type": "float"
        },
        {
         "name": "District_Name_IMPHAL EAST",
         "rawType": "float64",
         "type": "float"
        },
        {
         "name": "District_Name_IMPHAL WEST",
         "rawType": "float64",
         "type": "float"
        },
        {
         "name": "District_Name_INDORE",
         "rawType": "float64",
         "type": "float"
        },
        {
         "name": "District_Name_JABALPUR",
         "rawType": "float64",
         "type": "float"
        },
        {
         "name": "District_Name_JAGATSINGHAPUR",
         "rawType": "float64",
         "type": "float"
        },
        {
         "name": "District_Name_JAIPUR",
         "rawType": "float64",
         "type": "float"
        },
        {
         "name": "District_Name_JAISALMER",
         "rawType": "float64",
         "type": "float"
        },
        {
         "name": "District_Name_JAJAPUR",
         "rawType": "float64",
         "type": "float"
        },
        {
         "name": "District_Name_JALANDHAR",
         "rawType": "float64",
         "type": "float"
        },
        {
         "name": "District_Name_JALAUN",
         "rawType": "float64",
         "type": "float"
        },
        {
         "name": "District_Name_JALGAON",
         "rawType": "float64",
         "type": "float"
        },
        {
         "name": "District_Name_JALNA",
         "rawType": "float64",
         "type": "float"
        },
        {
         "name": "District_Name_JALORE",
         "rawType": "float64",
         "type": "float"
        },
        {
         "name": "District_Name_JALPAIGURI",
         "rawType": "float64",
         "type": "float"
        },
        {
         "name": "District_Name_JAMMU",
         "rawType": "float64",
         "type": "float"
        },
        {
         "name": "District_Name_JAMNAGAR",
         "rawType": "float64",
         "type": "float"
        },
        {
         "name": "District_Name_JAMTARA",
         "rawType": "float64",
         "type": "float"
        },
        {
         "name": "District_Name_JAMUI",
         "rawType": "float64",
         "type": "float"
        },
        {
         "name": "District_Name_JANJGIR-CHAMPA",
         "rawType": "float64",
         "type": "float"
        },
        {
         "name": "District_Name_JASHPUR",
         "rawType": "float64",
         "type": "float"
        },
        {
         "name": "District_Name_JAUNPUR",
         "rawType": "float64",
         "type": "float"
        },
        {
         "name": "District_Name_JEHANABAD",
         "rawType": "float64",
         "type": "float"
        },
        {
         "name": "District_Name_JHABUA",
         "rawType": "float64",
         "type": "float"
        },
        {
         "name": "District_Name_JHAJJAR",
         "rawType": "float64",
         "type": "float"
        },
        {
         "name": "District_Name_JHALAWAR",
         "rawType": "float64",
         "type": "float"
        },
        {
         "name": "District_Name_JHANSI",
         "rawType": "float64",
         "type": "float"
        },
        {
         "name": "District_Name_JHARSUGUDA",
         "rawType": "float64",
         "type": "float"
        },
        {
         "name": "District_Name_JHUNJHUNU",
         "rawType": "float64",
         "type": "float"
        },
        {
         "name": "District_Name_JIND",
         "rawType": "float64",
         "type": "float"
        },
        {
         "name": "District_Name_JODHPUR",
         "rawType": "float64",
         "type": "float"
        },
        {
         "name": "District_Name_JORHAT",
         "rawType": "float64",
         "type": "float"
        },
        {
         "name": "District_Name_JUNAGADH",
         "rawType": "float64",
         "type": "float"
        },
        {
         "name": "District_Name_KABIRDHAM",
         "rawType": "float64",
         "type": "float"
        },
        {
         "name": "District_Name_KACHCHH",
         "rawType": "float64",
         "type": "float"
        },
        {
         "name": "District_Name_KADAPA",
         "rawType": "float64",
         "type": "float"
        },
        {
         "name": "District_Name_KAIMUR (BHABUA)",
         "rawType": "float64",
         "type": "float"
        },
        {
         "name": "District_Name_KAITHAL",
         "rawType": "float64",
         "type": "float"
        },
        {
         "name": "District_Name_KALAHANDI",
         "rawType": "float64",
         "type": "float"
        },
        {
         "name": "District_Name_KAMRUP",
         "rawType": "float64",
         "type": "float"
        },
        {
         "name": "District_Name_KAMRUP METRO",
         "rawType": "float64",
         "type": "float"
        },
        {
         "name": "District_Name_KANCHIPURAM",
         "rawType": "float64",
         "type": "float"
        },
        {
         "name": "District_Name_KANDHAMAL",
         "rawType": "float64",
         "type": "float"
        },
        {
         "name": "District_Name_KANGRA",
         "rawType": "float64",
         "type": "float"
        },
        {
         "name": "District_Name_KANKER",
         "rawType": "float64",
         "type": "float"
        },
        {
         "name": "District_Name_KANNAUJ",
         "rawType": "float64",
         "type": "float"
        },
        {
         "name": "District_Name_KANNIYAKUMARI",
         "rawType": "float64",
         "type": "float"
        },
        {
         "name": "District_Name_KANNUR",
         "rawType": "float64",
         "type": "float"
        },
        {
         "name": "District_Name_KANPUR DEHAT",
         "rawType": "float64",
         "type": "float"
        },
        {
         "name": "District_Name_KANPUR NAGAR",
         "rawType": "float64",
         "type": "float"
        },
        {
         "name": "District_Name_KAPURTHALA",
         "rawType": "float64",
         "type": "float"
        },
        {
         "name": "District_Name_KARAIKAL",
         "rawType": "float64",
         "type": "float"
        },
        {
         "name": "District_Name_KARAULI",
         "rawType": "float64",
         "type": "float"
        },
        {
         "name": "District_Name_KARBI ANGLONG",
         "rawType": "float64",
         "type": "float"
        },
        {
         "name": "District_Name_KARGIL",
         "rawType": "float64",
         "type": "float"
        },
        {
         "name": "District_Name_KARIMGANJ",
         "rawType": "float64",
         "type": "float"
        },
        {
         "name": "District_Name_KARIMNAGAR",
         "rawType": "float64",
         "type": "float"
        },
        {
         "name": "District_Name_KARNAL",
         "rawType": "float64",
         "type": "float"
        },
        {
         "name": "District_Name_KARUR",
         "rawType": "float64",
         "type": "float"
        },
        {
         "name": "District_Name_KASARAGOD",
         "rawType": "float64",
         "type": "float"
        },
        {
         "name": "District_Name_KASGANJ",
         "rawType": "float64",
         "type": "float"
        },
        {
         "name": "District_Name_KATHUA",
         "rawType": "float64",
         "type": "float"
        },
        {
         "name": "District_Name_KATIHAR",
         "rawType": "float64",
         "type": "float"
        },
        {
         "name": "District_Name_KATNI",
         "rawType": "float64",
         "type": "float"
        },
        {
         "name": "District_Name_KAUSHAMBI",
         "rawType": "float64",
         "type": "float"
        },
        {
         "name": "District_Name_KENDRAPARA",
         "rawType": "float64",
         "type": "float"
        },
        {
         "name": "District_Name_KENDUJHAR",
         "rawType": "float64",
         "type": "float"
        },
        {
         "name": "District_Name_KHAGARIA",
         "rawType": "float64",
         "type": "float"
        },
        {
         "name": "District_Name_KHAMMAM",
         "rawType": "float64",
         "type": "float"
        },
        {
         "name": "District_Name_KHANDWA",
         "rawType": "float64",
         "type": "float"
        },
        {
         "name": "District_Name_KHARGONE",
         "rawType": "float64",
         "type": "float"
        },
        {
         "name": "District_Name_KHEDA",
         "rawType": "float64",
         "type": "float"
        },
        {
         "name": "District_Name_KHERI",
         "rawType": "float64",
         "type": "float"
        },
        {
         "name": "District_Name_KHORDHA",
         "rawType": "float64",
         "type": "float"
        },
        {
         "name": "District_Name_KHOWAI",
         "rawType": "float64",
         "type": "float"
        },
        {
         "name": "District_Name_KHUNTI",
         "rawType": "float64",
         "type": "float"
        },
        {
         "name": "District_Name_KINNAUR",
         "rawType": "float64",
         "type": "float"
        },
        {
         "name": "District_Name_KIPHIRE",
         "rawType": "float64",
         "type": "float"
        },
        {
         "name": "District_Name_KISHANGANJ",
         "rawType": "float64",
         "type": "float"
        },
        {
         "name": "District_Name_KISHTWAR",
         "rawType": "float64",
         "type": "float"
        },
        {
         "name": "District_Name_KODAGU",
         "rawType": "float64",
         "type": "float"
        },
        {
         "name": "District_Name_KODERMA",
         "rawType": "float64",
         "type": "float"
        },
        {
         "name": "District_Name_KOHIMA",
         "rawType": "float64",
         "type": "float"
        },
        {
         "name": "District_Name_KOKRAJHAR",
         "rawType": "float64",
         "type": "float"
        },
        {
         "name": "District_Name_KOLAR",
         "rawType": "float64",
         "type": "float"
        },
        {
         "name": "District_Name_KOLASIB",
         "rawType": "float64",
         "type": "float"
        },
        {
         "name": "District_Name_KOLHAPUR",
         "rawType": "float64",
         "type": "float"
        },
        {
         "name": "District_Name_KOLLAM",
         "rawType": "float64",
         "type": "float"
        },
        {
         "name": "District_Name_KONDAGAON",
         "rawType": "float64",
         "type": "float"
        },
        {
         "name": "District_Name_KOPPAL",
         "rawType": "float64",
         "type": "float"
        },
        {
         "name": "District_Name_KORAPUT",
         "rawType": "float64",
         "type": "float"
        },
        {
         "name": "District_Name_KORBA",
         "rawType": "float64",
         "type": "float"
        },
        {
         "name": "District_Name_KOREA",
         "rawType": "float64",
         "type": "float"
        },
        {
         "name": "District_Name_KOTA",
         "rawType": "float64",
         "type": "float"
        },
        {
         "name": "District_Name_KOTTAYAM",
         "rawType": "float64",
         "type": "float"
        },
        {
         "name": "District_Name_KOZHIKODE",
         "rawType": "float64",
         "type": "float"
        },
        {
         "name": "District_Name_KRISHNA",
         "rawType": "float64",
         "type": "float"
        },
        {
         "name": "District_Name_KRISHNAGIRI",
         "rawType": "float64",
         "type": "float"
        },
        {
         "name": "District_Name_KULGAM",
         "rawType": "float64",
         "type": "float"
        },
        {
         "name": "District_Name_KULLU",
         "rawType": "float64",
         "type": "float"
        },
        {
         "name": "District_Name_KUPWARA",
         "rawType": "float64",
         "type": "float"
        },
        {
         "name": "District_Name_KURNOOL",
         "rawType": "float64",
         "type": "float"
        },
        {
         "name": "District_Name_KURUKSHETRA",
         "rawType": "float64",
         "type": "float"
        },
        {
         "name": "District_Name_KURUNG KUMEY",
         "rawType": "float64",
         "type": "float"
        },
        {
         "name": "District_Name_KUSHI NAGAR",
         "rawType": "float64",
         "type": "float"
        },
        {
         "name": "District_Name_LAHUL AND SPITI",
         "rawType": "float64",
         "type": "float"
        },
        {
         "name": "District_Name_LAKHIMPUR",
         "rawType": "float64",
         "type": "float"
        },
        {
         "name": "District_Name_LAKHISARAI",
         "rawType": "float64",
         "type": "float"
        },
        {
         "name": "District_Name_LALITPUR",
         "rawType": "float64",
         "type": "float"
        },
        {
         "name": "District_Name_LATEHAR",
         "rawType": "float64",
         "type": "float"
        },
        {
         "name": "District_Name_LATUR",
         "rawType": "float64",
         "type": "float"
        },
        {
         "name": "District_Name_LAWNGTLAI",
         "rawType": "float64",
         "type": "float"
        },
        {
         "name": "District_Name_LEH LADAKH",
         "rawType": "float64",
         "type": "float"
        },
        {
         "name": "District_Name_LOHARDAGA",
         "rawType": "float64",
         "type": "float"
        },
        {
         "name": "District_Name_LOHIT",
         "rawType": "float64",
         "type": "float"
        },
        {
         "name": "District_Name_LONGDING",
         "rawType": "float64",
         "type": "float"
        },
        {
         "name": "District_Name_LONGLENG",
         "rawType": "float64",
         "type": "float"
        },
        {
         "name": "District_Name_LOWER DIBANG VALLEY",
         "rawType": "float64",
         "type": "float"
        },
        {
         "name": "District_Name_LOWER SUBANSIRI",
         "rawType": "float64",
         "type": "float"
        },
        {
         "name": "District_Name_LUCKNOW",
         "rawType": "float64",
         "type": "float"
        },
        {
         "name": "District_Name_LUDHIANA",
         "rawType": "float64",
         "type": "float"
        },
        {
         "name": "District_Name_LUNGLEI",
         "rawType": "float64",
         "type": "float"
        },
        {
         "name": "District_Name_MADHEPURA",
         "rawType": "float64",
         "type": "float"
        },
        {
         "name": "District_Name_MADHUBANI",
         "rawType": "float64",
         "type": "float"
        },
        {
         "name": "District_Name_MADURAI",
         "rawType": "float64",
         "type": "float"
        },
        {
         "name": "District_Name_MAHARAJGANJ",
         "rawType": "float64",
         "type": "float"
        },
        {
         "name": "District_Name_MAHASAMUND",
         "rawType": "float64",
         "type": "float"
        },
        {
         "name": "District_Name_MAHBUBNAGAR",
         "rawType": "float64",
         "type": "float"
        },
        {
         "name": "District_Name_MAHE",
         "rawType": "float64",
         "type": "float"
        },
        {
         "name": "District_Name_MAHENDRAGARH",
         "rawType": "float64",
         "type": "float"
        },
        {
         "name": "District_Name_MAHESANA",
         "rawType": "float64",
         "type": "float"
        },
        {
         "name": "District_Name_MAHOBA",
         "rawType": "float64",
         "type": "float"
        },
        {
         "name": "District_Name_MAINPURI",
         "rawType": "float64",
         "type": "float"
        },
        {
         "name": "District_Name_MALAPPURAM",
         "rawType": "float64",
         "type": "float"
        },
        {
         "name": "District_Name_MALDAH",
         "rawType": "float64",
         "type": "float"
        },
        {
         "name": "District_Name_MALKANGIRI",
         "rawType": "float64",
         "type": "float"
        },
        {
         "name": "District_Name_MAMIT",
         "rawType": "float64",
         "type": "float"
        },
        {
         "name": "District_Name_MANDI",
         "rawType": "float64",
         "type": "float"
        },
        {
         "name": "District_Name_MANDLA",
         "rawType": "float64",
         "type": "float"
        },
        {
         "name": "District_Name_MANDSAUR",
         "rawType": "float64",
         "type": "float"
        },
        {
         "name": "District_Name_MANDYA",
         "rawType": "float64",
         "type": "float"
        },
        {
         "name": "District_Name_MANSA",
         "rawType": "float64",
         "type": "float"
        },
        {
         "name": "District_Name_MARIGAON",
         "rawType": "float64",
         "type": "float"
        },
        {
         "name": "District_Name_MATHURA",
         "rawType": "float64",
         "type": "float"
        },
        {
         "name": "District_Name_MAU",
         "rawType": "float64",
         "type": "float"
        },
        {
         "name": "District_Name_MAYURBHANJ",
         "rawType": "float64",
         "type": "float"
        },
        {
         "name": "District_Name_MEDAK",
         "rawType": "float64",
         "type": "float"
        },
        {
         "name": "District_Name_MEDINIPUR EAST",
         "rawType": "float64",
         "type": "float"
        },
        {
         "name": "District_Name_MEDINIPUR WEST",
         "rawType": "float64",
         "type": "float"
        },
        {
         "name": "District_Name_MEERUT",
         "rawType": "float64",
         "type": "float"
        },
        {
         "name": "District_Name_MEWAT",
         "rawType": "float64",
         "type": "float"
        },
        {
         "name": "District_Name_MIRZAPUR",
         "rawType": "float64",
         "type": "float"
        },
        {
         "name": "District_Name_MOGA",
         "rawType": "float64",
         "type": "float"
        },
        {
         "name": "District_Name_MOKOKCHUNG",
         "rawType": "float64",
         "type": "float"
        },
        {
         "name": "District_Name_MON",
         "rawType": "float64",
         "type": "float"
        },
        {
         "name": "District_Name_MORADABAD",
         "rawType": "float64",
         "type": "float"
        },
        {
         "name": "District_Name_MORENA",
         "rawType": "float64",
         "type": "float"
        },
        {
         "name": "District_Name_MUKTSAR",
         "rawType": "float64",
         "type": "float"
        },
        {
         "name": "District_Name_MUMBAI",
         "rawType": "float64",
         "type": "float"
        },
        {
         "name": "District_Name_MUNGELI",
         "rawType": "float64",
         "type": "float"
        },
        {
         "name": "District_Name_MUNGER",
         "rawType": "float64",
         "type": "float"
        },
        {
         "name": "District_Name_MURSHIDABAD",
         "rawType": "float64",
         "type": "float"
        },
        {
         "name": "District_Name_MUZAFFARNAGAR",
         "rawType": "float64",
         "type": "float"
        },
        {
         "name": "District_Name_MUZAFFARPUR",
         "rawType": "float64",
         "type": "float"
        },
        {
         "name": "District_Name_MYSORE",
         "rawType": "float64",
         "type": "float"
        },
        {
         "name": "District_Name_NABARANGPUR",
         "rawType": "float64",
         "type": "float"
        },
        {
         "name": "District_Name_NADIA",
         "rawType": "float64",
         "type": "float"
        },
        {
         "name": "District_Name_NAGAON",
         "rawType": "float64",
         "type": "float"
        },
        {
         "name": "District_Name_NAGAPATTINAM",
         "rawType": "float64",
         "type": "float"
        },
        {
         "name": "District_Name_NAGAUR",
         "rawType": "float64",
         "type": "float"
        },
        {
         "name": "District_Name_NAGPUR",
         "rawType": "float64",
         "type": "float"
        },
        {
         "name": "District_Name_NAINITAL",
         "rawType": "float64",
         "type": "float"
        },
        {
         "name": "District_Name_NALANDA",
         "rawType": "float64",
         "type": "float"
        },
        {
         "name": "District_Name_NALBARI",
         "rawType": "float64",
         "type": "float"
        },
        {
         "name": "District_Name_NALGONDA",
         "rawType": "float64",
         "type": "float"
        },
        {
         "name": "District_Name_NAMAKKAL",
         "rawType": "float64",
         "type": "float"
        },
        {
         "name": "District_Name_NAMSAI",
         "rawType": "float64",
         "type": "float"
        },
        {
         "name": "District_Name_NANDED",
         "rawType": "float64",
         "type": "float"
        },
        {
         "name": "District_Name_NANDURBAR",
         "rawType": "float64",
         "type": "float"
        },
        {
         "name": "District_Name_NARAYANPUR",
         "rawType": "float64",
         "type": "float"
        },
        {
         "name": "District_Name_NARMADA",
         "rawType": "float64",
         "type": "float"
        },
        {
         "name": "District_Name_NARSINGHPUR",
         "rawType": "float64",
         "type": "float"
        },
        {
         "name": "District_Name_NASHIK",
         "rawType": "float64",
         "type": "float"
        },
        {
         "name": "District_Name_NAVSARI",
         "rawType": "float64",
         "type": "float"
        },
        {
         "name": "District_Name_NAWADA",
         "rawType": "float64",
         "type": "float"
        },
        {
         "name": "District_Name_NAWANSHAHR",
         "rawType": "float64",
         "type": "float"
        },
        {
         "name": "District_Name_NAYAGARH",
         "rawType": "float64",
         "type": "float"
        },
        {
         "name": "District_Name_NEEMUCH",
         "rawType": "float64",
         "type": "float"
        },
        {
         "name": "District_Name_NICOBARS",
         "rawType": "float64",
         "type": "float"
        },
        {
         "name": "District_Name_NIZAMABAD",
         "rawType": "float64",
         "type": "float"
        },
        {
         "name": "District_Name_NORTH AND MIDDLE ANDAMAN",
         "rawType": "float64",
         "type": "float"
        },
        {
         "name": "District_Name_NORTH DISTRICT",
         "rawType": "float64",
         "type": "float"
        },
        {
         "name": "District_Name_NORTH GARO HILLS",
         "rawType": "float64",
         "type": "float"
        },
        {
         "name": "District_Name_NORTH GOA",
         "rawType": "float64",
         "type": "float"
        },
        {
         "name": "District_Name_NORTH TRIPURA",
         "rawType": "float64",
         "type": "float"
        },
        {
         "name": "District_Name_NUAPADA",
         "rawType": "float64",
         "type": "float"
        },
        {
         "name": "District_Name_OSMANABAD",
         "rawType": "float64",
         "type": "float"
        },
        {
         "name": "District_Name_PAKUR",
         "rawType": "float64",
         "type": "float"
        },
        {
         "name": "District_Name_PALAKKAD",
         "rawType": "float64",
         "type": "float"
        },
        {
         "name": "District_Name_PALAMU",
         "rawType": "float64",
         "type": "float"
        },
        {
         "name": "District_Name_PALGHAR",
         "rawType": "float64",
         "type": "float"
        },
        {
         "name": "District_Name_PALI",
         "rawType": "float64",
         "type": "float"
        },
        {
         "name": "District_Name_PALWAL",
         "rawType": "float64",
         "type": "float"
        },
        {
         "name": "District_Name_PANCH MAHALS",
         "rawType": "float64",
         "type": "float"
        },
        {
         "name": "District_Name_PANCHKULA",
         "rawType": "float64",
         "type": "float"
        },
        {
         "name": "District_Name_PANIPAT",
         "rawType": "float64",
         "type": "float"
        },
        {
         "name": "District_Name_PANNA",
         "rawType": "float64",
         "type": "float"
        },
        {
         "name": "District_Name_PAPUM PARE",
         "rawType": "float64",
         "type": "float"
        },
        {
         "name": "District_Name_PARBHANI",
         "rawType": "float64",
         "type": "float"
        },
        {
         "name": "District_Name_PASHCHIM CHAMPARAN",
         "rawType": "float64",
         "type": "float"
        },
        {
         "name": "District_Name_PATAN",
         "rawType": "float64",
         "type": "float"
        },
        {
         "name": "District_Name_PATHANAMTHITTA",
         "rawType": "float64",
         "type": "float"
        },
        {
         "name": "District_Name_PATHANKOT",
         "rawType": "float64",
         "type": "float"
        },
        {
         "name": "District_Name_PATIALA",
         "rawType": "float64",
         "type": "float"
        },
        {
         "name": "District_Name_PATNA",
         "rawType": "float64",
         "type": "float"
        },
        {
         "name": "District_Name_PAURI GARHWAL",
         "rawType": "float64",
         "type": "float"
        },
        {
         "name": "District_Name_PERAMBALUR",
         "rawType": "float64",
         "type": "float"
        },
        {
         "name": "District_Name_PEREN",
         "rawType": "float64",
         "type": "float"
        },
        {
         "name": "District_Name_PHEK",
         "rawType": "float64",
         "type": "float"
        },
        {
         "name": "District_Name_PILIBHIT",
         "rawType": "float64",
         "type": "float"
        },
        {
         "name": "District_Name_PITHORAGARH",
         "rawType": "float64",
         "type": "float"
        },
        {
         "name": "District_Name_PONDICHERRY",
         "rawType": "float64",
         "type": "float"
        },
        {
         "name": "District_Name_POONCH",
         "rawType": "float64",
         "type": "float"
        },
        {
         "name": "District_Name_PORBANDAR",
         "rawType": "float64",
         "type": "float"
        },
        {
         "name": "District_Name_PRAKASAM",
         "rawType": "float64",
         "type": "float"
        },
        {
         "name": "District_Name_PRATAPGARH",
         "rawType": "float64",
         "type": "float"
        },
        {
         "name": "District_Name_PUDUKKOTTAI",
         "rawType": "float64",
         "type": "float"
        },
        {
         "name": "District_Name_PULWAMA",
         "rawType": "float64",
         "type": "float"
        },
        {
         "name": "District_Name_PUNE",
         "rawType": "float64",
         "type": "float"
        },
        {
         "name": "District_Name_PURBI CHAMPARAN",
         "rawType": "float64",
         "type": "float"
        },
        {
         "name": "District_Name_PURI",
         "rawType": "float64",
         "type": "float"
        },
        {
         "name": "District_Name_PURNIA",
         "rawType": "float64",
         "type": "float"
        },
        {
         "name": "District_Name_PURULIA",
         "rawType": "float64",
         "type": "float"
        },
        {
         "name": "District_Name_RAE BARELI",
         "rawType": "float64",
         "type": "float"
        },
        {
         "name": "District_Name_RAICHUR",
         "rawType": "float64",
         "type": "float"
        },
        {
         "name": "District_Name_RAIGAD",
         "rawType": "float64",
         "type": "float"
        },
        {
         "name": "District_Name_RAIGARH",
         "rawType": "float64",
         "type": "float"
        },
        {
         "name": "District_Name_RAIPUR",
         "rawType": "float64",
         "type": "float"
        },
        {
         "name": "District_Name_RAISEN",
         "rawType": "float64",
         "type": "float"
        },
        {
         "name": "District_Name_RAJAURI",
         "rawType": "float64",
         "type": "float"
        },
        {
         "name": "District_Name_RAJGARH",
         "rawType": "float64",
         "type": "float"
        },
        {
         "name": "District_Name_RAJKOT",
         "rawType": "float64",
         "type": "float"
        },
        {
         "name": "District_Name_RAJNANDGAON",
         "rawType": "float64",
         "type": "float"
        },
        {
         "name": "District_Name_RAJSAMAND",
         "rawType": "float64",
         "type": "float"
        },
        {
         "name": "District_Name_RAMANAGARA",
         "rawType": "float64",
         "type": "float"
        },
        {
         "name": "District_Name_RAMANATHAPURAM",
         "rawType": "float64",
         "type": "float"
        },
        {
         "name": "District_Name_RAMBAN",
         "rawType": "float64",
         "type": "float"
        },
        {
         "name": "District_Name_RAMGARH",
         "rawType": "float64",
         "type": "float"
        },
        {
         "name": "District_Name_RAMPUR",
         "rawType": "float64",
         "type": "float"
        },
        {
         "name": "District_Name_RANCHI",
         "rawType": "float64",
         "type": "float"
        },
        {
         "name": "District_Name_RANGAREDDI",
         "rawType": "float64",
         "type": "float"
        },
        {
         "name": "District_Name_RATLAM",
         "rawType": "float64",
         "type": "float"
        },
        {
         "name": "District_Name_RATNAGIRI",
         "rawType": "float64",
         "type": "float"
        },
        {
         "name": "District_Name_RAYAGADA",
         "rawType": "float64",
         "type": "float"
        },
        {
         "name": "District_Name_REASI",
         "rawType": "float64",
         "type": "float"
        },
        {
         "name": "District_Name_REWA",
         "rawType": "float64",
         "type": "float"
        },
        {
         "name": "District_Name_REWARI",
         "rawType": "float64",
         "type": "float"
        },
        {
         "name": "District_Name_RI BHOI",
         "rawType": "float64",
         "type": "float"
        },
        {
         "name": "District_Name_ROHTAK",
         "rawType": "float64",
         "type": "float"
        },
        {
         "name": "District_Name_ROHTAS",
         "rawType": "float64",
         "type": "float"
        },
        {
         "name": "District_Name_RUDRA PRAYAG",
         "rawType": "float64",
         "type": "float"
        },
        {
         "name": "District_Name_RUPNAGAR",
         "rawType": "float64",
         "type": "float"
        },
        {
         "name": "District_Name_S.A.S NAGAR",
         "rawType": "float64",
         "type": "float"
        },
        {
         "name": "District_Name_SABAR KANTHA",
         "rawType": "float64",
         "type": "float"
        },
        {
         "name": "District_Name_SAGAR",
         "rawType": "float64",
         "type": "float"
        },
        {
         "name": "District_Name_SAHARANPUR",
         "rawType": "float64",
         "type": "float"
        },
        {
         "name": "District_Name_SAHARSA",
         "rawType": "float64",
         "type": "float"
        },
        {
         "name": "District_Name_SAHEBGANJ",
         "rawType": "float64",
         "type": "float"
        },
        {
         "name": "District_Name_SAIHA",
         "rawType": "float64",
         "type": "float"
        },
        {
         "name": "District_Name_SALEM",
         "rawType": "float64",
         "type": "float"
        },
        {
         "name": "District_Name_SAMASTIPUR",
         "rawType": "float64",
         "type": "float"
        },
        {
         "name": "District_Name_SAMBA",
         "rawType": "float64",
         "type": "float"
        },
        {
         "name": "District_Name_SAMBALPUR",
         "rawType": "float64",
         "type": "float"
        },
        {
         "name": "District_Name_SAMBHAL",
         "rawType": "float64",
         "type": "float"
        },
        {
         "name": "District_Name_SANGLI",
         "rawType": "float64",
         "type": "float"
        },
        {
         "name": "District_Name_SANGRUR",
         "rawType": "float64",
         "type": "float"
        },
        {
         "name": "District_Name_SANT KABEER NAGAR",
         "rawType": "float64",
         "type": "float"
        },
        {
         "name": "District_Name_SANT RAVIDAS NAGAR",
         "rawType": "float64",
         "type": "float"
        },
        {
         "name": "District_Name_SARAIKELA KHARSAWAN",
         "rawType": "float64",
         "type": "float"
        },
        {
         "name": "District_Name_SARAN",
         "rawType": "float64",
         "type": "float"
        },
        {
         "name": "District_Name_SATARA",
         "rawType": "float64",
         "type": "float"
        },
        {
         "name": "District_Name_SATNA",
         "rawType": "float64",
         "type": "float"
        },
        {
         "name": "District_Name_SAWAI MADHOPUR",
         "rawType": "float64",
         "type": "float"
        },
        {
         "name": "District_Name_SEHORE",
         "rawType": "float64",
         "type": "float"
        },
        {
         "name": "District_Name_SENAPATI",
         "rawType": "float64",
         "type": "float"
        },
        {
         "name": "District_Name_SEONI",
         "rawType": "float64",
         "type": "float"
        },
        {
         "name": "District_Name_SEPAHIJALA",
         "rawType": "float64",
         "type": "float"
        },
        {
         "name": "District_Name_SERCHHIP",
         "rawType": "float64",
         "type": "float"
        },
        {
         "name": "District_Name_SHAHDOL",
         "rawType": "float64",
         "type": "float"
        },
        {
         "name": "District_Name_SHAHJAHANPUR",
         "rawType": "float64",
         "type": "float"
        },
        {
         "name": "District_Name_SHAJAPUR",
         "rawType": "float64",
         "type": "float"
        },
        {
         "name": "District_Name_SHAMLI",
         "rawType": "float64",
         "type": "float"
        },
        {
         "name": "District_Name_SHEIKHPURA",
         "rawType": "float64",
         "type": "float"
        },
        {
         "name": "District_Name_SHEOHAR",
         "rawType": "float64",
         "type": "float"
        },
        {
         "name": "District_Name_SHEOPUR",
         "rawType": "float64",
         "type": "float"
        },
        {
         "name": "District_Name_SHIMLA",
         "rawType": "float64",
         "type": "float"
        },
        {
         "name": "District_Name_SHIMOGA",
         "rawType": "float64",
         "type": "float"
        },
        {
         "name": "District_Name_SHIVPURI",
         "rawType": "float64",
         "type": "float"
        },
        {
         "name": "District_Name_SHOPIAN",
         "rawType": "float64",
         "type": "float"
        },
        {
         "name": "District_Name_SHRAVASTI",
         "rawType": "float64",
         "type": "float"
        },
        {
         "name": "District_Name_SIDDHARTH NAGAR",
         "rawType": "float64",
         "type": "float"
        },
        {
         "name": "District_Name_SIDHI",
         "rawType": "float64",
         "type": "float"
        },
        {
         "name": "District_Name_SIKAR",
         "rawType": "float64",
         "type": "float"
        },
        {
         "name": "District_Name_SIMDEGA",
         "rawType": "float64",
         "type": "float"
        },
        {
         "name": "District_Name_SINDHUDURG",
         "rawType": "float64",
         "type": "float"
        },
        {
         "name": "District_Name_SINGRAULI",
         "rawType": "float64",
         "type": "float"
        },
        {
         "name": "District_Name_SIRMAUR",
         "rawType": "float64",
         "type": "float"
        },
        {
         "name": "District_Name_SIROHI",
         "rawType": "float64",
         "type": "float"
        },
        {
         "name": "District_Name_SIRSA",
         "rawType": "float64",
         "type": "float"
        },
        {
         "name": "District_Name_SITAMARHI",
         "rawType": "float64",
         "type": "float"
        },
        {
         "name": "District_Name_SITAPUR",
         "rawType": "float64",
         "type": "float"
        },
        {
         "name": "District_Name_SIVAGANGA",
         "rawType": "float64",
         "type": "float"
        },
        {
         "name": "District_Name_SIVASAGAR",
         "rawType": "float64",
         "type": "float"
        },
        {
         "name": "District_Name_SIWAN",
         "rawType": "float64",
         "type": "float"
        },
        {
         "name": "District_Name_SOLAN",
         "rawType": "float64",
         "type": "float"
        },
        {
         "name": "District_Name_SOLAPUR",
         "rawType": "float64",
         "type": "float"
        },
        {
         "name": "District_Name_SONBHADRA",
         "rawType": "float64",
         "type": "float"
        },
        {
         "name": "District_Name_SONEPUR",
         "rawType": "float64",
         "type": "float"
        },
        {
         "name": "District_Name_SONIPAT",
         "rawType": "float64",
         "type": "float"
        },
        {
         "name": "District_Name_SONITPUR",
         "rawType": "float64",
         "type": "float"
        },
        {
         "name": "District_Name_SOUTH ANDAMANS",
         "rawType": "float64",
         "type": "float"
        },
        {
         "name": "District_Name_SOUTH DISTRICT",
         "rawType": "float64",
         "type": "float"
        },
        {
         "name": "District_Name_SOUTH GARO HILLS",
         "rawType": "float64",
         "type": "float"
        },
        {
         "name": "District_Name_SOUTH GOA",
         "rawType": "float64",
         "type": "float"
        },
        {
         "name": "District_Name_SOUTH TRIPURA",
         "rawType": "float64",
         "type": "float"
        },
        {
         "name": "District_Name_SOUTH WEST GARO HILLS",
         "rawType": "float64",
         "type": "float"
        },
        {
         "name": "District_Name_SOUTH WEST KHASI HILLS",
         "rawType": "float64",
         "type": "float"
        },
        {
         "name": "District_Name_SPSR NELLORE",
         "rawType": "float64",
         "type": "float"
        },
        {
         "name": "District_Name_SRIKAKULAM",
         "rawType": "float64",
         "type": "float"
        },
        {
         "name": "District_Name_SRINAGAR",
         "rawType": "float64",
         "type": "float"
        },
        {
         "name": "District_Name_SUKMA",
         "rawType": "float64",
         "type": "float"
        },
        {
         "name": "District_Name_SULTANPUR",
         "rawType": "float64",
         "type": "float"
        },
        {
         "name": "District_Name_SUNDARGARH",
         "rawType": "float64",
         "type": "float"
        },
        {
         "name": "District_Name_SUPAUL",
         "rawType": "float64",
         "type": "float"
        },
        {
         "name": "District_Name_SURAJPUR",
         "rawType": "float64",
         "type": "float"
        },
        {
         "name": "District_Name_SURAT",
         "rawType": "float64",
         "type": "float"
        },
        {
         "name": "District_Name_SURENDRANAGAR",
         "rawType": "float64",
         "type": "float"
        },
        {
         "name": "District_Name_SURGUJA",
         "rawType": "float64",
         "type": "float"
        },
        {
         "name": "District_Name_TAMENGLONG",
         "rawType": "float64",
         "type": "float"
        },
        {
         "name": "District_Name_TAPI",
         "rawType": "float64",
         "type": "float"
        },
        {
         "name": "District_Name_TARN TARAN",
         "rawType": "float64",
         "type": "float"
        },
        {
         "name": "District_Name_TAWANG",
         "rawType": "float64",
         "type": "float"
        },
        {
         "name": "District_Name_TEHRI GARHWAL",
         "rawType": "float64",
         "type": "float"
        },
        {
         "name": "District_Name_THANE",
         "rawType": "float64",
         "type": "float"
        },
        {
         "name": "District_Name_THANJAVUR",
         "rawType": "float64",
         "type": "float"
        },
        {
         "name": "District_Name_THE NILGIRIS",
         "rawType": "float64",
         "type": "float"
        },
        {
         "name": "District_Name_THENI",
         "rawType": "float64",
         "type": "float"
        },
        {
         "name": "District_Name_THIRUVALLUR",
         "rawType": "float64",
         "type": "float"
        },
        {
         "name": "District_Name_THIRUVANANTHAPURAM",
         "rawType": "float64",
         "type": "float"
        },
        {
         "name": "District_Name_THIRUVARUR",
         "rawType": "float64",
         "type": "float"
        },
        {
         "name": "District_Name_THOUBAL",
         "rawType": "float64",
         "type": "float"
        },
        {
         "name": "District_Name_THRISSUR",
         "rawType": "float64",
         "type": "float"
        },
        {
         "name": "District_Name_TIKAMGARH",
         "rawType": "float64",
         "type": "float"
        },
        {
         "name": "District_Name_TINSUKIA",
         "rawType": "float64",
         "type": "float"
        },
        {
         "name": "District_Name_TIRAP",
         "rawType": "float64",
         "type": "float"
        },
        {
         "name": "District_Name_TIRUCHIRAPPALLI",
         "rawType": "float64",
         "type": "float"
        },
        {
         "name": "District_Name_TIRUNELVELI",
         "rawType": "float64",
         "type": "float"
        },
        {
         "name": "District_Name_TIRUPPUR",
         "rawType": "float64",
         "type": "float"
        },
        {
         "name": "District_Name_TIRUVANNAMALAI",
         "rawType": "float64",
         "type": "float"
        },
        {
         "name": "District_Name_TONK",
         "rawType": "float64",
         "type": "float"
        },
        {
         "name": "District_Name_TUENSANG",
         "rawType": "float64",
         "type": "float"
        },
        {
         "name": "District_Name_TUMKUR",
         "rawType": "float64",
         "type": "float"
        },
        {
         "name": "District_Name_TUTICORIN",
         "rawType": "float64",
         "type": "float"
        },
        {
         "name": "District_Name_UDAIPUR",
         "rawType": "float64",
         "type": "float"
        },
        {
         "name": "District_Name_UDALGURI",
         "rawType": "float64",
         "type": "float"
        },
        {
         "name": "District_Name_UDAM SINGH NAGAR",
         "rawType": "float64",
         "type": "float"
        },
        {
         "name": "District_Name_UDHAMPUR",
         "rawType": "float64",
         "type": "float"
        },
        {
         "name": "District_Name_UDUPI",
         "rawType": "float64",
         "type": "float"
        },
        {
         "name": "District_Name_UJJAIN",
         "rawType": "float64",
         "type": "float"
        },
        {
         "name": "District_Name_UKHRUL",
         "rawType": "float64",
         "type": "float"
        },
        {
         "name": "District_Name_UMARIA",
         "rawType": "float64",
         "type": "float"
        },
        {
         "name": "District_Name_UNA",
         "rawType": "float64",
         "type": "float"
        },
        {
         "name": "District_Name_UNAKOTI",
         "rawType": "float64",
         "type": "float"
        },
        {
         "name": "District_Name_UNNAO",
         "rawType": "float64",
         "type": "float"
        },
        {
         "name": "District_Name_UPPER SIANG",
         "rawType": "float64",
         "type": "float"
        },
        {
         "name": "District_Name_UPPER SUBANSIRI",
         "rawType": "float64",
         "type": "float"
        },
        {
         "name": "District_Name_UTTAR KANNAD",
         "rawType": "float64",
         "type": "float"
        },
        {
         "name": "District_Name_UTTAR KASHI",
         "rawType": "float64",
         "type": "float"
        },
        {
         "name": "District_Name_VADODARA",
         "rawType": "float64",
         "type": "float"
        },
        {
         "name": "District_Name_VAISHALI",
         "rawType": "float64",
         "type": "float"
        },
        {
         "name": "District_Name_VALSAD",
         "rawType": "float64",
         "type": "float"
        },
        {
         "name": "District_Name_VARANASI",
         "rawType": "float64",
         "type": "float"
        },
        {
         "name": "District_Name_VELLORE",
         "rawType": "float64",
         "type": "float"
        },
        {
         "name": "District_Name_VIDISHA",
         "rawType": "float64",
         "type": "float"
        },
        {
         "name": "District_Name_VILLUPURAM",
         "rawType": "float64",
         "type": "float"
        },
        {
         "name": "District_Name_VIRUDHUNAGAR",
         "rawType": "float64",
         "type": "float"
        },
        {
         "name": "District_Name_VISAKHAPATANAM",
         "rawType": "float64",
         "type": "float"
        },
        {
         "name": "District_Name_VIZIANAGARAM",
         "rawType": "float64",
         "type": "float"
        },
        {
         "name": "District_Name_WARANGAL",
         "rawType": "float64",
         "type": "float"
        },
        {
         "name": "District_Name_WARDHA",
         "rawType": "float64",
         "type": "float"
        },
        {
         "name": "District_Name_WASHIM",
         "rawType": "float64",
         "type": "float"
        },
        {
         "name": "District_Name_WAYANAD",
         "rawType": "float64",
         "type": "float"
        },
        {
         "name": "District_Name_WEST DISTRICT",
         "rawType": "float64",
         "type": "float"
        },
        {
         "name": "District_Name_WEST GARO HILLS",
         "rawType": "float64",
         "type": "float"
        },
        {
         "name": "District_Name_WEST GODAVARI",
         "rawType": "float64",
         "type": "float"
        },
        {
         "name": "District_Name_WEST JAINTIA HILLS",
         "rawType": "float64",
         "type": "float"
        },
        {
         "name": "District_Name_WEST KAMENG",
         "rawType": "float64",
         "type": "float"
        },
        {
         "name": "District_Name_WEST KHASI HILLS",
         "rawType": "float64",
         "type": "float"
        },
        {
         "name": "District_Name_WEST SIANG",
         "rawType": "float64",
         "type": "float"
        },
        {
         "name": "District_Name_WEST SINGHBHUM",
         "rawType": "float64",
         "type": "float"
        },
        {
         "name": "District_Name_WEST TRIPURA",
         "rawType": "float64",
         "type": "float"
        },
        {
         "name": "District_Name_WOKHA",
         "rawType": "float64",
         "type": "float"
        },
        {
         "name": "District_Name_YADGIR",
         "rawType": "float64",
         "type": "float"
        },
        {
         "name": "District_Name_YAMUNANAGAR",
         "rawType": "float64",
         "type": "float"
        },
        {
         "name": "District_Name_YANAM",
         "rawType": "float64",
         "type": "float"
        },
        {
         "name": "District_Name_YAVATMAL",
         "rawType": "float64",
         "type": "float"
        },
        {
         "name": "District_Name_ZUNHEBOTO",
         "rawType": "float64",
         "type": "float"
        },
        {
         "name": "Season_Autumn     ",
         "rawType": "float64",
         "type": "float"
        },
        {
         "name": "Season_Kharif     ",
         "rawType": "float64",
         "type": "float"
        },
        {
         "name": "Season_Rabi       ",
         "rawType": "float64",
         "type": "float"
        },
        {
         "name": "Season_Summer     ",
         "rawType": "float64",
         "type": "float"
        },
        {
         "name": "Season_Whole Year ",
         "rawType": "float64",
         "type": "float"
        },
        {
         "name": "Season_Winter     ",
         "rawType": "float64",
         "type": "float"
        },
        {
         "name": "Crop_Year",
         "rawType": "float64",
         "type": "float"
        },
        {
         "name": "Area",
         "rawType": "float64",
         "type": "float"
        }
       ],
       "ref": "95cb495b-2498-4598-b75d-ea24ca007cb2",
       "rows": [
        [
         "0",
         "0.0",
         "0.0",
         "0.0",
         "0.0",
         "0.0",
         "0.0",
         "0.0",
         "0.0",
         "0.0",
         "0.0",
         "0.0",
         "0.0",
         "0.0",
         "0.0",
         "0.0",
         "0.0",
         "0.0",
         "1.0",
         "0.0",
         "0.0",
         "0.0",
         "0.0",
         "0.0",
         "0.0",
         "0.0",
         "0.0",
         "0.0",
         "0.0",
         "0.0",
         "0.0",
         "0.0",
         "0.0",
         "0.0",
         "0.0",
         "0.0",
         "0.0",
         "0.0",
         "0.0",
         "0.0",
         "0.0",
         "0.0",
         "0.0",
         "0.0",
         "0.0",
         "0.0",
         "0.0",
         "0.0",
         "0.0",
         "0.0",
         "0.0",
         "0.0",
         "0.0",
         "1.0",
         "0.0",
         "0.0",
         "0.0",
         "0.0",
         "0.0",
         "0.0",
         "0.0",
         "0.0",
         "0.0",
         "0.0",
         "0.0",
         "0.0",
         "0.0",
         "0.0",
         "0.0",
         "0.0",
         "0.0",
         "0.0",
         "0.0",
         "0.0",
         "0.0",
         "0.0",
         "0.0",
         "0.0",
         "0.0",
         "0.0",
         "0.0",
         "0.0",
         "0.0",
         "0.0",
         "0.0",
         "0.0",
         "0.0",
         "0.0",
         "0.0",
         "0.0",
         "0.0",
         "0.0",
         "0.0",
         "0.0",
         "0.0",
         "0.0",
         "0.0",
         "0.0",
         "0.0",
         "0.0",
         "0.0",
         "0.0",
         "0.0",
         "0.0",
         "0.0",
         "0.0",
         "0.0",
         "0.0",
         "0.0",
         "0.0",
         "0.0",
         "0.0",
         "0.0",
         "0.0",
         "0.0",
         "0.0",
         "0.0",
         "0.0",
         "0.0",
         "0.0",
         "0.0",
         "0.0",
         "0.0",
         "0.0",
         "0.0",
         "0.0",
         "0.0",
         "0.0",
         "0.0",
         "0.0",
         "0.0",
         "0.0",
         "0.0",
         "0.0",
         "0.0",
         "0.0",
         "0.0",
         "0.0",
         "0.0",
         "0.0",
         "0.0",
         "0.0",
         "0.0",
         "0.0",
         "0.0",
         "0.0",
         "0.0",
         "0.0",
         "0.0",
         "0.0",
         "0.0",
         "0.0",
         "0.0",
         "0.0",
         "0.0",
         "0.0",
         "0.0",
         "0.0",
         "0.0",
         "0.0",
         "0.0",
         "0.0",
         "0.0",
         "0.0",
         "0.0",
         "0.0",
         "0.0",
         "0.0",
         "0.0",
         "0.0",
         "0.0",
         "0.0",
         "0.0",
         "0.0",
         "0.0",
         "0.0",
         "0.0",
         "0.0",
         "0.0",
         "0.0",
         "0.0",
         "0.0",
         "0.0",
         "0.0",
         "0.0",
         "0.0",
         "0.0",
         "0.0",
         "0.0",
         "0.0",
         "0.0",
         "0.0",
         "0.0",
         "0.0",
         "0.0",
         "0.0",
         "0.0",
         "0.0",
         "0.0",
         "0.0",
         "0.0",
         "0.0",
         "0.0",
         "0.0",
         "0.0",
         "0.0",
         "0.0",
         "0.0",
         "0.0",
         "0.0",
         "0.0",
         "0.0",
         "0.0",
         "0.0",
         "0.0",
         "0.0",
         "0.0",
         "0.0",
         "0.0",
         "0.0",
         "0.0",
         "0.0",
         "0.0",
         "0.0",
         "0.0",
         "0.0",
         "0.0",
         "0.0",
         "0.0",
         "0.0",
         "0.0",
         "0.0",
         "0.0",
         "0.0",
         "0.0",
         "0.0",
         "0.0",
         "0.0",
         "0.0",
         "0.0",
         "0.0",
         "0.0",
         "0.0",
         "0.0",
         "0.0",
         "0.0",
         "0.0",
         "0.0",
         "0.0",
         "0.0",
         "0.0",
         "0.0",
         "0.0",
         "0.0",
         "0.0",
         "0.0",
         "0.0",
         "0.0",
         "0.0",
         "0.0",
         "0.0",
         "0.0",
         "0.0",
         "0.0",
         "0.0",
         "0.0",
         "0.0",
         "0.0",
         "0.0",
         "0.0",
         "0.0",
         "0.0",
         "0.0",
         "0.0",
         "0.0",
         "0.0",
         "0.0",
         "0.0",
         "0.0",
         "0.0",
         "0.0",
         "0.0",
         "0.0",
         "0.0",
         "0.0",
         "0.0",
         "0.0",
         "0.0",
         "0.0",
         "0.0",
         "0.0",
         "0.0",
         "0.0",
         "0.0",
         "0.0",
         "0.0",
         "0.0",
         "0.0",
         "0.0",
         "0.0",
         "0.0",
         "0.0",
         "0.0",
         "0.0",
         "0.0",
         "0.0",
         "0.0",
         "0.0",
         "0.0",
         "0.0",
         "0.0",
         "0.0",
         "0.0",
         "0.0",
         "0.0",
         "0.0",
         "0.0",
         "0.0",
         "0.0",
         "0.0",
         "0.0",
         "0.0",
         "0.0",
         "0.0",
         "0.0",
         "0.0",
         "0.0",
         "0.0",
         "0.0",
         "0.0",
         "0.0",
         "0.0",
         "0.0",
         "0.0",
         "0.0",
         "0.0",
         "0.0",
         "0.0",
         "0.0",
         "0.0",
         "0.0",
         "0.0",
         "0.0",
         "0.0",
         "0.0",
         "0.0",
         "0.0",
         "0.0",
         "0.0",
         "0.0",
         "0.0",
         "0.0",
         "0.0",
         "0.0",
         "0.0",
         "0.0",
         "0.0",
         "0.0",
         "0.0",
         "0.0",
         "0.0",
         "0.0",
         "0.0",
         "0.0",
         "0.0",
         "0.0",
         "0.0",
         "0.0",
         "0.0",
         "0.0",
         "0.0",
         "0.0",
         "0.0",
         "0.0",
         "0.0",
         "0.0",
         "0.0",
         "0.0",
         "0.0",
         "0.0",
         "0.0",
         "0.0",
         "0.0",
         "0.0",
         "0.0",
         "0.0",
         "0.0",
         "0.0",
         "0.0",
         "0.0",
         "0.0",
         "0.0",
         "0.0",
         "0.0",
         "0.0",
         "0.0",
         "0.0",
         "0.0",
         "0.0",
         "0.0",
         "0.0",
         "0.0",
         "0.0",
         "0.0",
         "0.0",
         "0.0",
         "0.0",
         "0.0",
         "0.0",
         "0.0",
         "0.0",
         "0.0",
         "0.0",
         "0.0",
         "0.0",
         "0.0",
         "0.0",
         "0.0",
         "0.0",
         "0.0",
         "0.0",
         "0.0",
         "0.0",
         "0.0",
         "0.0",
         "0.0",
         "0.0",
         "0.0",
         "0.0",
         "0.0",
         "0.0",
         "0.0",
         "0.0",
         "0.0",
         "0.0",
         "0.0",
         "0.0",
         "0.0",
         "0.0",
         "0.0",
         "0.0",
         "0.0",
         "0.0",
         "0.0",
         "0.0",
         "0.0",
         "0.0",
         "0.0",
         "0.0",
         "0.0",
         "0.0",
         "0.0",
         "0.0",
         "0.0",
         "0.0",
         "0.0",
         "0.0",
         "0.0",
         "0.0",
         "0.0",
         "0.0",
         "0.0",
         "0.0",
         "0.0",
         "0.0",
         "0.0",
         "0.0",
         "0.0",
         "0.0",
         "0.0",
         "0.0",
         "0.0",
         "0.0",
         "0.0",
         "0.0",
         "0.0",
         "0.0",
         "0.0",
         "0.0",
         "0.0",
         "0.0",
         "0.0",
         "0.0",
         "0.0",
         "0.0",
         "0.0",
         "0.0",
         "0.0",
         "0.0",
         "0.0",
         "0.0",
         "0.0",
         "0.0",
         "0.0",
         "0.0",
         "0.0",
         "0.0",
         "0.0",
         "0.0",
         "0.0",
         "0.0",
         "0.0",
         "0.0",
         "0.0",
         "0.0",
         "0.0",
         "0.0",
         "0.0",
         "0.0",
         "0.0",
         "0.0",
         "0.0",
         "0.0",
         "0.0",
         "0.0",
         "0.0",
         "0.0",
         "0.0",
         "0.0",
         "0.0",
         "0.0",
         "0.0",
         "0.0",
         "0.0",
         "0.0",
         "0.0",
         "0.0",
         "0.0",
         "0.0",
         "0.0",
         "0.0",
         "0.0",
         "0.0",
         "0.0",
         "0.0",
         "0.0",
         "0.0",
         "0.0",
         "0.0",
         "0.0",
         "0.0",
         "0.0",
         "0.0",
         "0.0",
         "0.0",
         "0.0",
         "0.0",
         "0.0",
         "0.0",
         "0.0",
         "0.0",
         "0.0",
         "0.0",
         "0.0",
         "0.0",
         "0.0",
         "0.0",
         "0.0",
         "0.0",
         "0.0",
         "0.0",
         "0.0",
         "0.0",
         "0.0",
         "0.0",
         "0.0",
         "0.0",
         "0.0",
         "0.0",
         "0.0",
         "0.0",
         "0.0",
         "0.0",
         "0.0",
         "0.0",
         "0.0",
         "0.0",
         "0.0",
         "0.0",
         "0.0",
         "0.0",
         "0.0",
         "0.0",
         "0.0",
         "0.0",
         "0.0",
         "0.0",
         "0.0",
         "0.0",
         "0.0",
         "0.0",
         "0.0",
         "0.0",
         "0.0",
         "0.0",
         "0.0",
         "0.0",
         "0.0",
         "0.0",
         "0.0",
         "0.0",
         "0.0",
         "0.0",
         "0.0",
         "0.0",
         "0.0",
         "0.0",
         "0.0",
         "0.0",
         "0.0",
         "0.0",
         "0.0",
         "0.0",
         "0.0",
         "0.0",
         "0.0",
         "0.0",
         "0.0",
         "0.0",
         "0.0",
         "0.0",
         "0.0",
         "0.0",
         "0.0",
         "0.0",
         "0.0",
         "0.0",
         "0.0",
         "0.0",
         "0.0",
         "0.0",
         "0.0",
         "0.0",
         "0.0",
         "0.0",
         "0.0",
         "0.0",
         "0.0",
         "0.0",
         "0.0",
         "0.0",
         "0.0",
         "0.0",
         "0.0",
         "0.0",
         "0.0",
         "0.0",
         "0.0",
         "0.0",
         "0.0",
         "0.0",
         "0.0",
         "0.0",
         "0.0",
         "0.0",
         "0.0",
         "0.0",
         "0.0",
         "0.0",
         "0.0",
         "0.0",
         "0.0",
         "0.0",
         "0.0",
         "0.0",
         "0.0",
         "0.0",
         "0.0",
         "0.0",
         "0.0",
         "0.0",
         "0.0",
         "0.0",
         "0.0",
         "0.0",
         "0.0",
         "0.0",
         "0.0",
         "0.0",
         "0.0",
         "0.0",
         "1.0",
         "0.0",
         "0.0",
         "0.0",
         "0.0",
         "0.47830939915254206",
         "0.6016319819742595"
        ],
        [
         "1",
         "0.0",
         "0.0",
         "0.0",
         "1.0",
         "0.0",
         "0.0",
         "0.0",
         "0.0",
         "0.0",
         "0.0",
         "0.0",
         "0.0",
         "0.0",
         "0.0",
         "0.0",
         "0.0",
         "0.0",
         "0.0",
         "0.0",
         "0.0",
         "0.0",
         "0.0",
         "0.0",
         "0.0",
         "0.0",
         "0.0",
         "0.0",
         "0.0",
         "0.0",
         "0.0",
         "0.0",
         "0.0",
         "0.0",
         "0.0",
         "0.0",
         "0.0",
         "0.0",
         "0.0",
         "0.0",
         "0.0",
         "0.0",
         "0.0",
         "0.0",
         "0.0",
         "0.0",
         "0.0",
         "0.0",
         "0.0",
         "0.0",
         "0.0",
         "0.0",
         "0.0",
         "0.0",
         "0.0",
         "0.0",
         "0.0",
         "0.0",
         "0.0",
         "0.0",
         "0.0",
         "0.0",
         "0.0",
         "0.0",
         "0.0",
         "0.0",
         "0.0",
         "0.0",
         "0.0",
         "0.0",
         "0.0",
         "0.0",
         "0.0",
         "0.0",
         "0.0",
         "0.0",
         "0.0",
         "0.0",
         "0.0",
         "0.0",
         "0.0",
         "0.0",
         "0.0",
         "0.0",
         "0.0",
         "0.0",
         "0.0",
         "0.0",
         "0.0",
         "0.0",
         "0.0",
         "0.0",
         "0.0",
         "0.0",
         "0.0",
         "0.0",
         "0.0",
         "0.0",
         "0.0",
         "0.0",
         "0.0",
         "0.0",
         "0.0",
         "0.0",
         "0.0",
         "0.0",
         "0.0",
         "0.0",
         "0.0",
         "0.0",
         "0.0",
         "0.0",
         "0.0",
         "0.0",
         "0.0",
         "0.0",
         "0.0",
         "0.0",
         "0.0",
         "0.0",
         "0.0",
         "0.0",
         "0.0",
         "0.0",
         "0.0",
         "0.0",
         "0.0",
         "0.0",
         "0.0",
         "0.0",
         "0.0",
         "0.0",
         "0.0",
         "0.0",
         "0.0",
         "0.0",
         "0.0",
         "0.0",
         "0.0",
         "0.0",
         "0.0",
         "0.0",
         "0.0",
         "0.0",
         "0.0",
         "0.0",
         "0.0",
         "0.0",
         "0.0",
         "0.0",
         "0.0",
         "0.0",
         "0.0",
         "0.0",
         "0.0",
         "0.0",
         "0.0",
         "0.0",
         "0.0",
         "0.0",
         "0.0",
         "0.0",
         "0.0",
         "0.0",
         "0.0",
         "0.0",
         "0.0",
         "0.0",
         "0.0",
         "0.0",
         "0.0",
         "0.0",
         "0.0",
         "0.0",
         "0.0",
         "0.0",
         "0.0",
         "0.0",
         "0.0",
         "0.0",
         "0.0",
         "0.0",
         "0.0",
         "0.0",
         "0.0",
         "0.0",
         "0.0",
         "0.0",
         "0.0",
         "0.0",
         "0.0",
         "0.0",
         "0.0",
         "0.0",
         "0.0",
         "0.0",
         "0.0",
         "0.0",
         "0.0",
         "0.0",
         "0.0",
         "0.0",
         "0.0",
         "0.0",
         "0.0",
         "0.0",
         "0.0",
         "0.0",
         "0.0",
         "0.0",
         "0.0",
         "0.0",
         "0.0",
         "0.0",
         "0.0",
         "0.0",
         "0.0",
         "0.0",
         "0.0",
         "0.0",
         "0.0",
         "0.0",
         "0.0",
         "0.0",
         "0.0",
         "0.0",
         "0.0",
         "0.0",
         "0.0",
         "0.0",
         "0.0",
         "0.0",
         "0.0",
         "0.0",
         "0.0",
         "0.0",
         "0.0",
         "0.0",
         "0.0",
         "0.0",
         "0.0",
         "0.0",
         "0.0",
         "0.0",
         "0.0",
         "0.0",
         "0.0",
         "0.0",
         "0.0",
         "0.0",
         "0.0",
         "0.0",
         "0.0",
         "0.0",
         "0.0",
         "0.0",
         "0.0",
         "0.0",
         "0.0",
         "0.0",
         "0.0",
         "0.0",
         "0.0",
         "0.0",
         "0.0",
         "0.0",
         "0.0",
         "0.0",
         "0.0",
         "0.0",
         "0.0",
         "0.0",
         "0.0",
         "0.0",
         "0.0",
         "0.0",
         "0.0",
         "0.0",
         "0.0",
         "0.0",
         "0.0",
         "0.0",
         "0.0",
         "0.0",
         "0.0",
         "0.0",
         "0.0",
         "0.0",
         "0.0",
         "0.0",
         "0.0",
         "0.0",
         "0.0",
         "0.0",
         "0.0",
         "0.0",
         "0.0",
         "0.0",
         "0.0",
         "0.0",
         "0.0",
         "0.0",
         "0.0",
         "0.0",
         "0.0",
         "0.0",
         "0.0",
         "0.0",
         "0.0",
         "0.0",
         "0.0",
         "0.0",
         "0.0",
         "0.0",
         "0.0",
         "0.0",
         "0.0",
         "0.0",
         "0.0",
         "0.0",
         "0.0",
         "0.0",
         "0.0",
         "0.0",
         "0.0",
         "0.0",
         "0.0",
         "0.0",
         "0.0",
         "0.0",
         "0.0",
         "0.0",
         "0.0",
         "0.0",
         "0.0",
         "0.0",
         "0.0",
         "0.0",
         "0.0",
         "0.0",
         "0.0",
         "0.0",
         "0.0",
         "0.0",
         "0.0",
         "0.0",
         "0.0",
         "0.0",
         "0.0",
         "0.0",
         "0.0",
         "0.0",
         "0.0",
         "0.0",
         "0.0",
         "0.0",
         "0.0",
         "0.0",
         "0.0",
         "0.0",
         "0.0",
         "0.0",
         "0.0",
         "0.0",
         "0.0",
         "0.0",
         "0.0",
         "0.0",
         "0.0",
         "0.0",
         "0.0",
         "0.0",
         "0.0",
         "0.0",
         "0.0",
         "0.0",
         "0.0",
         "0.0",
         "0.0",
         "1.0",
         "0.0",
         "0.0",
         "0.0",
         "0.0",
         "0.0",
         "0.0",
         "0.0",
         "0.0",
         "0.0",
         "0.0",
         "0.0",
         "0.0",
         "0.0",
         "0.0",
         "0.0",
         "0.0",
         "0.0",
         "0.0",
         "0.0",
         "0.0",
         "0.0",
         "0.0",
         "0.0",
         "0.0",
         "0.0",
         "0.0",
         "0.0",
         "0.0",
         "0.0",
         "0.0",
         "0.0",
         "0.0",
         "0.0",
         "0.0",
         "0.0",
         "0.0",
         "0.0",
         "0.0",
         "0.0",
         "0.0",
         "0.0",
         "0.0",
         "0.0",
         "0.0",
         "0.0",
         "0.0",
         "0.0",
         "0.0",
         "0.0",
         "0.0",
         "0.0",
         "0.0",
         "0.0",
         "0.0",
         "0.0",
         "0.0",
         "0.0",
         "0.0",
         "0.0",
         "0.0",
         "0.0",
         "0.0",
         "0.0",
         "0.0",
         "0.0",
         "0.0",
         "0.0",
         "0.0",
         "0.0",
         "0.0",
         "0.0",
         "0.0",
         "0.0",
         "0.0",
         "0.0",
         "0.0",
         "0.0",
         "0.0",
         "0.0",
         "0.0",
         "0.0",
         "0.0",
         "0.0",
         "0.0",
         "0.0",
         "0.0",
         "0.0",
         "0.0",
         "0.0",
         "0.0",
         "0.0",
         "0.0",
         "0.0",
         "0.0",
         "0.0",
         "0.0",
         "0.0",
         "0.0",
         "0.0",
         "0.0",
         "0.0",
         "0.0",
         "0.0",
         "0.0",
         "0.0",
         "0.0",
         "0.0",
         "0.0",
         "0.0",
         "0.0",
         "0.0",
         "0.0",
         "0.0",
         "0.0",
         "0.0",
         "0.0",
         "0.0",
         "0.0",
         "0.0",
         "0.0",
         "0.0",
         "0.0",
         "0.0",
         "0.0",
         "0.0",
         "0.0",
         "0.0",
         "0.0",
         "0.0",
         "0.0",
         "0.0",
         "0.0",
         "0.0",
         "0.0",
         "0.0",
         "0.0",
         "0.0",
         "0.0",
         "0.0",
         "0.0",
         "0.0",
         "0.0",
         "0.0",
         "0.0",
         "0.0",
         "0.0",
         "0.0",
         "0.0",
         "0.0",
         "0.0",
         "0.0",
         "0.0",
         "0.0",
         "0.0",
         "0.0",
         "0.0",
         "0.0",
         "0.0",
         "0.0",
         "0.0",
         "0.0",
         "0.0",
         "0.0",
         "0.0",
         "0.0",
         "0.0",
         "0.0",
         "0.0",
         "0.0",
         "0.0",
         "0.0",
         "0.0",
         "0.0",
         "0.0",
         "0.0",
         "0.0",
         "0.0",
         "0.0",
         "0.0",
         "0.0",
         "0.0",
         "0.0",
         "0.0",
         "0.0",
         "0.0",
         "0.0",
         "0.0",
         "0.0",
         "0.0",
         "0.0",
         "0.0",
         "0.0",
         "0.0",
         "0.0",
         "0.0",
         "0.0",
         "0.0",
         "0.0",
         "0.0",
         "0.0",
         "0.0",
         "0.0",
         "0.0",
         "0.0",
         "0.0",
         "0.0",
         "0.0",
         "0.0",
         "0.0",
         "0.0",
         "0.0",
         "0.0",
         "0.0",
         "0.0",
         "0.0",
         "0.0",
         "0.0",
         "0.0",
         "0.0",
         "0.0",
         "0.0",
         "0.0",
         "0.0",
         "0.0",
         "0.0",
         "0.0",
         "0.0",
         "0.0",
         "0.0",
         "0.0",
         "0.0",
         "0.0",
         "0.0",
         "0.0",
         "0.0",
         "0.0",
         "0.0",
         "0.0",
         "0.0",
         "0.0",
         "0.0",
         "0.0",
         "0.0",
         "0.0",
         "0.0",
         "0.0",
         "0.0",
         "0.0",
         "0.0",
         "0.0",
         "0.0",
         "0.0",
         "0.0",
         "0.0",
         "0.0",
         "0.0",
         "0.0",
         "0.0",
         "0.0",
         "0.0",
         "0.0",
         "0.0",
         "0.0",
         "0.0",
         "0.0",
         "0.0",
         "0.0",
         "0.0",
         "0.0",
         "0.0",
         "0.0",
         "0.0",
         "0.0",
         "0.0",
         "0.0",
         "0.0",
         "0.0",
         "0.0",
         "0.0",
         "0.0",
         "0.0",
         "0.0",
         "0.0",
         "0.0",
         "0.0",
         "0.0",
         "0.0",
         "0.0",
         "0.0",
         "0.0",
         "0.0",
         "0.0",
         "0.0",
         "0.0",
         "0.0",
         "0.0",
         "0.0",
         "0.0",
         "0.0",
         "0.0",
         "0.0",
         "0.0",
         "0.0",
         "0.0",
         "0.0",
         "1.0",
         "0.47830939915254206",
         "1.5008735807803517"
        ],
        [
         "2",
         "0.0",
         "0.0",
         "0.0",
         "0.0",
         "0.0",
         "0.0",
         "0.0",
         "0.0",
         "0.0",
         "0.0",
         "0.0",
         "0.0",
         "0.0",
         "0.0",
         "1.0",
         "0.0",
         "0.0",
         "0.0",
         "0.0",
         "0.0",
         "0.0",
         "0.0",
         "0.0",
         "0.0",
         "0.0",
         "0.0",
         "0.0",
         "0.0",
         "0.0",
         "0.0",
         "0.0",
         "0.0",
         "0.0",
         "0.0",
         "0.0",
         "0.0",
         "0.0",
         "0.0",
         "0.0",
         "0.0",
         "0.0",
         "0.0",
         "0.0",
         "0.0",
         "0.0",
         "0.0",
         "0.0",
         "0.0",
         "0.0",
         "0.0",
         "0.0",
         "0.0",
         "0.0",
         "0.0",
         "0.0",
         "0.0",
         "0.0",
         "0.0",
         "0.0",
         "0.0",
         "0.0",
         "0.0",
         "0.0",
         "0.0",
         "0.0",
         "0.0",
         "0.0",
         "0.0",
         "0.0",
         "0.0",
         "0.0",
         "0.0",
         "0.0",
         "0.0",
         "0.0",
         "0.0",
         "0.0",
         "0.0",
         "0.0",
         "0.0",
         "0.0",
         "0.0",
         "0.0",
         "0.0",
         "0.0",
         "0.0",
         "0.0",
         "0.0",
         "0.0",
         "0.0",
         "0.0",
         "0.0",
         "0.0",
         "0.0",
         "0.0",
         "0.0",
         "0.0",
         "0.0",
         "0.0",
         "0.0",
         "0.0",
         "0.0",
         "0.0",
         "0.0",
         "0.0",
         "0.0",
         "0.0",
         "0.0",
         "0.0",
         "0.0",
         "0.0",
         "0.0",
         "0.0",
         "0.0",
         "0.0",
         "0.0",
         "0.0",
         "0.0",
         "0.0",
         "0.0",
         "0.0",
         "0.0",
         "0.0",
         "0.0",
         "0.0",
         "0.0",
         "0.0",
         "0.0",
         "0.0",
         "0.0",
         "0.0",
         "0.0",
         "0.0",
         "0.0",
         "0.0",
         "0.0",
         "0.0",
         "1.0",
         "0.0",
         "0.0",
         "0.0",
         "0.0",
         "0.0",
         "0.0",
         "0.0",
         "0.0",
         "0.0",
         "0.0",
         "0.0",
         "0.0",
         "0.0",
         "0.0",
         "0.0",
         "0.0",
         "0.0",
         "0.0",
         "0.0",
         "0.0",
         "0.0",
         "0.0",
         "0.0",
         "0.0",
         "0.0",
         "0.0",
         "0.0",
         "0.0",
         "0.0",
         "0.0",
         "0.0",
         "0.0",
         "0.0",
         "0.0",
         "0.0",
         "0.0",
         "0.0",
         "0.0",
         "0.0",
         "0.0",
         "0.0",
         "0.0",
         "0.0",
         "0.0",
         "0.0",
         "0.0",
         "0.0",
         "0.0",
         "0.0",
         "0.0",
         "0.0",
         "0.0",
         "0.0",
         "0.0",
         "0.0",
         "0.0",
         "0.0",
         "0.0",
         "0.0",
         "0.0",
         "0.0",
         "0.0",
         "0.0",
         "0.0",
         "0.0",
         "0.0",
         "0.0",
         "0.0",
         "0.0",
         "0.0",
         "0.0",
         "0.0",
         "0.0",
         "0.0",
         "0.0",
         "0.0",
         "0.0",
         "0.0",
         "0.0",
         "0.0",
         "0.0",
         "0.0",
         "0.0",
         "0.0",
         "0.0",
         "0.0",
         "0.0",
         "0.0",
         "0.0",
         "0.0",
         "0.0",
         "0.0",
         "0.0",
         "0.0",
         "0.0",
         "0.0",
         "0.0",
         "0.0",
         "0.0",
         "0.0",
         "0.0",
         "0.0",
         "0.0",
         "0.0",
         "0.0",
         "0.0",
         "0.0",
         "0.0",
         "0.0",
         "0.0",
         "0.0",
         "0.0",
         "0.0",
         "0.0",
         "0.0",
         "0.0",
         "0.0",
         "0.0",
         "0.0",
         "0.0",
         "0.0",
         "0.0",
         "0.0",
         "0.0",
         "0.0",
         "0.0",
         "0.0",
         "0.0",
         "0.0",
         "0.0",
         "0.0",
         "0.0",
         "0.0",
         "0.0",
         "0.0",
         "0.0",
         "0.0",
         "0.0",
         "0.0",
         "0.0",
         "0.0",
         "0.0",
         "0.0",
         "0.0",
         "0.0",
         "0.0",
         "0.0",
         "0.0",
         "0.0",
         "0.0",
         "0.0",
         "0.0",
         "0.0",
         "0.0",
         "0.0",
         "0.0",
         "0.0",
         "0.0",
         "0.0",
         "0.0",
         "0.0",
         "0.0",
         "0.0",
         "0.0",
         "0.0",
         "0.0",
         "0.0",
         "0.0",
         "0.0",
         "0.0",
         "0.0",
         "0.0",
         "0.0",
         "0.0",
         "0.0",
         "0.0",
         "0.0",
         "0.0",
         "0.0",
         "0.0",
         "0.0",
         "0.0",
         "0.0",
         "0.0",
         "0.0",
         "0.0",
         "0.0",
         "0.0",
         "0.0",
         "0.0",
         "0.0",
         "0.0",
         "0.0",
         "0.0",
         "0.0",
         "0.0",
         "0.0",
         "0.0",
         "0.0",
         "0.0",
         "0.0",
         "0.0",
         "0.0",
         "0.0",
         "0.0",
         "0.0",
         "0.0",
         "0.0",
         "0.0",
         "0.0",
         "0.0",
         "0.0",
         "0.0",
         "0.0",
         "0.0",
         "0.0",
         "0.0",
         "0.0",
         "0.0",
         "0.0",
         "0.0",
         "0.0",
         "0.0",
         "0.0",
         "0.0",
         "0.0",
         "0.0",
         "0.0",
         "0.0",
         "0.0",
         "0.0",
         "0.0",
         "0.0",
         "0.0",
         "0.0",
         "0.0",
         "0.0",
         "0.0",
         "0.0",
         "0.0",
         "0.0",
         "0.0",
         "0.0",
         "0.0",
         "0.0",
         "0.0",
         "0.0",
         "0.0",
         "0.0",
         "0.0",
         "0.0",
         "0.0",
         "0.0",
         "0.0",
         "0.0",
         "0.0",
         "0.0",
         "0.0",
         "0.0",
         "0.0",
         "0.0",
         "0.0",
         "0.0",
         "0.0",
         "0.0",
         "0.0",
         "0.0",
         "0.0",
         "0.0",
         "0.0",
         "0.0",
         "0.0",
         "0.0",
         "0.0",
         "0.0",
         "0.0",
         "0.0",
         "0.0",
         "0.0",
         "0.0",
         "0.0",
         "0.0",
         "0.0",
         "0.0",
         "0.0",
         "0.0",
         "0.0",
         "0.0",
         "0.0",
         "0.0",
         "0.0",
         "0.0",
         "0.0",
         "0.0",
         "0.0",
         "0.0",
         "0.0",
         "0.0",
         "0.0",
         "0.0",
         "0.0",
         "0.0",
         "0.0",
         "0.0",
         "0.0",
         "0.0",
         "0.0",
         "0.0",
         "0.0",
         "0.0",
         "0.0",
         "0.0",
         "0.0",
         "0.0",
         "0.0",
         "0.0",
         "0.0",
         "0.0",
         "0.0",
         "0.0",
         "0.0",
         "0.0",
         "0.0",
         "0.0",
         "0.0",
         "0.0",
         "0.0",
         "0.0",
         "0.0",
         "0.0",
         "0.0",
         "0.0",
         "0.0",
         "0.0",
         "0.0",
         "0.0",
         "0.0",
         "0.0",
         "0.0",
         "0.0",
         "0.0",
         "0.0",
         "0.0",
         "0.0",
         "0.0",
         "0.0",
         "0.0",
         "0.0",
         "0.0",
         "0.0",
         "0.0",
         "0.0",
         "0.0",
         "0.0",
         "0.0",
         "0.0",
         "0.0",
         "0.0",
         "0.0",
         "0.0",
         "0.0",
         "0.0",
         "0.0",
         "0.0",
         "0.0",
         "0.0",
         "0.0",
         "0.0",
         "0.0",
         "0.0",
         "0.0",
         "0.0",
         "0.0",
         "0.0",
         "0.0",
         "0.0",
         "0.0",
         "0.0",
         "0.0",
         "0.0",
         "0.0",
         "0.0",
         "0.0",
         "0.0",
         "0.0",
         "0.0",
         "0.0",
         "0.0",
         "0.0",
         "0.0",
         "0.0",
         "0.0",
         "0.0",
         "0.0",
         "0.0",
         "0.0",
         "0.0",
         "0.0",
         "0.0",
         "0.0",
         "0.0",
         "0.0",
         "0.0",
         "0.0",
         "0.0",
         "0.0",
         "0.0",
         "0.0",
         "0.0",
         "0.0",
         "0.0",
         "0.0",
         "0.0",
         "0.0",
         "0.0",
         "0.0",
         "0.0",
         "0.0",
         "0.0",
         "0.0",
         "0.0",
         "0.0",
         "0.0",
         "0.0",
         "0.0",
         "0.0",
         "0.0",
         "0.0",
         "0.0",
         "0.0",
         "0.0",
         "0.0",
         "0.0",
         "0.0",
         "0.0",
         "0.0",
         "0.0",
         "0.0",
         "0.0",
         "0.0",
         "0.0",
         "0.0",
         "0.0",
         "0.0",
         "0.0",
         "0.0",
         "0.0",
         "0.0",
         "0.0",
         "0.0",
         "0.0",
         "0.0",
         "0.0",
         "0.0",
         "0.0",
         "0.0",
         "0.0",
         "0.0",
         "0.0",
         "0.0",
         "0.0",
         "0.0",
         "0.0",
         "0.0",
         "0.0",
         "0.0",
         "0.0",
         "0.0",
         "0.0",
         "0.0",
         "0.0",
         "0.0",
         "0.0",
         "0.0",
         "0.0",
         "0.0",
         "0.0",
         "0.0",
         "0.0",
         "0.0",
         "0.0",
         "0.0",
         "0.0",
         "0.0",
         "0.0",
         "0.0",
         "0.0",
         "0.0",
         "0.0",
         "0.0",
         "0.0",
         "0.0",
         "0.0",
         "0.0",
         "0.0",
         "0.0",
         "0.0",
         "0.0",
         "0.0",
         "0.0",
         "0.0",
         "0.0",
         "0.0",
         "0.0",
         "0.0",
         "0.0",
         "0.0",
         "0.0",
         "0.0",
         "0.0",
         "0.0",
         "0.0",
         "0.0",
         "0.0",
         "0.0",
         "0.0",
         "0.0",
         "0.0",
         "0.0",
         "0.0",
         "0.0",
         "0.0",
         "0.0",
         "0.0",
         "0.0",
         "0.0",
         "0.0",
         "0.0",
         "0.0",
         "0.0",
         "0.0",
         "0.0",
         "0.0",
         "0.0",
         "0.0",
         "0.0",
         "0.0",
         "0.0",
         "0.0",
         "0.0",
         "0.0",
         "0.0",
         "0.0",
         "0.0",
         "0.0",
         "1.0",
         "0.0",
         "-0.3287277338153019",
         "-0.23161964399168974"
        ],
        [
         "3",
         "0.0",
         "1.0",
         "0.0",
         "0.0",
         "0.0",
         "0.0",
         "0.0",
         "0.0",
         "0.0",
         "0.0",
         "0.0",
         "0.0",
         "0.0",
         "0.0",
         "0.0",
         "0.0",
         "0.0",
         "0.0",
         "0.0",
         "0.0",
         "0.0",
         "0.0",
         "0.0",
         "0.0",
         "0.0",
         "0.0",
         "0.0",
         "0.0",
         "0.0",
         "0.0",
         "0.0",
         "0.0",
         "0.0",
         "0.0",
         "0.0",
         "0.0",
         "0.0",
         "0.0",
         "0.0",
         "0.0",
         "0.0",
         "0.0",
         "0.0",
         "0.0",
         "0.0",
         "0.0",
         "0.0",
         "0.0",
         "0.0",
         "0.0",
         "0.0",
         "0.0",
         "0.0",
         "0.0",
         "0.0",
         "0.0",
         "0.0",
         "0.0",
         "0.0",
         "0.0",
         "0.0",
         "0.0",
         "0.0",
         "0.0",
         "0.0",
         "0.0",
         "0.0",
         "0.0",
         "0.0",
         "0.0",
         "0.0",
         "0.0",
         "0.0",
         "0.0",
         "0.0",
         "0.0",
         "0.0",
         "0.0",
         "0.0",
         "0.0",
         "0.0",
         "0.0",
         "0.0",
         "0.0",
         "0.0",
         "0.0",
         "0.0",
         "0.0",
         "0.0",
         "0.0",
         "0.0",
         "0.0",
         "0.0",
         "0.0",
         "0.0",
         "0.0",
         "0.0",
         "0.0",
         "0.0",
         "0.0",
         "0.0",
         "0.0",
         "0.0",
         "0.0",
         "0.0",
         "0.0",
         "0.0",
         "0.0",
         "0.0",
         "0.0",
         "0.0",
         "0.0",
         "0.0",
         "0.0",
         "0.0",
         "0.0",
         "0.0",
         "0.0",
         "0.0",
         "0.0",
         "0.0",
         "0.0",
         "0.0",
         "0.0",
         "0.0",
         "0.0",
         "0.0",
         "0.0",
         "0.0",
         "0.0",
         "0.0",
         "0.0",
         "0.0",
         "0.0",
         "0.0",
         "0.0",
         "0.0",
         "0.0",
         "0.0",
         "0.0",
         "0.0",
         "0.0",
         "0.0",
         "0.0",
         "0.0",
         "0.0",
         "0.0",
         "0.0",
         "0.0",
         "0.0",
         "0.0",
         "0.0",
         "0.0",
         "0.0",
         "0.0",
         "0.0",
         "0.0",
         "0.0",
         "0.0",
         "0.0",
         "0.0",
         "0.0",
         "0.0",
         "0.0",
         "0.0",
         "0.0",
         "0.0",
         "0.0",
         "0.0",
         "0.0",
         "0.0",
         "0.0",
         "0.0",
         "0.0",
         "0.0",
         "0.0",
         "0.0",
         "0.0",
         "0.0",
         "0.0",
         "0.0",
         "0.0",
         "0.0",
         "0.0",
         "0.0",
         "0.0",
         "0.0",
         "0.0",
         "0.0",
         "0.0",
         "0.0",
         "0.0",
         "0.0",
         "0.0",
         "0.0",
         "0.0",
         "0.0",
         "0.0",
         "0.0",
         "0.0",
         "0.0",
         "0.0",
         "0.0",
         "0.0",
         "0.0",
         "0.0",
         "0.0",
         "0.0",
         "0.0",
         "0.0",
         "0.0",
         "0.0",
         "0.0",
         "0.0",
         "0.0",
         "0.0",
         "0.0",
         "0.0",
         "0.0",
         "0.0",
         "0.0",
         "0.0",
         "0.0",
         "0.0",
         "0.0",
         "0.0",
         "0.0",
         "0.0",
         "0.0",
         "0.0",
         "0.0",
         "0.0",
         "0.0",
         "0.0",
         "0.0",
         "0.0",
         "0.0",
         "0.0",
         "0.0",
         "0.0",
         "0.0",
         "0.0",
         "0.0",
         "0.0",
         "0.0",
         "0.0",
         "0.0",
         "0.0",
         "0.0",
         "0.0",
         "0.0",
         "0.0",
         "0.0",
         "0.0",
         "0.0",
         "0.0",
         "0.0",
         "0.0",
         "0.0",
         "0.0",
         "0.0",
         "0.0",
         "0.0",
         "0.0",
         "0.0",
         "0.0",
         "0.0",
         "0.0",
         "0.0",
         "0.0",
         "0.0",
         "0.0",
         "0.0",
         "0.0",
         "0.0",
         "0.0",
         "0.0",
         "0.0",
         "0.0",
         "0.0",
         "0.0",
         "0.0",
         "0.0",
         "0.0",
         "0.0",
         "0.0",
         "0.0",
         "0.0",
         "0.0",
         "0.0",
         "0.0",
         "0.0",
         "0.0",
         "0.0",
         "0.0",
         "0.0",
         "0.0",
         "0.0",
         "0.0",
         "0.0",
         "0.0",
         "0.0",
         "0.0",
         "0.0",
         "0.0",
         "0.0",
         "0.0",
         "0.0",
         "0.0",
         "0.0",
         "0.0",
         "0.0",
         "0.0",
         "0.0",
         "0.0",
         "0.0",
         "0.0",
         "0.0",
         "0.0",
         "0.0",
         "0.0",
         "0.0",
         "0.0",
         "0.0",
         "0.0",
         "0.0",
         "0.0",
         "0.0",
         "0.0",
         "0.0",
         "0.0",
         "0.0",
         "0.0",
         "0.0",
         "0.0",
         "0.0",
         "0.0",
         "0.0",
         "0.0",
         "0.0",
         "0.0",
         "0.0",
         "0.0",
         "0.0",
         "0.0",
         "0.0",
         "0.0",
         "0.0",
         "0.0",
         "0.0",
         "0.0",
         "0.0",
         "0.0",
         "0.0",
         "0.0",
         "0.0",
         "0.0",
         "0.0",
         "0.0",
         "0.0",
         "0.0",
         "0.0",
         "0.0",
         "0.0",
         "0.0",
         "0.0",
         "0.0",
         "0.0",
         "0.0",
         "0.0",
         "0.0",
         "0.0",
         "0.0",
         "1.0",
         "0.0",
         "0.0",
         "0.0",
         "0.0",
         "0.0",
         "0.0",
         "0.0",
         "0.0",
         "0.0",
         "0.0",
         "0.0",
         "0.0",
         "0.0",
         "0.0",
         "0.0",
         "0.0",
         "0.0",
         "0.0",
         "0.0",
         "0.0",
         "0.0",
         "0.0",
         "0.0",
         "0.0",
         "0.0",
         "0.0",
         "0.0",
         "0.0",
         "0.0",
         "0.0",
         "0.0",
         "0.0",
         "0.0",
         "0.0",
         "0.0",
         "0.0",
         "0.0",
         "0.0",
         "0.0",
         "0.0",
         "0.0",
         "0.0",
         "0.0",
         "0.0",
         "0.0",
         "0.0",
         "0.0",
         "0.0",
         "0.0",
         "0.0",
         "0.0",
         "0.0",
         "0.0",
         "0.0",
         "0.0",
         "0.0",
         "0.0",
         "0.0",
         "0.0",
         "0.0",
         "0.0",
         "0.0",
         "0.0",
         "0.0",
         "0.0",
         "0.0",
         "0.0",
         "0.0",
         "0.0",
         "0.0",
         "0.0",
         "0.0",
         "0.0",
         "0.0",
         "0.0",
         "0.0",
         "0.0",
         "0.0",
         "0.0",
         "0.0",
         "0.0",
         "0.0",
         "0.0",
         "0.0",
         "0.0",
         "0.0",
         "0.0",
         "0.0",
         "0.0",
         "0.0",
         "0.0",
         "0.0",
         "0.0",
         "0.0",
         "0.0",
         "0.0",
         "0.0",
         "0.0",
         "0.0",
         "0.0",
         "0.0",
         "0.0",
         "0.0",
         "0.0",
         "0.0",
         "0.0",
         "0.0",
         "0.0",
         "0.0",
         "0.0",
         "0.0",
         "0.0",
         "0.0",
         "0.0",
         "0.0",
         "0.0",
         "0.0",
         "0.0",
         "0.0",
         "0.0",
         "0.0",
         "0.0",
         "0.0",
         "0.0",
         "0.0",
         "0.0",
         "0.0",
         "0.0",
         "0.0",
         "0.0",
         "0.0",
         "0.0",
         "0.0",
         "0.0",
         "0.0",
         "0.0",
         "0.0",
         "0.0",
         "0.0",
         "0.0",
         "0.0",
         "0.0",
         "0.0",
         "0.0",
         "0.0",
         "0.0",
         "0.0",
         "0.0",
         "0.0",
         "0.0",
         "0.0",
         "0.0",
         "0.0",
         "0.0",
         "0.0",
         "0.0",
         "0.0",
         "0.0",
         "0.0",
         "0.0",
         "0.0",
         "0.0",
         "0.0",
         "0.0",
         "0.0",
         "0.0",
         "0.0",
         "0.0",
         "0.0",
         "0.0",
         "0.0",
         "0.0",
         "0.0",
         "0.0",
         "0.0",
         "0.0",
         "0.0",
         "0.0",
         "0.0",
         "0.0",
         "0.0",
         "0.0",
         "0.0",
         "0.0",
         "0.0",
         "0.0",
         "0.0",
         "0.0",
         "0.0",
         "0.0",
         "0.0",
         "0.0",
         "0.0",
         "0.0",
         "0.0",
         "0.0",
         "0.0",
         "0.0",
         "0.0",
         "0.0",
         "0.0",
         "0.0",
         "0.0",
         "0.0",
         "0.0",
         "0.0",
         "0.0",
         "0.0",
         "0.0",
         "0.0",
         "0.0",
         "0.0",
         "0.0",
         "0.0",
         "0.0",
         "0.0",
         "0.0",
         "0.0",
         "0.0",
         "0.0",
         "0.0",
         "0.0",
         "0.0",
         "0.0",
         "0.0",
         "0.0",
         "0.0",
         "0.0",
         "0.0",
         "0.0",
         "0.0",
         "0.0",
         "0.0",
         "0.0",
         "0.0",
         "0.0",
         "0.0",
         "0.0",
         "0.0",
         "0.0",
         "0.0",
         "0.0",
         "0.0",
         "0.0",
         "0.0",
         "0.0",
         "0.0",
         "0.0",
         "0.0",
         "0.0",
         "0.0",
         "0.0",
         "0.0",
         "0.0",
         "0.0",
         "0.0",
         "0.0",
         "0.0",
         "0.0",
         "0.0",
         "0.0",
         "0.0",
         "0.0",
         "0.0",
         "0.0",
         "0.0",
         "0.0",
         "0.0",
         "0.0",
         "0.0",
         "0.0",
         "0.0",
         "0.0",
         "0.0",
         "0.0",
         "0.0",
         "0.0",
         "0.0",
         "0.0",
         "0.0",
         "0.0",
         "0.0",
         "0.0",
         "0.0",
         "0.0",
         "0.0",
         "0.0",
         "0.0",
         "0.0",
         "0.0",
         "0.0",
         "0.0",
         "0.0",
         "0.0",
         "0.0",
         "0.0",
         "0.0",
         "0.0",
         "0.0",
         "0.0",
         "0.0",
         "0.0",
         "0.0",
         "0.0",
         "0.0",
         "0.0",
         "0.0",
         "1.0",
         "0.0",
         "0.0",
         "0.0",
         "-0.9340055835411849",
         "1.4096197438419387"
        ],
        [
         "4",
         "0.0",
         "0.0",
         "0.0",
         "0.0",
         "0.0",
         "0.0",
         "1.0",
         "0.0",
         "0.0",
         "0.0",
         "0.0",
         "0.0",
         "0.0",
         "0.0",
         "0.0",
         "0.0",
         "0.0",
         "0.0",
         "0.0",
         "0.0",
         "0.0",
         "0.0",
         "0.0",
         "0.0",
         "0.0",
         "0.0",
         "0.0",
         "0.0",
         "0.0",
         "0.0",
         "0.0",
         "0.0",
         "0.0",
         "0.0",
         "0.0",
         "0.0",
         "0.0",
         "0.0",
         "0.0",
         "0.0",
         "0.0",
         "0.0",
         "0.0",
         "0.0",
         "0.0",
         "0.0",
         "0.0",
         "0.0",
         "0.0",
         "0.0",
         "0.0",
         "0.0",
         "0.0",
         "0.0",
         "0.0",
         "0.0",
         "0.0",
         "0.0",
         "0.0",
         "0.0",
         "0.0",
         "0.0",
         "0.0",
         "0.0",
         "0.0",
         "0.0",
         "0.0",
         "0.0",
         "0.0",
         "0.0",
         "0.0",
         "0.0",
         "0.0",
         "0.0",
         "0.0",
         "0.0",
         "0.0",
         "0.0",
         "0.0",
         "0.0",
         "0.0",
         "0.0",
         "0.0",
         "0.0",
         "0.0",
         "0.0",
         "0.0",
         "0.0",
         "0.0",
         "0.0",
         "0.0",
         "0.0",
         "0.0",
         "0.0",
         "0.0",
         "0.0",
         "0.0",
         "0.0",
         "0.0",
         "0.0",
         "0.0",
         "0.0",
         "0.0",
         "0.0",
         "0.0",
         "0.0",
         "0.0",
         "0.0",
         "0.0",
         "0.0",
         "0.0",
         "0.0",
         "0.0",
         "0.0",
         "0.0",
         "0.0",
         "0.0",
         "0.0",
         "0.0",
         "0.0",
         "0.0",
         "0.0",
         "0.0",
         "0.0",
         "0.0",
         "0.0",
         "0.0",
         "0.0",
         "0.0",
         "0.0",
         "0.0",
         "0.0",
         "0.0",
         "0.0",
         "0.0",
         "0.0",
         "0.0",
         "0.0",
         "0.0",
         "0.0",
         "0.0",
         "0.0",
         "0.0",
         "0.0",
         "0.0",
         "0.0",
         "0.0",
         "0.0",
         "0.0",
         "0.0",
         "0.0",
         "0.0",
         "0.0",
         "0.0",
         "0.0",
         "0.0",
         "0.0",
         "0.0",
         "0.0",
         "0.0",
         "0.0",
         "0.0",
         "0.0",
         "0.0",
         "0.0",
         "0.0",
         "0.0",
         "0.0",
         "0.0",
         "0.0",
         "0.0",
         "0.0",
         "0.0",
         "0.0",
         "0.0",
         "0.0",
         "0.0",
         "0.0",
         "0.0",
         "0.0",
         "0.0",
         "0.0",
         "0.0",
         "0.0",
         "0.0",
         "0.0",
         "0.0",
         "0.0",
         "0.0",
         "0.0",
         "0.0",
         "0.0",
         "0.0",
         "0.0",
         "0.0",
         "0.0",
         "0.0",
         "0.0",
         "0.0",
         "0.0",
         "0.0",
         "0.0",
         "0.0",
         "0.0",
         "0.0",
         "0.0",
         "0.0",
         "0.0",
         "0.0",
         "0.0",
         "0.0",
         "0.0",
         "0.0",
         "0.0",
         "0.0",
         "0.0",
         "0.0",
         "0.0",
         "0.0",
         "0.0",
         "0.0",
         "0.0",
         "0.0",
         "0.0",
         "0.0",
         "0.0",
         "0.0",
         "0.0",
         "0.0",
         "0.0",
         "0.0",
         "0.0",
         "0.0",
         "0.0",
         "0.0",
         "0.0",
         "0.0",
         "0.0",
         "0.0",
         "0.0",
         "0.0",
         "0.0",
         "0.0",
         "0.0",
         "0.0",
         "0.0",
         "0.0",
         "0.0",
         "0.0",
         "0.0",
         "0.0",
         "0.0",
         "0.0",
         "0.0",
         "0.0",
         "0.0",
         "0.0",
         "0.0",
         "0.0",
         "0.0",
         "0.0",
         "0.0",
         "0.0",
         "0.0",
         "0.0",
         "0.0",
         "0.0",
         "0.0",
         "0.0",
         "0.0",
         "0.0",
         "0.0",
         "0.0",
         "0.0",
         "0.0",
         "0.0",
         "0.0",
         "0.0",
         "0.0",
         "0.0",
         "0.0",
         "0.0",
         "0.0",
         "0.0",
         "0.0",
         "0.0",
         "0.0",
         "0.0",
         "0.0",
         "0.0",
         "0.0",
         "0.0",
         "0.0",
         "0.0",
         "0.0",
         "0.0",
         "0.0",
         "0.0",
         "0.0",
         "0.0",
         "0.0",
         "0.0",
         "0.0",
         "0.0",
         "0.0",
         "0.0",
         "0.0",
         "0.0",
         "0.0",
         "0.0",
         "0.0",
         "0.0",
         "0.0",
         "0.0",
         "0.0",
         "0.0",
         "0.0",
         "0.0",
         "0.0",
         "0.0",
         "0.0",
         "0.0",
         "0.0",
         "0.0",
         "0.0",
         "0.0",
         "0.0",
         "0.0",
         "0.0",
         "0.0",
         "0.0",
         "0.0",
         "0.0",
         "0.0",
         "0.0",
         "0.0",
         "0.0",
         "0.0",
         "0.0",
         "0.0",
         "0.0",
         "0.0",
         "0.0",
         "0.0",
         "0.0",
         "0.0",
         "0.0",
         "0.0",
         "0.0",
         "0.0",
         "0.0",
         "0.0",
         "0.0",
         "0.0",
         "0.0",
         "0.0",
         "0.0",
         "0.0",
         "0.0",
         "0.0",
         "0.0",
         "0.0",
         "0.0",
         "0.0",
         "0.0",
         "0.0",
         "0.0",
         "0.0",
         "0.0",
         "0.0",
         "0.0",
         "0.0",
         "0.0",
         "0.0",
         "0.0",
         "0.0",
         "0.0",
         "0.0",
         "0.0",
         "0.0",
         "0.0",
         "0.0",
         "0.0",
         "0.0",
         "0.0",
         "0.0",
         "0.0",
         "0.0",
         "0.0",
         "0.0",
         "0.0",
         "0.0",
         "0.0",
         "0.0",
         "0.0",
         "0.0",
         "0.0",
         "0.0",
         "0.0",
         "0.0",
         "0.0",
         "0.0",
         "0.0",
         "0.0",
         "0.0",
         "0.0",
         "0.0",
         "0.0",
         "0.0",
         "0.0",
         "0.0",
         "0.0",
         "0.0",
         "0.0",
         "0.0",
         "0.0",
         "0.0",
         "0.0",
         "0.0",
         "0.0",
         "0.0",
         "0.0",
         "0.0",
         "0.0",
         "0.0",
         "0.0",
         "0.0",
         "0.0",
         "0.0",
         "0.0",
         "0.0",
         "0.0",
         "0.0",
         "0.0",
         "0.0",
         "0.0",
         "0.0",
         "0.0",
         "0.0",
         "0.0",
         "0.0",
         "0.0",
         "0.0",
         "0.0",
         "0.0",
         "0.0",
         "0.0",
         "0.0",
         "0.0",
         "0.0",
         "0.0",
         "0.0",
         "0.0",
         "0.0",
         "0.0",
         "0.0",
         "0.0",
         "0.0",
         "0.0",
         "0.0",
         "0.0",
         "0.0",
         "0.0",
         "0.0",
         "0.0",
         "0.0",
         "0.0",
         "0.0",
         "0.0",
         "0.0",
         "0.0",
         "0.0",
         "0.0",
         "0.0",
         "0.0",
         "0.0",
         "0.0",
         "0.0",
         "0.0",
         "0.0",
         "0.0",
         "0.0",
         "0.0",
         "0.0",
         "0.0",
         "0.0",
         "0.0",
         "0.0",
         "0.0",
         "0.0",
         "0.0",
         "0.0",
         "0.0",
         "0.0",
         "0.0",
         "0.0",
         "0.0",
         "0.0",
         "0.0",
         "0.0",
         "0.0",
         "0.0",
         "0.0",
         "0.0",
         "0.0",
         "0.0",
         "0.0",
         "0.0",
         "0.0",
         "1.0",
         "0.0",
         "0.0",
         "0.0",
         "0.0",
         "0.0",
         "0.0",
         "0.0",
         "0.0",
         "0.0",
         "0.0",
         "0.0",
         "0.0",
         "0.0",
         "0.0",
         "0.0",
         "0.0",
         "0.0",
         "0.0",
         "0.0",
         "0.0",
         "0.0",
         "0.0",
         "0.0",
         "0.0",
         "0.0",
         "0.0",
         "0.0",
         "0.0",
         "0.0",
         "0.0",
         "0.0",
         "0.0",
         "0.0",
         "0.0",
         "0.0",
         "0.0",
         "0.0",
         "0.0",
         "0.0",
         "0.0",
         "0.0",
         "0.0",
         "0.0",
         "0.0",
         "0.0",
         "0.0",
         "0.0",
         "0.0",
         "0.0",
         "0.0",
         "0.0",
         "0.0",
         "0.0",
         "0.0",
         "0.0",
         "0.0",
         "0.0",
         "0.0",
         "0.0",
         "0.0",
         "0.0",
         "0.0",
         "0.0",
         "0.0",
         "0.0",
         "0.0",
         "0.0",
         "0.0",
         "0.0",
         "0.0",
         "0.0",
         "0.0",
         "0.0",
         "0.0",
         "0.0",
         "0.0",
         "0.0",
         "0.0",
         "0.0",
         "0.0",
         "0.0",
         "0.0",
         "0.0",
         "0.0",
         "0.0",
         "0.0",
         "0.0",
         "0.0",
         "0.0",
         "0.0",
         "0.0",
         "0.0",
         "0.0",
         "0.0",
         "0.0",
         "0.0",
         "0.0",
         "0.0",
         "0.0",
         "0.0",
         "0.0",
         "0.0",
         "0.0",
         "0.0",
         "0.0",
         "0.0",
         "0.0",
         "0.0",
         "0.0",
         "0.0",
         "0.0",
         "0.0",
         "0.0",
         "0.0",
         "0.0",
         "0.0",
         "0.0",
         "0.0",
         "0.0",
         "0.0",
         "0.0",
         "0.0",
         "0.0",
         "0.0",
         "0.0",
         "0.0",
         "0.0",
         "0.0",
         "0.0",
         "0.0",
         "0.0",
         "0.0",
         "0.0",
         "0.0",
         "0.0",
         "0.0",
         "0.0",
         "0.0",
         "0.0",
         "0.0",
         "0.0",
         "0.0",
         "0.0",
         "0.0",
         "0.0",
         "0.0",
         "0.0",
         "0.0",
         "0.0",
         "0.0",
         "0.0",
         "0.0",
         "0.0",
         "0.0",
         "0.0",
         "0.0",
         "0.0",
         "0.0",
         "0.0",
         "0.0",
         "0.0",
         "0.0",
         "0.0",
         "0.0",
         "0.0",
         "0.0",
         "0.0",
         "0.0",
         "0.0",
         "0.0",
         "0.0",
         "1.0",
         "0.0",
         "0.0",
         "0.0",
         "0.881827965636464",
         "-0.22711773738169727"
        ]
       ],
       "shape": {
        "columns": 687,
        "rows": 5
       }
      },
      "text/html": [
       "<div>\n",
       "<style scoped>\n",
       "    .dataframe tbody tr th:only-of-type {\n",
       "        vertical-align: middle;\n",
       "    }\n",
       "\n",
       "    .dataframe tbody tr th {\n",
       "        vertical-align: top;\n",
       "    }\n",
       "\n",
       "    .dataframe thead th {\n",
       "        text-align: right;\n",
       "    }\n",
       "</style>\n",
       "<table border=\"1\" class=\"dataframe\">\n",
       "  <thead>\n",
       "    <tr style=\"text-align: right;\">\n",
       "      <th></th>\n",
       "      <th>State_Name_Andaman and Nicobar Islands</th>\n",
       "      <th>State_Name_Andhra Pradesh</th>\n",
       "      <th>State_Name_Arunachal Pradesh</th>\n",
       "      <th>State_Name_Assam</th>\n",
       "      <th>State_Name_Bihar</th>\n",
       "      <th>State_Name_Chandigarh</th>\n",
       "      <th>State_Name_Chhattisgarh</th>\n",
       "      <th>State_Name_Dadra and Nagar Haveli</th>\n",
       "      <th>State_Name_Goa</th>\n",
       "      <th>State_Name_Gujarat</th>\n",
       "      <th>...</th>\n",
       "      <th>District_Name_YAVATMAL</th>\n",
       "      <th>District_Name_ZUNHEBOTO</th>\n",
       "      <th>Season_Autumn</th>\n",
       "      <th>Season_Kharif</th>\n",
       "      <th>Season_Rabi</th>\n",
       "      <th>Season_Summer</th>\n",
       "      <th>Season_Whole Year</th>\n",
       "      <th>Season_Winter</th>\n",
       "      <th>Crop_Year</th>\n",
       "      <th>Area</th>\n",
       "    </tr>\n",
       "  </thead>\n",
       "  <tbody>\n",
       "    <tr>\n",
       "      <th>0</th>\n",
       "      <td>0.0</td>\n",
       "      <td>0.0</td>\n",
       "      <td>0.0</td>\n",
       "      <td>0.0</td>\n",
       "      <td>0.0</td>\n",
       "      <td>0.0</td>\n",
       "      <td>0.0</td>\n",
       "      <td>0.0</td>\n",
       "      <td>0.0</td>\n",
       "      <td>0.0</td>\n",
       "      <td>...</td>\n",
       "      <td>0.0</td>\n",
       "      <td>0.0</td>\n",
       "      <td>0.0</td>\n",
       "      <td>1.0</td>\n",
       "      <td>0.0</td>\n",
       "      <td>0.0</td>\n",
       "      <td>0.0</td>\n",
       "      <td>0.0</td>\n",
       "      <td>0.478309</td>\n",
       "      <td>0.601632</td>\n",
       "    </tr>\n",
       "    <tr>\n",
       "      <th>1</th>\n",
       "      <td>0.0</td>\n",
       "      <td>0.0</td>\n",
       "      <td>0.0</td>\n",
       "      <td>1.0</td>\n",
       "      <td>0.0</td>\n",
       "      <td>0.0</td>\n",
       "      <td>0.0</td>\n",
       "      <td>0.0</td>\n",
       "      <td>0.0</td>\n",
       "      <td>0.0</td>\n",
       "      <td>...</td>\n",
       "      <td>0.0</td>\n",
       "      <td>0.0</td>\n",
       "      <td>0.0</td>\n",
       "      <td>0.0</td>\n",
       "      <td>0.0</td>\n",
       "      <td>0.0</td>\n",
       "      <td>0.0</td>\n",
       "      <td>1.0</td>\n",
       "      <td>0.478309</td>\n",
       "      <td>1.500874</td>\n",
       "    </tr>\n",
       "    <tr>\n",
       "      <th>2</th>\n",
       "      <td>0.0</td>\n",
       "      <td>0.0</td>\n",
       "      <td>0.0</td>\n",
       "      <td>0.0</td>\n",
       "      <td>0.0</td>\n",
       "      <td>0.0</td>\n",
       "      <td>0.0</td>\n",
       "      <td>0.0</td>\n",
       "      <td>0.0</td>\n",
       "      <td>0.0</td>\n",
       "      <td>...</td>\n",
       "      <td>0.0</td>\n",
       "      <td>0.0</td>\n",
       "      <td>0.0</td>\n",
       "      <td>0.0</td>\n",
       "      <td>0.0</td>\n",
       "      <td>0.0</td>\n",
       "      <td>1.0</td>\n",
       "      <td>0.0</td>\n",
       "      <td>-0.328728</td>\n",
       "      <td>-0.231620</td>\n",
       "    </tr>\n",
       "    <tr>\n",
       "      <th>3</th>\n",
       "      <td>0.0</td>\n",
       "      <td>1.0</td>\n",
       "      <td>0.0</td>\n",
       "      <td>0.0</td>\n",
       "      <td>0.0</td>\n",
       "      <td>0.0</td>\n",
       "      <td>0.0</td>\n",
       "      <td>0.0</td>\n",
       "      <td>0.0</td>\n",
       "      <td>0.0</td>\n",
       "      <td>...</td>\n",
       "      <td>0.0</td>\n",
       "      <td>0.0</td>\n",
       "      <td>0.0</td>\n",
       "      <td>0.0</td>\n",
       "      <td>1.0</td>\n",
       "      <td>0.0</td>\n",
       "      <td>0.0</td>\n",
       "      <td>0.0</td>\n",
       "      <td>-0.934006</td>\n",
       "      <td>1.409620</td>\n",
       "    </tr>\n",
       "    <tr>\n",
       "      <th>4</th>\n",
       "      <td>0.0</td>\n",
       "      <td>0.0</td>\n",
       "      <td>0.0</td>\n",
       "      <td>0.0</td>\n",
       "      <td>0.0</td>\n",
       "      <td>0.0</td>\n",
       "      <td>1.0</td>\n",
       "      <td>0.0</td>\n",
       "      <td>0.0</td>\n",
       "      <td>0.0</td>\n",
       "      <td>...</td>\n",
       "      <td>0.0</td>\n",
       "      <td>0.0</td>\n",
       "      <td>0.0</td>\n",
       "      <td>0.0</td>\n",
       "      <td>1.0</td>\n",
       "      <td>0.0</td>\n",
       "      <td>0.0</td>\n",
       "      <td>0.0</td>\n",
       "      <td>0.881828</td>\n",
       "      <td>-0.227118</td>\n",
       "    </tr>\n",
       "  </tbody>\n",
       "</table>\n",
       "<p>5 rows × 687 columns</p>\n",
       "</div>"
      ],
      "text/plain": [
       "   State_Name_Andaman and Nicobar Islands  State_Name_Andhra Pradesh  \\\n",
       "0                                     0.0                        0.0   \n",
       "1                                     0.0                        0.0   \n",
       "2                                     0.0                        0.0   \n",
       "3                                     0.0                        1.0   \n",
       "4                                     0.0                        0.0   \n",
       "\n",
       "   State_Name_Arunachal Pradesh  State_Name_Assam  State_Name_Bihar  \\\n",
       "0                           0.0               0.0               0.0   \n",
       "1                           0.0               1.0               0.0   \n",
       "2                           0.0               0.0               0.0   \n",
       "3                           0.0               0.0               0.0   \n",
       "4                           0.0               0.0               0.0   \n",
       "\n",
       "   State_Name_Chandigarh  State_Name_Chhattisgarh  \\\n",
       "0                    0.0                      0.0   \n",
       "1                    0.0                      0.0   \n",
       "2                    0.0                      0.0   \n",
       "3                    0.0                      0.0   \n",
       "4                    0.0                      1.0   \n",
       "\n",
       "   State_Name_Dadra and Nagar Haveli  State_Name_Goa  State_Name_Gujarat  ...  \\\n",
       "0                                0.0             0.0                 0.0  ...   \n",
       "1                                0.0             0.0                 0.0  ...   \n",
       "2                                0.0             0.0                 0.0  ...   \n",
       "3                                0.0             0.0                 0.0  ...   \n",
       "4                                0.0             0.0                 0.0  ...   \n",
       "\n",
       "   District_Name_YAVATMAL  District_Name_ZUNHEBOTO  Season_Autumn       \\\n",
       "0                     0.0                      0.0                 0.0   \n",
       "1                     0.0                      0.0                 0.0   \n",
       "2                     0.0                      0.0                 0.0   \n",
       "3                     0.0                      0.0                 0.0   \n",
       "4                     0.0                      0.0                 0.0   \n",
       "\n",
       "   Season_Kharif       Season_Rabi         Season_Summer       \\\n",
       "0                 1.0                 0.0                 0.0   \n",
       "1                 0.0                 0.0                 0.0   \n",
       "2                 0.0                 0.0                 0.0   \n",
       "3                 0.0                 1.0                 0.0   \n",
       "4                 0.0                 1.0                 0.0   \n",
       "\n",
       "   Season_Whole Year   Season_Winter       Crop_Year      Area  \n",
       "0                 0.0                 0.0   0.478309  0.601632  \n",
       "1                 0.0                 1.0   0.478309  1.500874  \n",
       "2                 1.0                 0.0  -0.328728 -0.231620  \n",
       "3                 0.0                 0.0  -0.934006  1.409620  \n",
       "4                 0.0                 0.0   0.881828 -0.227118  \n",
       "\n",
       "[5 rows x 687 columns]"
      ]
     },
     "execution_count": 11,
     "metadata": {},
     "output_type": "execute_result"
    }
   ],
   "source": [
    "# Get feature names after transformation\n",
    "X_train_prep = preprocessor.fit_transform(X_train)\n",
    "X_test_prep = preprocessor.transform(X_test)\n",
    "\n",
    "ohe_features = preprocessor.named_transformers_['cat'].get_feature_names_out(categorical_features)\n",
    "all_features = list(ohe_features) + numeric_features\n",
    "\n",
    "# Convert to DataFrame\n",
    "import pandas as pd\n",
    "X_train_prep_df = pd.DataFrame(X_train_prep.toarray(), columns=all_features)\n",
    "X_test_prep_df = pd.DataFrame(X_test_prep.toarray(), columns=all_features)\n",
    "\n",
    "X_train_prep_df.head()"
   ]
  },
  {
   "cell_type": "code",
   "execution_count": 12,
   "id": "85d9dad8",
   "metadata": {},
   "outputs": [],
   "source": [
    "# Fit-transform train data\n",
    "X_train_prep = preprocessor.fit_transform(X_train)\n",
    "\n",
    "# Transform test data\n",
    "X_test_prep = preprocessor.transform(X_test)\n"
   ]
  },
  {
   "cell_type": "code",
   "execution_count": 13,
   "id": "1552e0f1",
   "metadata": {},
   "outputs": [
    {
     "data": {
      "text/plain": [
       "<Compressed Sparse Row sparse matrix of dtype 'float64'\n",
       "\twith 969440 stored elements and shape (193888, 687)>"
      ]
     },
     "execution_count": 13,
     "metadata": {},
     "output_type": "execute_result"
    }
   ],
   "source": [
    "X_train_prep"
   ]
  },
  {
   "cell_type": "code",
   "execution_count": null,
   "id": "d9b52f4b",
   "metadata": {},
   "outputs": [],
   "source": [
    "from sklearn.ensemble import RandomForestClassifier\n",
    "from sklearn.metrics import accuracy_score\n",
    "\n",
    "rf = RandomForestClassifier()\n",
    "rf.fit(X_train_prep, y_train)\n",
    "y_pred = rf.predict(X_test_prep)\n",
    "print(\"Accuracy:\", accuracy_score(y_test, y_pred))"
   ]
  },
  {
   "cell_type": "code",
   "execution_count": null,
   "id": "27c81da8",
   "metadata": {},
   "outputs": [],
   "source": [
    "'''from sklearn.ensemble import RandomForestClassifier\n",
    "from sklearn.metrics import accuracy_score\n",
    "\n",
    "rf = RandomForestClassifier(\n",
    "    n_estimators=200,\n",
    "    max_depth=25,\n",
    "    random_state=42,\n",
    "    n_jobs=-1\n",
    ")\n",
    "rf.fit(X_train_prep, y_train)\n",
    "y_pred = rf.predict(X_test)\n",
    "print(\"Accuracy:\", accuracy_score(y_test, y_pred))'''\n"
   ]
  },
  {
   "cell_type": "code",
   "execution_count": null,
   "metadata": {},
   "outputs": [
    {
     "ename": "NameError",
     "evalue": "name 'y_test' is not defined",
     "output_type": "error",
     "traceback": [
      "\u001b[1;31m---------------------------------------------------------------------------\u001b[0m",
      "\u001b[1;31mNameError\u001b[0m                                 Traceback (most recent call last)",
      "Cell \u001b[1;32mIn[10], line 5\u001b[0m\n\u001b[0;32m      2\u001b[0m \u001b[38;5;28;01mimport\u001b[39;00m \u001b[38;5;21;01mmatplotlib\u001b[39;00m\u001b[38;5;21;01m.\u001b[39;00m\u001b[38;5;21;01mpyplot\u001b[39;00m \u001b[38;5;28;01mas\u001b[39;00m \u001b[38;5;21;01mplt\u001b[39;00m\n\u001b[0;32m      3\u001b[0m \u001b[38;5;28;01mimport\u001b[39;00m \u001b[38;5;21;01mseaborn\u001b[39;00m \u001b[38;5;28;01mas\u001b[39;00m \u001b[38;5;21;01msns\u001b[39;00m\n\u001b[1;32m----> 5\u001b[0m cm \u001b[38;5;241m=\u001b[39m confusion_matrix(\u001b[43my_test\u001b[49m, y_pred)\n\u001b[0;32m      6\u001b[0m plt\u001b[38;5;241m.\u001b[39mfigure(figsize\u001b[38;5;241m=\u001b[39m(\u001b[38;5;241m10\u001b[39m,\u001b[38;5;241m7\u001b[39m))\n\u001b[0;32m      7\u001b[0m sns\u001b[38;5;241m.\u001b[39mheatmap(cm, annot\u001b[38;5;241m=\u001b[39m\u001b[38;5;28;01mFalse\u001b[39;00m, cmap\u001b[38;5;241m=\u001b[39m\u001b[38;5;124m'\u001b[39m\u001b[38;5;124mBlues\u001b[39m\u001b[38;5;124m'\u001b[39m)\n",
      "\u001b[1;31mNameError\u001b[0m: name 'y_test' is not defined"
     ]
    }
   ],
   "source": [
    "# Confusion Matrix\n",
    "import matplotlib.pyplot as plt\n",
    "import seaborn as sns\n",
    "\n",
    "cm = confusion_matrix(y_test, y_pred)\n",
    "plt.figure(figsize=(10,7))\n",
    "sns.heatmap(cm, annot=False, cmap='Blues')\n",
    "plt.title('Confusion Matrix')\n",
    "plt.xlabel('Predicted')\n",
    "plt.ylabel('Actual')\n",
    "plt.show()"
   ]
  }
 ],
 "metadata": {
  "kernelspec": {
   "display_name": "Python 3",
   "language": "python",
   "name": "python3"
  },
  "language_info": {
   "codemirror_mode": {
    "name": "ipython",
    "version": 3
   },
   "file_extension": ".py",
   "mimetype": "text/x-python",
   "name": "python",
   "nbconvert_exporter": "python",
   "pygments_lexer": "ipython3",
   "version": "3.12.6"
  }
 },
 "nbformat": 4,
 "nbformat_minor": 5
}

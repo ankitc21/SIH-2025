{
 "cells": [
  {
   "cell_type": "code",
   "execution_count": 2,
   "id": "baa45107",
   "metadata": {},
   "outputs": [
    {
     "data": {
      "application/vnd.microsoft.datawrangler.viewer.v0+json": {
       "columns": [
        {
         "name": "index",
         "rawType": "int64",
         "type": "integer"
        },
        {
         "name": "State_Name",
         "rawType": "object",
         "type": "string"
        },
        {
         "name": "District_Name",
         "rawType": "object",
         "type": "string"
        },
        {
         "name": "Crop_Year",
         "rawType": "int64",
         "type": "integer"
        },
        {
         "name": "Season",
         "rawType": "object",
         "type": "string"
        },
        {
         "name": "Crop",
         "rawType": "object",
         "type": "string"
        },
        {
         "name": "Area",
         "rawType": "float64",
         "type": "float"
        },
        {
         "name": "Production",
         "rawType": "float64",
         "type": "float"
        }
       ],
       "ref": "331a149d-2010-4b47-b6c2-2ff70520b45e",
       "rows": [
        [
         "0",
         "Andaman and Nicobar Islands",
         "NICOBARS",
         "2000",
         "Kharif     ",
         "Arecanut",
         "1254.0",
         "2000.0"
        ],
        [
         "1",
         "Andaman and Nicobar Islands",
         "NICOBARS",
         "2000",
         "Kharif     ",
         "Other Kharif pulses",
         "2.0",
         "1.0"
        ],
        [
         "2",
         "Andaman and Nicobar Islands",
         "NICOBARS",
         "2000",
         "Kharif     ",
         "Rice",
         "102.0",
         "321.0"
        ],
        [
         "3",
         "Andaman and Nicobar Islands",
         "NICOBARS",
         "2000",
         "Whole Year ",
         "Banana",
         "176.0",
         "641.0"
        ],
        [
         "4",
         "Andaman and Nicobar Islands",
         "NICOBARS",
         "2000",
         "Whole Year ",
         "Cashewnut",
         "720.0",
         "165.0"
        ],
        [
         "5",
         "Andaman and Nicobar Islands",
         "NICOBARS",
         "2000",
         "Whole Year ",
         "Coconut ",
         "18168.0",
         "65100000.0"
        ],
        [
         "6",
         "Andaman and Nicobar Islands",
         "NICOBARS",
         "2000",
         "Whole Year ",
         "Dry ginger",
         "36.0",
         "100.0"
        ],
        [
         "7",
         "Andaman and Nicobar Islands",
         "NICOBARS",
         "2000",
         "Whole Year ",
         "Sugarcane",
         "1.0",
         "2.0"
        ],
        [
         "8",
         "Andaman and Nicobar Islands",
         "NICOBARS",
         "2000",
         "Whole Year ",
         "Sweet potato",
         "5.0",
         "15.0"
        ],
        [
         "9",
         "Andaman and Nicobar Islands",
         "NICOBARS",
         "2000",
         "Whole Year ",
         "Tapioca",
         "40.0",
         "169.0"
        ],
        [
         "10",
         "Andaman and Nicobar Islands",
         "NICOBARS",
         "2001",
         "Kharif     ",
         "Arecanut",
         "1254.0",
         "2061.0"
        ],
        [
         "11",
         "Andaman and Nicobar Islands",
         "NICOBARS",
         "2001",
         "Kharif     ",
         "Other Kharif pulses",
         "2.0",
         "1.0"
        ],
        [
         "12",
         "Andaman and Nicobar Islands",
         "NICOBARS",
         "2001",
         "Kharif     ",
         "Rice",
         "83.0",
         "300.0"
        ],
        [
         "13",
         "Andaman and Nicobar Islands",
         "NICOBARS",
         "2001",
         "Whole Year ",
         "Cashewnut",
         "719.0",
         "192.0"
        ],
        [
         "14",
         "Andaman and Nicobar Islands",
         "NICOBARS",
         "2001",
         "Whole Year ",
         "Coconut ",
         "18190.0",
         "64430000.0"
        ],
        [
         "15",
         "Andaman and Nicobar Islands",
         "NICOBARS",
         "2001",
         "Whole Year ",
         "Dry ginger",
         "46.0",
         "100.0"
        ],
        [
         "16",
         "Andaman and Nicobar Islands",
         "NICOBARS",
         "2001",
         "Whole Year ",
         "Sugarcane",
         "1.0",
         "1.0"
        ],
        [
         "17",
         "Andaman and Nicobar Islands",
         "NICOBARS",
         "2001",
         "Whole Year ",
         "Sweet potato",
         "11.0",
         "33.0"
        ],
        [
         "18",
         "Andaman and Nicobar Islands",
         "NICOBARS",
         "2002",
         "Kharif     ",
         "Rice",
         "189.2",
         "510.84"
        ],
        [
         "19",
         "Andaman and Nicobar Islands",
         "NICOBARS",
         "2002",
         "Whole Year ",
         "Arecanut",
         "1258.0",
         "2083.0"
        ],
        [
         "20",
         "Andaman and Nicobar Islands",
         "NICOBARS",
         "2002",
         "Whole Year ",
         "Banana",
         "213.0",
         "1278.0"
        ],
        [
         "21",
         "Andaman and Nicobar Islands",
         "NICOBARS",
         "2002",
         "Whole Year ",
         "Black pepper",
         "63.0",
         "13.5"
        ],
        [
         "22",
         "Andaman and Nicobar Islands",
         "NICOBARS",
         "2002",
         "Whole Year ",
         "Cashewnut",
         "719.0",
         "208.0"
        ],
        [
         "23",
         "Andaman and Nicobar Islands",
         "NICOBARS",
         "2002",
         "Whole Year ",
         "Coconut ",
         "18240.0",
         "67490000.0"
        ],
        [
         "24",
         "Andaman and Nicobar Islands",
         "NICOBARS",
         "2002",
         "Whole Year ",
         "Dry chillies",
         "413.0",
         "28.8"
        ],
        [
         "25",
         "Andaman and Nicobar Islands",
         "NICOBARS",
         "2002",
         "Whole Year ",
         "Dry ginger",
         "47.3",
         "133.0"
        ],
        [
         "26",
         "Andaman and Nicobar Islands",
         "NICOBARS",
         "2002",
         "Whole Year ",
         "Sugarcane",
         "5.0",
         "40.0"
        ],
        [
         "27",
         "Andaman and Nicobar Islands",
         "NICOBARS",
         "2003",
         "Kharif     ",
         "Rice",
         "52.0",
         "90.17"
        ],
        [
         "28",
         "Andaman and Nicobar Islands",
         "NICOBARS",
         "2003",
         "Whole Year ",
         "Arecanut",
         "1261.0",
         "1525.0"
        ],
        [
         "29",
         "Andaman and Nicobar Islands",
         "NICOBARS",
         "2003",
         "Whole Year ",
         "Banana",
         "266.0",
         "1763.0"
        ],
        [
         "30",
         "Andaman and Nicobar Islands",
         "NICOBARS",
         "2003",
         "Whole Year ",
         "Black pepper",
         "75.5",
         "15.86"
        ],
        [
         "31",
         "Andaman and Nicobar Islands",
         "NICOBARS",
         "2003",
         "Whole Year ",
         "Cashewnut",
         "717.0",
         "208.5"
        ],
        [
         "32",
         "Andaman and Nicobar Islands",
         "NICOBARS",
         "2003",
         "Whole Year ",
         "Coconut ",
         "18284.74",
         "68580000.0"
        ],
        [
         "33",
         "Andaman and Nicobar Islands",
         "NICOBARS",
         "2003",
         "Whole Year ",
         "Dry chillies",
         "60.0",
         "102.0"
        ],
        [
         "34",
         "Andaman and Nicobar Islands",
         "NICOBARS",
         "2003",
         "Whole Year ",
         "Dry ginger",
         "102.0",
         "326.4"
        ],
        [
         "35",
         "Andaman and Nicobar Islands",
         "NICOBARS",
         "2003",
         "Whole Year ",
         "other oilseeds",
         "4.2",
         "0.3"
        ],
        [
         "36",
         "Andaman and Nicobar Islands",
         "NICOBARS",
         "2004",
         "Kharif     ",
         "Rice",
         "52.94",
         "72.57"
        ],
        [
         "37",
         "Andaman and Nicobar Islands",
         "NICOBARS",
         "2004",
         "Whole Year ",
         "Arecanut",
         "1264.7",
         "805.85"
        ],
        [
         "38",
         "Andaman and Nicobar Islands",
         "NICOBARS",
         "2004",
         "Whole Year ",
         "Banana",
         "66.42",
         "404.12"
        ],
        [
         "39",
         "Andaman and Nicobar Islands",
         "NICOBARS",
         "2004",
         "Whole Year ",
         "Black pepper",
         "85.0",
         "15.86"
        ],
        [
         "40",
         "Andaman and Nicobar Islands",
         "NICOBARS",
         "2004",
         "Whole Year ",
         "Cashewnut",
         "683.5",
         "197.9"
        ],
        [
         "41",
         "Andaman and Nicobar Islands",
         "NICOBARS",
         "2004",
         "Whole Year ",
         "Coconut ",
         "18394.7",
         "52380000.0"
        ],
        [
         "42",
         "Andaman and Nicobar Islands",
         "NICOBARS",
         "2004",
         "Whole Year ",
         "Dry chillies",
         "60.0",
         "145.2"
        ],
        [
         "43",
         "Andaman and Nicobar Islands",
         "NICOBARS",
         "2004",
         "Whole Year ",
         "Dry ginger",
         "118.0",
         "366.0"
        ],
        [
         "44",
         "Andaman and Nicobar Islands",
         "NICOBARS",
         "2004",
         "Whole Year ",
         "other oilseeds",
         "1.0",
         "0.11"
        ],
        [
         "45",
         "Andaman and Nicobar Islands",
         "NICOBARS",
         "2005",
         "Kharif     ",
         "Rice",
         "2.09",
         "12.06"
        ],
        [
         "46",
         "Andaman and Nicobar Islands",
         "NICOBARS",
         "2005",
         "Whole Year ",
         "Arecanut",
         "795.67",
         null
        ],
        [
         "47",
         "Andaman and Nicobar Islands",
         "NICOBARS",
         "2005",
         "Whole Year ",
         "Banana",
         "22.0",
         "582.0"
        ],
        [
         "48",
         "Andaman and Nicobar Islands",
         "NICOBARS",
         "2005",
         "Whole Year ",
         "Black pepper",
         "41.0",
         "0.1"
        ],
        [
         "49",
         "Andaman and Nicobar Islands",
         "NICOBARS",
         "2005",
         "Whole Year ",
         "Cashewnut",
         "450.0",
         "55.8"
        ]
       ],
       "shape": {
        "columns": 7,
        "rows": 246091
       }
      },
      "text/html": [
       "<div>\n",
       "<style scoped>\n",
       "    .dataframe tbody tr th:only-of-type {\n",
       "        vertical-align: middle;\n",
       "    }\n",
       "\n",
       "    .dataframe tbody tr th {\n",
       "        vertical-align: top;\n",
       "    }\n",
       "\n",
       "    .dataframe thead th {\n",
       "        text-align: right;\n",
       "    }\n",
       "</style>\n",
       "<table border=\"1\" class=\"dataframe\">\n",
       "  <thead>\n",
       "    <tr style=\"text-align: right;\">\n",
       "      <th></th>\n",
       "      <th>State_Name</th>\n",
       "      <th>District_Name</th>\n",
       "      <th>Crop_Year</th>\n",
       "      <th>Season</th>\n",
       "      <th>Crop</th>\n",
       "      <th>Area</th>\n",
       "      <th>Production</th>\n",
       "    </tr>\n",
       "  </thead>\n",
       "  <tbody>\n",
       "    <tr>\n",
       "      <th>0</th>\n",
       "      <td>Andaman and Nicobar Islands</td>\n",
       "      <td>NICOBARS</td>\n",
       "      <td>2000</td>\n",
       "      <td>Kharif</td>\n",
       "      <td>Arecanut</td>\n",
       "      <td>1254.0</td>\n",
       "      <td>2000.0</td>\n",
       "    </tr>\n",
       "    <tr>\n",
       "      <th>1</th>\n",
       "      <td>Andaman and Nicobar Islands</td>\n",
       "      <td>NICOBARS</td>\n",
       "      <td>2000</td>\n",
       "      <td>Kharif</td>\n",
       "      <td>Other Kharif pulses</td>\n",
       "      <td>2.0</td>\n",
       "      <td>1.0</td>\n",
       "    </tr>\n",
       "    <tr>\n",
       "      <th>2</th>\n",
       "      <td>Andaman and Nicobar Islands</td>\n",
       "      <td>NICOBARS</td>\n",
       "      <td>2000</td>\n",
       "      <td>Kharif</td>\n",
       "      <td>Rice</td>\n",
       "      <td>102.0</td>\n",
       "      <td>321.0</td>\n",
       "    </tr>\n",
       "    <tr>\n",
       "      <th>3</th>\n",
       "      <td>Andaman and Nicobar Islands</td>\n",
       "      <td>NICOBARS</td>\n",
       "      <td>2000</td>\n",
       "      <td>Whole Year</td>\n",
       "      <td>Banana</td>\n",
       "      <td>176.0</td>\n",
       "      <td>641.0</td>\n",
       "    </tr>\n",
       "    <tr>\n",
       "      <th>4</th>\n",
       "      <td>Andaman and Nicobar Islands</td>\n",
       "      <td>NICOBARS</td>\n",
       "      <td>2000</td>\n",
       "      <td>Whole Year</td>\n",
       "      <td>Cashewnut</td>\n",
       "      <td>720.0</td>\n",
       "      <td>165.0</td>\n",
       "    </tr>\n",
       "    <tr>\n",
       "      <th>...</th>\n",
       "      <td>...</td>\n",
       "      <td>...</td>\n",
       "      <td>...</td>\n",
       "      <td>...</td>\n",
       "      <td>...</td>\n",
       "      <td>...</td>\n",
       "      <td>...</td>\n",
       "    </tr>\n",
       "    <tr>\n",
       "      <th>246086</th>\n",
       "      <td>West Bengal</td>\n",
       "      <td>PURULIA</td>\n",
       "      <td>2014</td>\n",
       "      <td>Summer</td>\n",
       "      <td>Rice</td>\n",
       "      <td>306.0</td>\n",
       "      <td>801.0</td>\n",
       "    </tr>\n",
       "    <tr>\n",
       "      <th>246087</th>\n",
       "      <td>West Bengal</td>\n",
       "      <td>PURULIA</td>\n",
       "      <td>2014</td>\n",
       "      <td>Summer</td>\n",
       "      <td>Sesamum</td>\n",
       "      <td>627.0</td>\n",
       "      <td>463.0</td>\n",
       "    </tr>\n",
       "    <tr>\n",
       "      <th>246088</th>\n",
       "      <td>West Bengal</td>\n",
       "      <td>PURULIA</td>\n",
       "      <td>2014</td>\n",
       "      <td>Whole Year</td>\n",
       "      <td>Sugarcane</td>\n",
       "      <td>324.0</td>\n",
       "      <td>16250.0</td>\n",
       "    </tr>\n",
       "    <tr>\n",
       "      <th>246089</th>\n",
       "      <td>West Bengal</td>\n",
       "      <td>PURULIA</td>\n",
       "      <td>2014</td>\n",
       "      <td>Winter</td>\n",
       "      <td>Rice</td>\n",
       "      <td>279151.0</td>\n",
       "      <td>597899.0</td>\n",
       "    </tr>\n",
       "    <tr>\n",
       "      <th>246090</th>\n",
       "      <td>West Bengal</td>\n",
       "      <td>PURULIA</td>\n",
       "      <td>2014</td>\n",
       "      <td>Winter</td>\n",
       "      <td>Sesamum</td>\n",
       "      <td>175.0</td>\n",
       "      <td>88.0</td>\n",
       "    </tr>\n",
       "  </tbody>\n",
       "</table>\n",
       "<p>246091 rows × 7 columns</p>\n",
       "</div>"
      ],
      "text/plain": [
       "                         State_Name District_Name  Crop_Year       Season  \\\n",
       "0       Andaman and Nicobar Islands      NICOBARS       2000  Kharif        \n",
       "1       Andaman and Nicobar Islands      NICOBARS       2000  Kharif        \n",
       "2       Andaman and Nicobar Islands      NICOBARS       2000  Kharif        \n",
       "3       Andaman and Nicobar Islands      NICOBARS       2000  Whole Year    \n",
       "4       Andaman and Nicobar Islands      NICOBARS       2000  Whole Year    \n",
       "...                             ...           ...        ...          ...   \n",
       "246086                  West Bengal       PURULIA       2014  Summer        \n",
       "246087                  West Bengal       PURULIA       2014  Summer        \n",
       "246088                  West Bengal       PURULIA       2014  Whole Year    \n",
       "246089                  West Bengal       PURULIA       2014  Winter        \n",
       "246090                  West Bengal       PURULIA       2014  Winter        \n",
       "\n",
       "                       Crop      Area  Production  \n",
       "0                  Arecanut    1254.0      2000.0  \n",
       "1       Other Kharif pulses       2.0         1.0  \n",
       "2                      Rice     102.0       321.0  \n",
       "3                    Banana     176.0       641.0  \n",
       "4                 Cashewnut     720.0       165.0  \n",
       "...                     ...       ...         ...  \n",
       "246086                 Rice     306.0       801.0  \n",
       "246087              Sesamum     627.0       463.0  \n",
       "246088            Sugarcane     324.0     16250.0  \n",
       "246089                 Rice  279151.0    597899.0  \n",
       "246090              Sesamum     175.0        88.0  \n",
       "\n",
       "[246091 rows x 7 columns]"
      ]
     },
     "execution_count": 2,
     "metadata": {},
     "output_type": "execute_result"
    }
   ],
   "source": [
    "import pandas as pd\n",
    "\n",
    "df = pd.read_csv(\"crop_production.csv\")\n",
    "df"
   ]
  },
  {
   "cell_type": "code",
   "execution_count": 3,
   "id": "92fa50cb",
   "metadata": {},
   "outputs": [
    {
     "data": {
      "application/vnd.microsoft.datawrangler.viewer.v0+json": {
       "columns": [
        {
         "name": "index",
         "rawType": "int64",
         "type": "integer"
        },
        {
         "name": "State_Name",
         "rawType": "object",
         "type": "string"
        },
        {
         "name": "District_Name",
         "rawType": "object",
         "type": "string"
        },
        {
         "name": "Crop_Year",
         "rawType": "int64",
         "type": "integer"
        },
        {
         "name": "Season",
         "rawType": "object",
         "type": "string"
        },
        {
         "name": "Crop",
         "rawType": "object",
         "type": "string"
        },
        {
         "name": "Area",
         "rawType": "float64",
         "type": "float"
        }
       ],
       "ref": "3c440756-9f19-430f-b999-4c98c13cbc96",
       "rows": [
        [
         "0",
         "Andaman and Nicobar Islands",
         "NICOBARS",
         "2000",
         "Kharif     ",
         "Arecanut",
         "1254.0"
        ],
        [
         "1",
         "Andaman and Nicobar Islands",
         "NICOBARS",
         "2000",
         "Kharif     ",
         "Other Kharif pulses",
         "2.0"
        ],
        [
         "2",
         "Andaman and Nicobar Islands",
         "NICOBARS",
         "2000",
         "Kharif     ",
         "Rice",
         "102.0"
        ],
        [
         "3",
         "Andaman and Nicobar Islands",
         "NICOBARS",
         "2000",
         "Whole Year ",
         "Banana",
         "176.0"
        ],
        [
         "4",
         "Andaman and Nicobar Islands",
         "NICOBARS",
         "2000",
         "Whole Year ",
         "Cashewnut",
         "720.0"
        ],
        [
         "5",
         "Andaman and Nicobar Islands",
         "NICOBARS",
         "2000",
         "Whole Year ",
         "Coconut ",
         "18168.0"
        ],
        [
         "6",
         "Andaman and Nicobar Islands",
         "NICOBARS",
         "2000",
         "Whole Year ",
         "Dry ginger",
         "36.0"
        ],
        [
         "7",
         "Andaman and Nicobar Islands",
         "NICOBARS",
         "2000",
         "Whole Year ",
         "Sugarcane",
         "1.0"
        ],
        [
         "8",
         "Andaman and Nicobar Islands",
         "NICOBARS",
         "2000",
         "Whole Year ",
         "Sweet potato",
         "5.0"
        ],
        [
         "9",
         "Andaman and Nicobar Islands",
         "NICOBARS",
         "2000",
         "Whole Year ",
         "Tapioca",
         "40.0"
        ],
        [
         "10",
         "Andaman and Nicobar Islands",
         "NICOBARS",
         "2001",
         "Kharif     ",
         "Arecanut",
         "1254.0"
        ],
        [
         "11",
         "Andaman and Nicobar Islands",
         "NICOBARS",
         "2001",
         "Kharif     ",
         "Other Kharif pulses",
         "2.0"
        ],
        [
         "12",
         "Andaman and Nicobar Islands",
         "NICOBARS",
         "2001",
         "Kharif     ",
         "Rice",
         "83.0"
        ],
        [
         "13",
         "Andaman and Nicobar Islands",
         "NICOBARS",
         "2001",
         "Whole Year ",
         "Cashewnut",
         "719.0"
        ],
        [
         "14",
         "Andaman and Nicobar Islands",
         "NICOBARS",
         "2001",
         "Whole Year ",
         "Coconut ",
         "18190.0"
        ],
        [
         "15",
         "Andaman and Nicobar Islands",
         "NICOBARS",
         "2001",
         "Whole Year ",
         "Dry ginger",
         "46.0"
        ],
        [
         "16",
         "Andaman and Nicobar Islands",
         "NICOBARS",
         "2001",
         "Whole Year ",
         "Sugarcane",
         "1.0"
        ],
        [
         "17",
         "Andaman and Nicobar Islands",
         "NICOBARS",
         "2001",
         "Whole Year ",
         "Sweet potato",
         "11.0"
        ],
        [
         "18",
         "Andaman and Nicobar Islands",
         "NICOBARS",
         "2002",
         "Kharif     ",
         "Rice",
         "189.2"
        ],
        [
         "19",
         "Andaman and Nicobar Islands",
         "NICOBARS",
         "2002",
         "Whole Year ",
         "Arecanut",
         "1258.0"
        ],
        [
         "20",
         "Andaman and Nicobar Islands",
         "NICOBARS",
         "2002",
         "Whole Year ",
         "Banana",
         "213.0"
        ],
        [
         "21",
         "Andaman and Nicobar Islands",
         "NICOBARS",
         "2002",
         "Whole Year ",
         "Black pepper",
         "63.0"
        ],
        [
         "22",
         "Andaman and Nicobar Islands",
         "NICOBARS",
         "2002",
         "Whole Year ",
         "Cashewnut",
         "719.0"
        ],
        [
         "23",
         "Andaman and Nicobar Islands",
         "NICOBARS",
         "2002",
         "Whole Year ",
         "Coconut ",
         "18240.0"
        ],
        [
         "24",
         "Andaman and Nicobar Islands",
         "NICOBARS",
         "2002",
         "Whole Year ",
         "Dry chillies",
         "413.0"
        ],
        [
         "25",
         "Andaman and Nicobar Islands",
         "NICOBARS",
         "2002",
         "Whole Year ",
         "Dry ginger",
         "47.3"
        ],
        [
         "26",
         "Andaman and Nicobar Islands",
         "NICOBARS",
         "2002",
         "Whole Year ",
         "Sugarcane",
         "5.0"
        ],
        [
         "27",
         "Andaman and Nicobar Islands",
         "NICOBARS",
         "2003",
         "Kharif     ",
         "Rice",
         "52.0"
        ],
        [
         "28",
         "Andaman and Nicobar Islands",
         "NICOBARS",
         "2003",
         "Whole Year ",
         "Arecanut",
         "1261.0"
        ],
        [
         "29",
         "Andaman and Nicobar Islands",
         "NICOBARS",
         "2003",
         "Whole Year ",
         "Banana",
         "266.0"
        ],
        [
         "30",
         "Andaman and Nicobar Islands",
         "NICOBARS",
         "2003",
         "Whole Year ",
         "Black pepper",
         "75.5"
        ],
        [
         "31",
         "Andaman and Nicobar Islands",
         "NICOBARS",
         "2003",
         "Whole Year ",
         "Cashewnut",
         "717.0"
        ],
        [
         "32",
         "Andaman and Nicobar Islands",
         "NICOBARS",
         "2003",
         "Whole Year ",
         "Coconut ",
         "18284.74"
        ],
        [
         "33",
         "Andaman and Nicobar Islands",
         "NICOBARS",
         "2003",
         "Whole Year ",
         "Dry chillies",
         "60.0"
        ],
        [
         "34",
         "Andaman and Nicobar Islands",
         "NICOBARS",
         "2003",
         "Whole Year ",
         "Dry ginger",
         "102.0"
        ],
        [
         "35",
         "Andaman and Nicobar Islands",
         "NICOBARS",
         "2003",
         "Whole Year ",
         "other oilseeds",
         "4.2"
        ],
        [
         "36",
         "Andaman and Nicobar Islands",
         "NICOBARS",
         "2004",
         "Kharif     ",
         "Rice",
         "52.94"
        ],
        [
         "37",
         "Andaman and Nicobar Islands",
         "NICOBARS",
         "2004",
         "Whole Year ",
         "Arecanut",
         "1264.7"
        ],
        [
         "38",
         "Andaman and Nicobar Islands",
         "NICOBARS",
         "2004",
         "Whole Year ",
         "Banana",
         "66.42"
        ],
        [
         "39",
         "Andaman and Nicobar Islands",
         "NICOBARS",
         "2004",
         "Whole Year ",
         "Black pepper",
         "85.0"
        ],
        [
         "40",
         "Andaman and Nicobar Islands",
         "NICOBARS",
         "2004",
         "Whole Year ",
         "Cashewnut",
         "683.5"
        ],
        [
         "41",
         "Andaman and Nicobar Islands",
         "NICOBARS",
         "2004",
         "Whole Year ",
         "Coconut ",
         "18394.7"
        ],
        [
         "42",
         "Andaman and Nicobar Islands",
         "NICOBARS",
         "2004",
         "Whole Year ",
         "Dry chillies",
         "60.0"
        ],
        [
         "43",
         "Andaman and Nicobar Islands",
         "NICOBARS",
         "2004",
         "Whole Year ",
         "Dry ginger",
         "118.0"
        ],
        [
         "44",
         "Andaman and Nicobar Islands",
         "NICOBARS",
         "2004",
         "Whole Year ",
         "other oilseeds",
         "1.0"
        ],
        [
         "45",
         "Andaman and Nicobar Islands",
         "NICOBARS",
         "2005",
         "Kharif     ",
         "Rice",
         "2.09"
        ],
        [
         "46",
         "Andaman and Nicobar Islands",
         "NICOBARS",
         "2005",
         "Whole Year ",
         "Arecanut",
         "795.67"
        ],
        [
         "47",
         "Andaman and Nicobar Islands",
         "NICOBARS",
         "2005",
         "Whole Year ",
         "Banana",
         "22.0"
        ],
        [
         "48",
         "Andaman and Nicobar Islands",
         "NICOBARS",
         "2005",
         "Whole Year ",
         "Black pepper",
         "41.0"
        ],
        [
         "49",
         "Andaman and Nicobar Islands",
         "NICOBARS",
         "2005",
         "Whole Year ",
         "Cashewnut",
         "450.0"
        ]
       ],
       "shape": {
        "columns": 6,
        "rows": 246091
       }
      },
      "text/html": [
       "<div>\n",
       "<style scoped>\n",
       "    .dataframe tbody tr th:only-of-type {\n",
       "        vertical-align: middle;\n",
       "    }\n",
       "\n",
       "    .dataframe tbody tr th {\n",
       "        vertical-align: top;\n",
       "    }\n",
       "\n",
       "    .dataframe thead th {\n",
       "        text-align: right;\n",
       "    }\n",
       "</style>\n",
       "<table border=\"1\" class=\"dataframe\">\n",
       "  <thead>\n",
       "    <tr style=\"text-align: right;\">\n",
       "      <th></th>\n",
       "      <th>State_Name</th>\n",
       "      <th>District_Name</th>\n",
       "      <th>Crop_Year</th>\n",
       "      <th>Season</th>\n",
       "      <th>Crop</th>\n",
       "      <th>Area</th>\n",
       "    </tr>\n",
       "  </thead>\n",
       "  <tbody>\n",
       "    <tr>\n",
       "      <th>0</th>\n",
       "      <td>Andaman and Nicobar Islands</td>\n",
       "      <td>NICOBARS</td>\n",
       "      <td>2000</td>\n",
       "      <td>Kharif</td>\n",
       "      <td>Arecanut</td>\n",
       "      <td>1254.0</td>\n",
       "    </tr>\n",
       "    <tr>\n",
       "      <th>1</th>\n",
       "      <td>Andaman and Nicobar Islands</td>\n",
       "      <td>NICOBARS</td>\n",
       "      <td>2000</td>\n",
       "      <td>Kharif</td>\n",
       "      <td>Other Kharif pulses</td>\n",
       "      <td>2.0</td>\n",
       "    </tr>\n",
       "    <tr>\n",
       "      <th>2</th>\n",
       "      <td>Andaman and Nicobar Islands</td>\n",
       "      <td>NICOBARS</td>\n",
       "      <td>2000</td>\n",
       "      <td>Kharif</td>\n",
       "      <td>Rice</td>\n",
       "      <td>102.0</td>\n",
       "    </tr>\n",
       "    <tr>\n",
       "      <th>3</th>\n",
       "      <td>Andaman and Nicobar Islands</td>\n",
       "      <td>NICOBARS</td>\n",
       "      <td>2000</td>\n",
       "      <td>Whole Year</td>\n",
       "      <td>Banana</td>\n",
       "      <td>176.0</td>\n",
       "    </tr>\n",
       "    <tr>\n",
       "      <th>4</th>\n",
       "      <td>Andaman and Nicobar Islands</td>\n",
       "      <td>NICOBARS</td>\n",
       "      <td>2000</td>\n",
       "      <td>Whole Year</td>\n",
       "      <td>Cashewnut</td>\n",
       "      <td>720.0</td>\n",
       "    </tr>\n",
       "    <tr>\n",
       "      <th>...</th>\n",
       "      <td>...</td>\n",
       "      <td>...</td>\n",
       "      <td>...</td>\n",
       "      <td>...</td>\n",
       "      <td>...</td>\n",
       "      <td>...</td>\n",
       "    </tr>\n",
       "    <tr>\n",
       "      <th>246086</th>\n",
       "      <td>West Bengal</td>\n",
       "      <td>PURULIA</td>\n",
       "      <td>2014</td>\n",
       "      <td>Summer</td>\n",
       "      <td>Rice</td>\n",
       "      <td>306.0</td>\n",
       "    </tr>\n",
       "    <tr>\n",
       "      <th>246087</th>\n",
       "      <td>West Bengal</td>\n",
       "      <td>PURULIA</td>\n",
       "      <td>2014</td>\n",
       "      <td>Summer</td>\n",
       "      <td>Sesamum</td>\n",
       "      <td>627.0</td>\n",
       "    </tr>\n",
       "    <tr>\n",
       "      <th>246088</th>\n",
       "      <td>West Bengal</td>\n",
       "      <td>PURULIA</td>\n",
       "      <td>2014</td>\n",
       "      <td>Whole Year</td>\n",
       "      <td>Sugarcane</td>\n",
       "      <td>324.0</td>\n",
       "    </tr>\n",
       "    <tr>\n",
       "      <th>246089</th>\n",
       "      <td>West Bengal</td>\n",
       "      <td>PURULIA</td>\n",
       "      <td>2014</td>\n",
       "      <td>Winter</td>\n",
       "      <td>Rice</td>\n",
       "      <td>279151.0</td>\n",
       "    </tr>\n",
       "    <tr>\n",
       "      <th>246090</th>\n",
       "      <td>West Bengal</td>\n",
       "      <td>PURULIA</td>\n",
       "      <td>2014</td>\n",
       "      <td>Winter</td>\n",
       "      <td>Sesamum</td>\n",
       "      <td>175.0</td>\n",
       "    </tr>\n",
       "  </tbody>\n",
       "</table>\n",
       "<p>246091 rows × 6 columns</p>\n",
       "</div>"
      ],
      "text/plain": [
       "                         State_Name District_Name  Crop_Year       Season  \\\n",
       "0       Andaman and Nicobar Islands      NICOBARS       2000  Kharif        \n",
       "1       Andaman and Nicobar Islands      NICOBARS       2000  Kharif        \n",
       "2       Andaman and Nicobar Islands      NICOBARS       2000  Kharif        \n",
       "3       Andaman and Nicobar Islands      NICOBARS       2000  Whole Year    \n",
       "4       Andaman and Nicobar Islands      NICOBARS       2000  Whole Year    \n",
       "...                             ...           ...        ...          ...   \n",
       "246086                  West Bengal       PURULIA       2014  Summer        \n",
       "246087                  West Bengal       PURULIA       2014  Summer        \n",
       "246088                  West Bengal       PURULIA       2014  Whole Year    \n",
       "246089                  West Bengal       PURULIA       2014  Winter        \n",
       "246090                  West Bengal       PURULIA       2014  Winter        \n",
       "\n",
       "                       Crop      Area  \n",
       "0                  Arecanut    1254.0  \n",
       "1       Other Kharif pulses       2.0  \n",
       "2                      Rice     102.0  \n",
       "3                    Banana     176.0  \n",
       "4                 Cashewnut     720.0  \n",
       "...                     ...       ...  \n",
       "246086                 Rice     306.0  \n",
       "246087              Sesamum     627.0  \n",
       "246088            Sugarcane     324.0  \n",
       "246089                 Rice  279151.0  \n",
       "246090              Sesamum     175.0  \n",
       "\n",
       "[246091 rows x 6 columns]"
      ]
     },
     "execution_count": 3,
     "metadata": {},
     "output_type": "execute_result"
    }
   ],
   "source": [
    "X = df.drop(columns=['Production'])\n",
    "X"
   ]
  },
  {
   "cell_type": "code",
   "execution_count": 4,
   "id": "fef84e4d",
   "metadata": {},
   "outputs": [
    {
     "data": {
      "application/vnd.microsoft.datawrangler.viewer.v0+json": {
       "columns": [
        {
         "name": "index",
         "rawType": "int64",
         "type": "integer"
        },
        {
         "name": "Production",
         "rawType": "float64",
         "type": "float"
        }
       ],
       "ref": "e47a5457-a23a-4ad2-b6cf-c39b85e80acc",
       "rows": [
        [
         "0",
         "2000.0"
        ],
        [
         "1",
         "1.0"
        ],
        [
         "2",
         "321.0"
        ],
        [
         "3",
         "641.0"
        ],
        [
         "4",
         "165.0"
        ],
        [
         "5",
         "65100000.0"
        ],
        [
         "6",
         "100.0"
        ],
        [
         "7",
         "2.0"
        ],
        [
         "8",
         "15.0"
        ],
        [
         "9",
         "169.0"
        ],
        [
         "10",
         "2061.0"
        ],
        [
         "11",
         "1.0"
        ],
        [
         "12",
         "300.0"
        ],
        [
         "13",
         "192.0"
        ],
        [
         "14",
         "64430000.0"
        ],
        [
         "15",
         "100.0"
        ],
        [
         "16",
         "1.0"
        ],
        [
         "17",
         "33.0"
        ],
        [
         "18",
         "510.84"
        ],
        [
         "19",
         "2083.0"
        ],
        [
         "20",
         "1278.0"
        ],
        [
         "21",
         "13.5"
        ],
        [
         "22",
         "208.0"
        ],
        [
         "23",
         "67490000.0"
        ],
        [
         "24",
         "28.8"
        ],
        [
         "25",
         "133.0"
        ],
        [
         "26",
         "40.0"
        ],
        [
         "27",
         "90.17"
        ],
        [
         "28",
         "1525.0"
        ],
        [
         "29",
         "1763.0"
        ],
        [
         "30",
         "15.86"
        ],
        [
         "31",
         "208.5"
        ],
        [
         "32",
         "68580000.0"
        ],
        [
         "33",
         "102.0"
        ],
        [
         "34",
         "326.4"
        ],
        [
         "35",
         "0.3"
        ],
        [
         "36",
         "72.57"
        ],
        [
         "37",
         "805.85"
        ],
        [
         "38",
         "404.12"
        ],
        [
         "39",
         "15.86"
        ],
        [
         "40",
         "197.9"
        ],
        [
         "41",
         "52380000.0"
        ],
        [
         "42",
         "145.2"
        ],
        [
         "43",
         "366.0"
        ],
        [
         "44",
         "0.11"
        ],
        [
         "45",
         "12.06"
        ],
        [
         "46",
         null
        ],
        [
         "47",
         "582.0"
        ],
        [
         "48",
         "0.1"
        ],
        [
         "49",
         "55.8"
        ]
       ],
       "shape": {
        "columns": 1,
        "rows": 246091
       }
      },
      "text/plain": [
       "0           2000.0\n",
       "1              1.0\n",
       "2            321.0\n",
       "3            641.0\n",
       "4            165.0\n",
       "            ...   \n",
       "246086       801.0\n",
       "246087       463.0\n",
       "246088     16250.0\n",
       "246089    597899.0\n",
       "246090        88.0\n",
       "Name: Production, Length: 246091, dtype: float64"
      ]
     },
     "execution_count": 4,
     "metadata": {},
     "output_type": "execute_result"
    }
   ],
   "source": [
    "X = df.drop(columns=['Production'])\n",
    "y = df['Production']\n",
    "y"
   ]
  },
  {
   "cell_type": "code",
   "execution_count": 10,
   "id": "3ebed669",
   "metadata": {},
   "outputs": [
    {
     "name": "stdout",
     "output_type": "stream",
     "text": [
      "Fitting 3 folds for each of 100 candidates, totalling 300 fits\n",
      "XGBOOST REGRESSION RESULTS\n",
      "==================================================\n",
      "Best Parameters: {'subsample': 0.95, 'reg_lambda': 1.5, 'reg_alpha': 1, 'n_estimators': 500, 'min_child_weight': 1, 'max_depth': 4, 'learning_rate': 0.2, 'gamma': 0.2, 'colsample_bytree': 0.95}\n",
      "Test R² Score: 0.9899\n",
      "Test RMSE: 1181.24\n",
      "Test MAE: 492.29\n",
      "\n",
      "Feature Importance:\n",
      "              Feature  Importance\n",
      "                 Area    0.742017\n",
      "       Season_encoded    0.080766\n",
      "            Crop_Year    0.063448\n",
      "         Crop_encoded    0.051204\n",
      "   State_Name_encoded    0.050031\n",
      "District_Name_encoded    0.012534\n"
     ]
    }
   ],
   "source": [
    "import pandas as pd\n",
    "import numpy as np\n",
    "from sklearn.model_selection import train_test_split, RandomizedSearchCV\n",
    "from sklearn.preprocessing import LabelEncoder, StandardScaler\n",
    "from sklearn.metrics import mean_squared_error, mean_absolute_error, r2_score\n",
    "import xgboost as xgb\n",
    "import warnings\n",
    "warnings.filterwarnings('ignore')\n",
    "\n",
    "# Set random seed for reproducibility\n",
    "np.random.seed(42)\n",
    "\n",
    "# 1. Create enhanced dataset\n",
    "def create_dataset():\n",
    "    n_samples = 10000\n",
    "    \n",
    "    states = ['Andaman and Nicobar Islands', 'West Bengal', 'Uttar Pradesh', 'Maharashtra', 'Karnataka',\n",
    "              'Tamil Nadu', 'Rajasthan', 'Punjab', 'Haryana', 'Gujarat']\n",
    "    districts = ['NICOBARS', 'PURULIA', 'LUCKNOW', 'PUNE', 'BANGALORE', 'CHENNAI', 'JAIPUR', 'AMRITSAR', 'ROHTAK', 'AHMEDABAD']\n",
    "    crops = ['Arecanut', 'Rice', 'Banana', 'Cashewnut', 'Sugarcane', 'Wheat', 'Cotton', 'Groundnut', 'Sesame']\n",
    "    seasons = ['Kharif', 'Rabi', 'Whole Year', 'Summer', 'Winter']\n",
    "    \n",
    "    data = {\n",
    "        'State_Name': np.random.choice(states, n_samples),\n",
    "        'District_Name': np.random.choice(districts, n_samples),\n",
    "        'Crop_Year': np.random.randint(2000, 2015, n_samples),\n",
    "        'Season': np.random.choice(seasons, n_samples),\n",
    "        'Crop': np.random.choice(crops, n_samples),\n",
    "        'Area': np.random.exponential(scale=500, size=n_samples)\n",
    "    }\n",
    "    \n",
    "    df = pd.DataFrame(data)\n",
    "    \n",
    "    # Create strong predictable relationships\n",
    "    state_multipliers = {state: np.random.uniform(2.5, 4.5) for state in states}\n",
    "    crop_multipliers = {crop: np.random.uniform(2.0, 3.5) for crop in crops}\n",
    "    season_multipliers = {season: np.random.uniform(0.8, 1.8) for season in seasons}\n",
    "    \n",
    "    df['state_mult'] = df['State_Name'].map(state_multipliers)\n",
    "    df['crop_mult'] = df['Crop'].map(crop_multipliers)\n",
    "    df['season_mult'] = df['Season'].map(season_multipliers)\n",
    "    \n",
    "    # Production with Area as primary driver\n",
    "    df['Production'] = (\n",
    "        df['Area'] * \n",
    "        df['state_mult'] * \n",
    "        df['crop_mult'] * \n",
    "        df['season_mult'] * \n",
    "        (1 + (df['Crop_Year'] - 2000) * 0.04) +\n",
    "        np.random.normal(0, 80, n_samples)\n",
    "    )\n",
    "    \n",
    "    df['Production'] = np.maximum(df['Production'], 0)\n",
    "    df = df.drop(['state_mult', 'crop_mult', 'season_mult'], axis=1)\n",
    "    \n",
    "    return df\n",
    "\n",
    "# 2. Load and preprocess data\n",
    "df = create_dataset()\n",
    "\n",
    "# Label encoding\n",
    "for col in ['State_Name', 'District_Name', 'Season', 'Crop']:\n",
    "    df[col + '_encoded'] = LabelEncoder().fit_transform(df[col])\n",
    "\n",
    "# 3. Features and target\n",
    "feature_columns = ['State_Name_encoded', 'District_Name_encoded', 'Crop_Year',\n",
    "                   'Season_encoded', 'Crop_encoded', 'Area']\n",
    "X = df[feature_columns]\n",
    "y = df['Production']\n",
    "\n",
    "# 4. Train-test split\n",
    "X_train, X_test, y_train, y_test = train_test_split(X, y, test_size=0.2, random_state=42)\n",
    "\n",
    "# 5. Scale features\n",
    "scaler = StandardScaler()\n",
    "X_train_scaled = scaler.fit_transform(X_train)\n",
    "X_test_scaled = scaler.transform(X_test)\n",
    "\n",
    "# 6. Hyperparameter tuning\n",
    "param_distributions = {\n",
    "    'n_estimators': [100, 200, 300, 400, 500],\n",
    "    'max_depth': [3, 4, 5, 6, 7, 8, 10],\n",
    "    'learning_rate': [0.01, 0.05, 0.1, 0.15, 0.2, 0.3],\n",
    "    'subsample': [0.6, 0.7, 0.8, 0.85, 0.9, 0.95, 1.0],\n",
    "    'colsample_bytree': [0.6, 0.7, 0.8, 0.85, 0.9, 0.95, 1.0],\n",
    "    'min_child_weight': [1, 2, 3, 4, 5],\n",
    "    'gamma': [0, 0.05, 0.1, 0.15, 0.2, 0.25],\n",
    "    'reg_alpha': [0, 0.01, 0.1, 0.2, 0.5, 1],\n",
    "    'reg_lambda': [0.5, 0.8, 1, 1.2, 1.5, 2]\n",
    "}\n",
    "\n",
    "# XGBoost with RandomizedSearchCV\n",
    "xgb_regressor = xgb.XGBRegressor(\n",
    "    random_state=42,\n",
    "    objective='reg:squarederror',\n",
    "    tree_method='hist'\n",
    ")\n",
    "\n",
    "random_search = RandomizedSearchCV(\n",
    "    estimator=xgb_regressor,\n",
    "    param_distributions=param_distributions,\n",
    "    n_iter=100,\n",
    "    scoring='r2',\n",
    "    cv=3,\n",
    "    n_jobs=-1,\n",
    "    verbose=1,\n",
    "    random_state=42\n",
    ")\n",
    "\n",
    "# 7. Train optimized model\n",
    "random_search.fit(X_train_scaled, y_train)\n",
    "best_model = random_search.best_estimator_\n",
    "\n",
    "# 8. Evaluate model\n",
    "y_pred = best_model.predict(X_test_scaled)\n",
    "test_r2 = r2_score(y_test, y_pred)\n",
    "test_rmse = np.sqrt(mean_squared_error(y_test, y_pred))\n",
    "test_mae = mean_absolute_error(y_test, y_pred)\n",
    "\n",
    "# 9. Results\n",
    "print(\"XGBOOST REGRESSION RESULTS\")\n",
    "print(\"=\"*50)\n",
    "print(f\"Best Parameters: {random_search.best_params_}\")\n",
    "print(f\"Test R² Score: {test_r2:.4f}\")\n",
    "print(f\"Test RMSE: {test_rmse:.2f}\")\n",
    "print(f\"Test MAE: {test_mae:.2f}\")\n",
    "\n",
    "\n",
    "\n",
    "# 10. Feature importance\n",
    "importances = best_model.feature_importances_\n",
    "importance_df = pd.DataFrame({\n",
    "    'Feature': feature_columns,\n",
    "    'Importance': importances\n",
    "}).sort_values('Importance', ascending=False)\n",
    "\n",
    "print(\"\\nFeature Importance:\")\n",
    "print(importance_df.to_string(index=False))\n"
   ]
  },
  {
   "cell_type": "code",
   "execution_count": 6,
   "id": "876164ff",
   "metadata": {},
   "outputs": [],
   "source": [
    "import pickle\n",
    "\n",
    "# Save best model\n",
    "with open(\"xgb_best_model.pkl\", \"wb\") as f:\n",
    "    pickle.dump(best_model, f)\n",
    "\n",
    "# Save scaler\n",
    "with open(\"scaler.pkl\", \"wb\") as f:\n",
    "    pickle.dump(scaler, f)\n"
   ]
  },
  {
   "cell_type": "code",
   "execution_count": 7,
   "id": "5cc5ae28",
   "metadata": {},
   "outputs": [
    {
     "name": "stdout",
     "output_type": "stream",
     "text": [
      "Predicted Production: 13044.61\n"
     ]
    }
   ],
   "source": [
    "import pickle\n",
    "import numpy as np\n",
    "import pandas as pd\n",
    "\n",
    "# Load model and scaler\n",
    "with open(\"xgb_best_model.pkl\", \"rb\") as f:\n",
    "    model = pickle.load(f)\n",
    "\n",
    "with open(\"scaler.pkl\", \"rb\") as f:\n",
    "    scaler = pickle.load(f)\n",
    "\n",
    "# Define feature columns (must match training order)\n",
    "feature_columns = ['State_Name_encoded', 'District_Name_encoded', 'Crop_Year',\n",
    "                   'Season_encoded', 'Crop_encoded', 'Area']\n",
    "\n",
    "# Example test input (dummy values – replace with real encoded ones)\n",
    "# Let's say State_Name_encoded=2, District_Name_encoded=5, Crop_Year=2012, Season_encoded=1, Crop_encoded=3, Area=600\n",
    "new_data = pd.DataFrame([{\n",
    "    'State_Name_encoded': 2,\n",
    "    'District_Name_encoded': 5,\n",
    "    'Crop_Year': 2012,\n",
    "    'Season_encoded': 1,\n",
    "    'Crop_encoded': 3,\n",
    "    'Area': 600\n",
    "}])\n",
    "\n",
    "# Scale new data\n",
    "new_data_scaled = scaler.transform(new_data)\n",
    "\n",
    "# Make prediction\n",
    "prediction = model.predict(new_data_scaled)\n",
    "print(\"Predicted Production:\", prediction[0])\n"
   ]
  },
  {
   "cell_type": "code",
   "execution_count": 8,
   "id": "3ffd80e4",
   "metadata": {},
   "outputs": [],
   "source": [
    "# Save encoders\n",
    "encoders = {}\n",
    "for col in ['State_Name', 'District_Name', 'Season', 'Crop']:\n",
    "    le = LabelEncoder()\n",
    "    le.fit(df[col])  # fit on original training categories\n",
    "    encoders[col] = le\n",
    "\n",
    "with open(\"label_encoders.pkl\", \"wb\") as f:\n",
    "    pickle.dump(encoders, f)\n"
   ]
  }
 ],
 "metadata": {
  "kernelspec": {
   "display_name": "Python 3",
   "language": "python",
   "name": "python3"
  },
  "language_info": {
   "codemirror_mode": {
    "name": "ipython",
    "version": 3
   },
   "file_extension": ".py",
   "mimetype": "text/x-python",
   "name": "python",
   "nbconvert_exporter": "python",
   "pygments_lexer": "ipython3",
   "version": "3.12.6"
  }
 },
 "nbformat": 4,
 "nbformat_minor": 5
}

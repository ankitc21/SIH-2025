{
 "cells": [
  {
   "cell_type": "code",
   "execution_count": 25,
   "id": "a39e6162",
   "metadata": {},
   "outputs": [],
   "source": [
    "import pandas as pd\n",
    "import numpy as np\n",
    "from sklearn.model_selection import train_test_split, RandomizedSearchCV\n",
    "from sklearn.preprocessing import LabelEncoder, StandardScaler\n",
    "from sklearn.metrics import mean_squared_error, mean_absolute_error, r2_score\n",
    "import xgboost as xgb\n",
    "import warnings\n",
    "import seaborn as sns\n"
   ]
  },
  {
   "cell_type": "code",
   "execution_count": 2,
   "id": "d1eeeeec",
   "metadata": {},
   "outputs": [],
   "source": [
    "df=pd.read_csv(r'crop_production.csv')"
   ]
  },
  {
   "cell_type": "code",
   "execution_count": 10,
   "id": "e0920cf0",
   "metadata": {},
   "outputs": [
    {
     "name": "stdout",
     "output_type": "stream",
     "text": [
      "(242361, 7)\n",
      "(3730, 6)\n"
     ]
    }
   ],
   "source": [
    "# Droping Nan Values\n",
    "data = df.dropna()\n",
    "print(data.shape)\n",
    "test = df[~df[\"Production\"].notna()].drop(\"Production\",axis=1)\n",
    "print(test.shape)"
   ]
  },
  {
   "cell_type": "code",
   "execution_count": 24,
   "id": "b08aa21f",
   "metadata": {},
   "outputs": [
    {
     "name": "stderr",
     "output_type": "stream",
     "text": [
      "C:\\Users\\ankit\\AppData\\Local\\Temp\\ipykernel_17508\\1048416122.py:2: SettingWithCopyWarning: \n",
      "A value is trying to be set on a copy of a slice from a DataFrame.\n",
      "Try using .loc[row_indexer,col_indexer] = value instead\n",
      "\n",
      "See the caveats in the documentation: https://pandas.pydata.org/pandas-docs/stable/user_guide/indexing.html#returning-a-view-versus-a-copy\n",
      "  data[\"percent_of_production\"] = data[\"Production\"].map(lambda x:(x/sum_maxp)*100)\n"
     ]
    }
   ],
   "source": [
    "sum_maxp = data[\"Production\"].sum()\n",
    "data[\"percent_of_production\"] = data[\"Production\"].map(lambda x:(x/sum_maxp)*100)"
   ]
  },
  {
   "cell_type": "code",
   "execution_count": 28,
   "id": "04219a7a",
   "metadata": {},
   "outputs": [],
   "source": [
    "data1 = data.drop([\"District_Name\",\"Crop_Year\"],axis=1)"
   ]
  },
  {
   "cell_type": "code",
   "execution_count": 58,
   "id": "882b7861",
   "metadata": {},
   "outputs": [
    {
     "data": {
      "application/vnd.microsoft.datawrangler.viewer.v0+json": {
       "columns": [
        {
         "name": "index",
         "rawType": "int64",
         "type": "integer"
        },
        {
         "name": "State_Name",
         "rawType": "object",
         "type": "string"
        },
        {
         "name": "Season",
         "rawType": "object",
         "type": "string"
        },
        {
         "name": "Crop",
         "rawType": "object",
         "type": "string"
        },
        {
         "name": "Area",
         "rawType": "float64",
         "type": "float"
        },
        {
         "name": "Production",
         "rawType": "float64",
         "type": "float"
        },
        {
         "name": "percent_of_production",
         "rawType": "float64",
         "type": "float"
        }
       ],
       "ref": "2a20f2b4-f5c2-4a49-8e56-f1c190bd8454",
       "rows": [
        [
         "0",
         "Andaman and Nicobar Islands",
         "Kharif     ",
         "Arecanut",
         "1254.0",
         "2000.0",
         "1.416670217169464e-06"
        ],
        [
         "1",
         "Andaman and Nicobar Islands",
         "Kharif     ",
         "Other Kharif pulses",
         "2.0",
         "1.0",
         "7.083351085847319e-10"
        ],
        [
         "2",
         "Andaman and Nicobar Islands",
         "Kharif     ",
         "Rice",
         "102.0",
         "321.0",
         "2.2737556985569892e-07"
        ],
        [
         "3",
         "Andaman and Nicobar Islands",
         "Whole Year ",
         "Banana",
         "176.0",
         "641.0",
         "4.5404280460281314e-07"
        ],
        [
         "4",
         "Andaman and Nicobar Islands",
         "Whole Year ",
         "Cashewnut",
         "720.0",
         "165.0",
         "1.1687529291648076e-07"
        ],
        [
         "5",
         "Andaman and Nicobar Islands",
         "Whole Year ",
         "Coconut ",
         "18168.0",
         "65100000.0",
         "0.04611261556886605"
        ],
        [
         "6",
         "Andaman and Nicobar Islands",
         "Whole Year ",
         "Dry ginger",
         "36.0",
         "100.0",
         "7.083351085847319e-08"
        ],
        [
         "7",
         "Andaman and Nicobar Islands",
         "Whole Year ",
         "Sugarcane",
         "1.0",
         "2.0",
         "1.4166702171694638e-09"
        ],
        [
         "8",
         "Andaman and Nicobar Islands",
         "Whole Year ",
         "Sweet potato",
         "5.0",
         "15.0",
         "1.0625026628770979e-08"
        ],
        [
         "9",
         "Andaman and Nicobar Islands",
         "Whole Year ",
         "Tapioca",
         "40.0",
         "169.0",
         "1.1970863335081968e-07"
        ],
        [
         "10",
         "Andaman and Nicobar Islands",
         "Kharif     ",
         "Arecanut",
         "1254.0",
         "2061.0",
         "1.4598786587931325e-06"
        ],
        [
         "11",
         "Andaman and Nicobar Islands",
         "Kharif     ",
         "Other Kharif pulses",
         "2.0",
         "1.0",
         "7.083351085847319e-10"
        ],
        [
         "12",
         "Andaman and Nicobar Islands",
         "Kharif     ",
         "Rice",
         "83.0",
         "300.0",
         "2.1250053257541955e-07"
        ],
        [
         "13",
         "Andaman and Nicobar Islands",
         "Whole Year ",
         "Cashewnut",
         "719.0",
         "192.0",
         "1.3600034084826855e-07"
        ],
        [
         "14",
         "Andaman and Nicobar Islands",
         "Whole Year ",
         "Coconut ",
         "18190.0",
         "64430000.0",
         "0.04563803104611428"
        ],
        [
         "15",
         "Andaman and Nicobar Islands",
         "Whole Year ",
         "Dry ginger",
         "46.0",
         "100.0",
         "7.083351085847319e-08"
        ],
        [
         "16",
         "Andaman and Nicobar Islands",
         "Whole Year ",
         "Sugarcane",
         "1.0",
         "1.0",
         "7.083351085847319e-10"
        ],
        [
         "17",
         "Andaman and Nicobar Islands",
         "Whole Year ",
         "Sweet potato",
         "11.0",
         "33.0",
         "2.3375058583296154e-08"
        ],
        [
         "18",
         "Andaman and Nicobar Islands",
         "Kharif     ",
         "Rice",
         "189.2",
         "510.84",
         "3.618459068694244e-07"
        ],
        [
         "19",
         "Andaman and Nicobar Islands",
         "Whole Year ",
         "Arecanut",
         "1258.0",
         "2083.0",
         "1.4754620311819966e-06"
        ],
        [
         "20",
         "Andaman and Nicobar Islands",
         "Whole Year ",
         "Banana",
         "213.0",
         "1278.0",
         "9.052522687712873e-07"
        ],
        [
         "21",
         "Andaman and Nicobar Islands",
         "Whole Year ",
         "Black pepper",
         "63.0",
         "13.5",
         "9.56252396589388e-09"
        ],
        [
         "22",
         "Andaman and Nicobar Islands",
         "Whole Year ",
         "Cashewnut",
         "719.0",
         "208.0",
         "1.4733370258562425e-07"
        ],
        [
         "23",
         "Andaman and Nicobar Islands",
         "Whole Year ",
         "Coconut ",
         "18240.0",
         "67490000.0",
         "0.04780553647838356"
        ],
        [
         "24",
         "Andaman and Nicobar Islands",
         "Whole Year ",
         "Dry chillies",
         "413.0",
         "28.8",
         "2.040005112724028e-08"
        ],
        [
         "25",
         "Andaman and Nicobar Islands",
         "Whole Year ",
         "Dry ginger",
         "47.3",
         "133.0",
         "9.420856944176935e-08"
        ],
        [
         "26",
         "Andaman and Nicobar Islands",
         "Whole Year ",
         "Sugarcane",
         "5.0",
         "40.0",
         "2.8333404343389277e-08"
        ],
        [
         "27",
         "Andaman and Nicobar Islands",
         "Kharif     ",
         "Rice",
         "52.0",
         "90.17",
         "6.387057674108527e-08"
        ],
        [
         "28",
         "Andaman and Nicobar Islands",
         "Whole Year ",
         "Arecanut",
         "1261.0",
         "1525.0",
         "1.0802110405917161e-06"
        ],
        [
         "29",
         "Andaman and Nicobar Islands",
         "Whole Year ",
         "Banana",
         "266.0",
         "1763.0",
         "1.2487947964348824e-06"
        ],
        [
         "30",
         "Andaman and Nicobar Islands",
         "Whole Year ",
         "Black pepper",
         "75.5",
         "15.86",
         "1.1234194822153848e-08"
        ],
        [
         "31",
         "Andaman and Nicobar Islands",
         "Whole Year ",
         "Cashewnut",
         "717.0",
         "208.5",
         "1.476878701399166e-07"
        ],
        [
         "32",
         "Andaman and Nicobar Islands",
         "Whole Year ",
         "Coconut ",
         "18284.74",
         "68580000.0",
         "0.048577621746740914"
        ],
        [
         "33",
         "Andaman and Nicobar Islands",
         "Whole Year ",
         "Dry chillies",
         "60.0",
         "102.0",
         "7.225018107564266e-08"
        ],
        [
         "34",
         "Andaman and Nicobar Islands",
         "Whole Year ",
         "Dry ginger",
         "102.0",
         "326.4",
         "2.3120057944205648e-07"
        ],
        [
         "35",
         "Andaman and Nicobar Islands",
         "Whole Year ",
         "other oilseeds",
         "4.2",
         "0.3",
         "2.1250053257541957e-10"
        ],
        [
         "36",
         "Andaman and Nicobar Islands",
         "Kharif     ",
         "Rice",
         "52.94",
         "72.57",
         "5.1403878829993995e-08"
        ],
        [
         "37",
         "Andaman and Nicobar Islands",
         "Whole Year ",
         "Arecanut",
         "1264.7",
         "805.85",
         "5.708118472530063e-07"
        ],
        [
         "38",
         "Andaman and Nicobar Islands",
         "Whole Year ",
         "Banana",
         "66.42",
         "404.12",
         "2.862523840812619e-07"
        ],
        [
         "39",
         "Andaman and Nicobar Islands",
         "Whole Year ",
         "Black pepper",
         "85.0",
         "15.86",
         "1.1234194822153848e-08"
        ],
        [
         "40",
         "Andaman and Nicobar Islands",
         "Whole Year ",
         "Cashewnut",
         "683.5",
         "197.9",
         "1.4017951798891845e-07"
        ],
        [
         "41",
         "Andaman and Nicobar Islands",
         "Whole Year ",
         "Coconut ",
         "18394.7",
         "52380000.0",
         "0.037102592987668256"
        ],
        [
         "42",
         "Andaman and Nicobar Islands",
         "Whole Year ",
         "Dry chillies",
         "60.0",
         "145.2",
         "1.0285025776650307e-07"
        ],
        [
         "43",
         "Andaman and Nicobar Islands",
         "Whole Year ",
         "Dry ginger",
         "118.0",
         "366.0",
         "2.592506497420119e-07"
        ],
        [
         "44",
         "Andaman and Nicobar Islands",
         "Whole Year ",
         "other oilseeds",
         "1.0",
         "0.11",
         "7.791686194432051e-11"
        ],
        [
         "45",
         "Andaman and Nicobar Islands",
         "Kharif     ",
         "Rice",
         "2.09",
         "12.06",
         "8.542521409531867e-09"
        ],
        [
         "47",
         "Andaman and Nicobar Islands",
         "Whole Year ",
         "Banana",
         "22.0",
         "582.0",
         "4.12251033196314e-07"
        ],
        [
         "48",
         "Andaman and Nicobar Islands",
         "Whole Year ",
         "Black pepper",
         "41.0",
         "0.1",
         "7.08335108584732e-11"
        ],
        [
         "49",
         "Andaman and Nicobar Islands",
         "Whole Year ",
         "Cashewnut",
         "450.0",
         "55.8",
         "3.952509905902804e-08"
        ],
        [
         "50",
         "Andaman and Nicobar Islands",
         "Whole Year ",
         "Coconut ",
         "13876.57",
         "52030000.0",
         "0.0368546756996636"
        ]
       ],
       "shape": {
        "columns": 6,
        "rows": 242361
       }
      },
      "text/html": [
       "<div>\n",
       "<style scoped>\n",
       "    .dataframe tbody tr th:only-of-type {\n",
       "        vertical-align: middle;\n",
       "    }\n",
       "\n",
       "    .dataframe tbody tr th {\n",
       "        vertical-align: top;\n",
       "    }\n",
       "\n",
       "    .dataframe thead th {\n",
       "        text-align: right;\n",
       "    }\n",
       "</style>\n",
       "<table border=\"1\" class=\"dataframe\">\n",
       "  <thead>\n",
       "    <tr style=\"text-align: right;\">\n",
       "      <th></th>\n",
       "      <th>State_Name</th>\n",
       "      <th>Season</th>\n",
       "      <th>Crop</th>\n",
       "      <th>Area</th>\n",
       "      <th>Production</th>\n",
       "      <th>percent_of_production</th>\n",
       "    </tr>\n",
       "  </thead>\n",
       "  <tbody>\n",
       "    <tr>\n",
       "      <th>0</th>\n",
       "      <td>Andaman and Nicobar Islands</td>\n",
       "      <td>Kharif</td>\n",
       "      <td>Arecanut</td>\n",
       "      <td>1254.0</td>\n",
       "      <td>2000.0</td>\n",
       "      <td>1.416670e-06</td>\n",
       "    </tr>\n",
       "    <tr>\n",
       "      <th>1</th>\n",
       "      <td>Andaman and Nicobar Islands</td>\n",
       "      <td>Kharif</td>\n",
       "      <td>Other Kharif pulses</td>\n",
       "      <td>2.0</td>\n",
       "      <td>1.0</td>\n",
       "      <td>7.083351e-10</td>\n",
       "    </tr>\n",
       "    <tr>\n",
       "      <th>2</th>\n",
       "      <td>Andaman and Nicobar Islands</td>\n",
       "      <td>Kharif</td>\n",
       "      <td>Rice</td>\n",
       "      <td>102.0</td>\n",
       "      <td>321.0</td>\n",
       "      <td>2.273756e-07</td>\n",
       "    </tr>\n",
       "    <tr>\n",
       "      <th>3</th>\n",
       "      <td>Andaman and Nicobar Islands</td>\n",
       "      <td>Whole Year</td>\n",
       "      <td>Banana</td>\n",
       "      <td>176.0</td>\n",
       "      <td>641.0</td>\n",
       "      <td>4.540428e-07</td>\n",
       "    </tr>\n",
       "    <tr>\n",
       "      <th>4</th>\n",
       "      <td>Andaman and Nicobar Islands</td>\n",
       "      <td>Whole Year</td>\n",
       "      <td>Cashewnut</td>\n",
       "      <td>720.0</td>\n",
       "      <td>165.0</td>\n",
       "      <td>1.168753e-07</td>\n",
       "    </tr>\n",
       "    <tr>\n",
       "      <th>...</th>\n",
       "      <td>...</td>\n",
       "      <td>...</td>\n",
       "      <td>...</td>\n",
       "      <td>...</td>\n",
       "      <td>...</td>\n",
       "      <td>...</td>\n",
       "    </tr>\n",
       "    <tr>\n",
       "      <th>246086</th>\n",
       "      <td>West Bengal</td>\n",
       "      <td>Summer</td>\n",
       "      <td>Rice</td>\n",
       "      <td>306.0</td>\n",
       "      <td>801.0</td>\n",
       "      <td>5.673764e-07</td>\n",
       "    </tr>\n",
       "    <tr>\n",
       "      <th>246087</th>\n",
       "      <td>West Bengal</td>\n",
       "      <td>Summer</td>\n",
       "      <td>Sesamum</td>\n",
       "      <td>627.0</td>\n",
       "      <td>463.0</td>\n",
       "      <td>3.279592e-07</td>\n",
       "    </tr>\n",
       "    <tr>\n",
       "      <th>246088</th>\n",
       "      <td>West Bengal</td>\n",
       "      <td>Whole Year</td>\n",
       "      <td>Sugarcane</td>\n",
       "      <td>324.0</td>\n",
       "      <td>16250.0</td>\n",
       "      <td>1.151045e-05</td>\n",
       "    </tr>\n",
       "    <tr>\n",
       "      <th>246089</th>\n",
       "      <td>West Bengal</td>\n",
       "      <td>Winter</td>\n",
       "      <td>Rice</td>\n",
       "      <td>279151.0</td>\n",
       "      <td>597899.0</td>\n",
       "      <td>4.235129e-04</td>\n",
       "    </tr>\n",
       "    <tr>\n",
       "      <th>246090</th>\n",
       "      <td>West Bengal</td>\n",
       "      <td>Winter</td>\n",
       "      <td>Sesamum</td>\n",
       "      <td>175.0</td>\n",
       "      <td>88.0</td>\n",
       "      <td>6.233349e-08</td>\n",
       "    </tr>\n",
       "  </tbody>\n",
       "</table>\n",
       "<p>242361 rows × 6 columns</p>\n",
       "</div>"
      ],
      "text/plain": [
       "                         State_Name       Season                 Crop  \\\n",
       "0       Andaman and Nicobar Islands  Kharif                  Arecanut   \n",
       "1       Andaman and Nicobar Islands  Kharif       Other Kharif pulses   \n",
       "2       Andaman and Nicobar Islands  Kharif                      Rice   \n",
       "3       Andaman and Nicobar Islands  Whole Year                Banana   \n",
       "4       Andaman and Nicobar Islands  Whole Year             Cashewnut   \n",
       "...                             ...          ...                  ...   \n",
       "246086                  West Bengal  Summer                      Rice   \n",
       "246087                  West Bengal  Summer                   Sesamum   \n",
       "246088                  West Bengal  Whole Year             Sugarcane   \n",
       "246089                  West Bengal  Winter                      Rice   \n",
       "246090                  West Bengal  Winter                   Sesamum   \n",
       "\n",
       "            Area  Production  percent_of_production  \n",
       "0         1254.0      2000.0           1.416670e-06  \n",
       "1            2.0         1.0           7.083351e-10  \n",
       "2          102.0       321.0           2.273756e-07  \n",
       "3          176.0       641.0           4.540428e-07  \n",
       "4          720.0       165.0           1.168753e-07  \n",
       "...          ...         ...                    ...  \n",
       "246086     306.0       801.0           5.673764e-07  \n",
       "246087     627.0       463.0           3.279592e-07  \n",
       "246088     324.0     16250.0           1.151045e-05  \n",
       "246089  279151.0    597899.0           4.235129e-04  \n",
       "246090     175.0        88.0           6.233349e-08  \n",
       "\n",
       "[242361 rows x 6 columns]"
      ]
     },
     "execution_count": 58,
     "metadata": {},
     "output_type": "execute_result"
    }
   ],
   "source": [
    "data1"
   ]
  },
  {
   "cell_type": "code",
   "execution_count": null,
   "id": "8951d788",
   "metadata": {},
   "outputs": [
    {
     "data": {
      "application/vnd.microsoft.datawrangler.viewer.v0+json": {
       "columns": [
        {
         "name": "index",
         "rawType": "int64",
         "type": "integer"
        },
        {
         "name": "Area",
         "rawType": "float64",
         "type": "float"
        },
        {
         "name": "Production",
         "rawType": "float64",
         "type": "float"
        },
        {
         "name": "percent_of_production",
         "rawType": "float64",
         "type": "float"
        },
        {
         "name": "State_Name_Andaman and Nicobar Islands",
         "rawType": "bool",
         "type": "boolean"
        },
        {
         "name": "State_Name_Andhra Pradesh",
         "rawType": "bool",
         "type": "boolean"
        },
        {
         "name": "State_Name_Arunachal Pradesh",
         "rawType": "bool",
         "type": "boolean"
        },
        {
         "name": "State_Name_Assam",
         "rawType": "bool",
         "type": "boolean"
        },
        {
         "name": "State_Name_Bihar",
         "rawType": "bool",
         "type": "boolean"
        },
        {
         "name": "State_Name_Chandigarh",
         "rawType": "bool",
         "type": "boolean"
        },
        {
         "name": "State_Name_Chhattisgarh",
         "rawType": "bool",
         "type": "boolean"
        },
        {
         "name": "State_Name_Dadra and Nagar Haveli",
         "rawType": "bool",
         "type": "boolean"
        },
        {
         "name": "State_Name_Goa",
         "rawType": "bool",
         "type": "boolean"
        },
        {
         "name": "State_Name_Gujarat",
         "rawType": "bool",
         "type": "boolean"
        },
        {
         "name": "State_Name_Haryana",
         "rawType": "bool",
         "type": "boolean"
        },
        {
         "name": "State_Name_Himachal Pradesh",
         "rawType": "bool",
         "type": "boolean"
        },
        {
         "name": "State_Name_Jammu and Kashmir ",
         "rawType": "bool",
         "type": "boolean"
        },
        {
         "name": "State_Name_Jharkhand",
         "rawType": "bool",
         "type": "boolean"
        },
        {
         "name": "State_Name_Karnataka",
         "rawType": "bool",
         "type": "boolean"
        },
        {
         "name": "State_Name_Kerala",
         "rawType": "bool",
         "type": "boolean"
        },
        {
         "name": "State_Name_Madhya Pradesh",
         "rawType": "bool",
         "type": "boolean"
        },
        {
         "name": "State_Name_Maharashtra",
         "rawType": "bool",
         "type": "boolean"
        },
        {
         "name": "State_Name_Manipur",
         "rawType": "bool",
         "type": "boolean"
        },
        {
         "name": "State_Name_Meghalaya",
         "rawType": "bool",
         "type": "boolean"
        },
        {
         "name": "State_Name_Mizoram",
         "rawType": "bool",
         "type": "boolean"
        },
        {
         "name": "State_Name_Nagaland",
         "rawType": "bool",
         "type": "boolean"
        },
        {
         "name": "State_Name_Odisha",
         "rawType": "bool",
         "type": "boolean"
        },
        {
         "name": "State_Name_Puducherry",
         "rawType": "bool",
         "type": "boolean"
        },
        {
         "name": "State_Name_Punjab",
         "rawType": "bool",
         "type": "boolean"
        },
        {
         "name": "State_Name_Rajasthan",
         "rawType": "bool",
         "type": "boolean"
        },
        {
         "name": "State_Name_Sikkim",
         "rawType": "bool",
         "type": "boolean"
        },
        {
         "name": "State_Name_Tamil Nadu",
         "rawType": "bool",
         "type": "boolean"
        },
        {
         "name": "State_Name_Telangana ",
         "rawType": "bool",
         "type": "boolean"
        },
        {
         "name": "State_Name_Tripura",
         "rawType": "bool",
         "type": "boolean"
        },
        {
         "name": "State_Name_Uttar Pradesh",
         "rawType": "bool",
         "type": "boolean"
        },
        {
         "name": "State_Name_Uttarakhand",
         "rawType": "bool",
         "type": "boolean"
        },
        {
         "name": "State_Name_West Bengal",
         "rawType": "bool",
         "type": "boolean"
        },
        {
         "name": "Season_Autumn     ",
         "rawType": "bool",
         "type": "boolean"
        },
        {
         "name": "Season_Kharif     ",
         "rawType": "bool",
         "type": "boolean"
        },
        {
         "name": "Season_Rabi       ",
         "rawType": "bool",
         "type": "boolean"
        },
        {
         "name": "Season_Summer     ",
         "rawType": "bool",
         "type": "boolean"
        },
        {
         "name": "Season_Whole Year ",
         "rawType": "bool",
         "type": "boolean"
        },
        {
         "name": "Season_Winter     ",
         "rawType": "bool",
         "type": "boolean"
        },
        {
         "name": "Crop_Apple",
         "rawType": "bool",
         "type": "boolean"
        },
        {
         "name": "Crop_Arcanut (Processed)",
         "rawType": "bool",
         "type": "boolean"
        },
        {
         "name": "Crop_Arecanut",
         "rawType": "bool",
         "type": "boolean"
        },
        {
         "name": "Crop_Arhar/Tur",
         "rawType": "bool",
         "type": "boolean"
        },
        {
         "name": "Crop_Ash Gourd",
         "rawType": "bool",
         "type": "boolean"
        },
        {
         "name": "Crop_Atcanut (Raw)",
         "rawType": "bool",
         "type": "boolean"
        },
        {
         "name": "Crop_Bajra",
         "rawType": "bool",
         "type": "boolean"
        },
        {
         "name": "Crop_Banana",
         "rawType": "bool",
         "type": "boolean"
        },
        {
         "name": "Crop_Barley",
         "rawType": "bool",
         "type": "boolean"
        },
        {
         "name": "Crop_Bean",
         "rawType": "bool",
         "type": "boolean"
        },
        {
         "name": "Crop_Beans & Mutter(Vegetable)",
         "rawType": "bool",
         "type": "boolean"
        },
        {
         "name": "Crop_Beet Root",
         "rawType": "bool",
         "type": "boolean"
        },
        {
         "name": "Crop_Ber",
         "rawType": "bool",
         "type": "boolean"
        },
        {
         "name": "Crop_Bhindi",
         "rawType": "bool",
         "type": "boolean"
        },
        {
         "name": "Crop_Bitter Gourd",
         "rawType": "bool",
         "type": "boolean"
        },
        {
         "name": "Crop_Black pepper",
         "rawType": "bool",
         "type": "boolean"
        },
        {
         "name": "Crop_Blackgram",
         "rawType": "bool",
         "type": "boolean"
        },
        {
         "name": "Crop_Bottle Gourd",
         "rawType": "bool",
         "type": "boolean"
        },
        {
         "name": "Crop_Brinjal",
         "rawType": "bool",
         "type": "boolean"
        },
        {
         "name": "Crop_Cabbage",
         "rawType": "bool",
         "type": "boolean"
        },
        {
         "name": "Crop_Cardamom",
         "rawType": "bool",
         "type": "boolean"
        },
        {
         "name": "Crop_Carrot",
         "rawType": "bool",
         "type": "boolean"
        },
        {
         "name": "Crop_Cashewnut",
         "rawType": "bool",
         "type": "boolean"
        },
        {
         "name": "Crop_Cashewnut Processed",
         "rawType": "bool",
         "type": "boolean"
        },
        {
         "name": "Crop_Cashewnut Raw",
         "rawType": "bool",
         "type": "boolean"
        },
        {
         "name": "Crop_Castor seed",
         "rawType": "bool",
         "type": "boolean"
        },
        {
         "name": "Crop_Cauliflower",
         "rawType": "bool",
         "type": "boolean"
        },
        {
         "name": "Crop_Citrus Fruit",
         "rawType": "bool",
         "type": "boolean"
        },
        {
         "name": "Crop_Coconut ",
         "rawType": "bool",
         "type": "boolean"
        },
        {
         "name": "Crop_Coffee",
         "rawType": "bool",
         "type": "boolean"
        },
        {
         "name": "Crop_Colocosia",
         "rawType": "bool",
         "type": "boolean"
        },
        {
         "name": "Crop_Cond-spcs other",
         "rawType": "bool",
         "type": "boolean"
        },
        {
         "name": "Crop_Coriander",
         "rawType": "bool",
         "type": "boolean"
        },
        {
         "name": "Crop_Cotton(lint)",
         "rawType": "bool",
         "type": "boolean"
        },
        {
         "name": "Crop_Cowpea(Lobia)",
         "rawType": "bool",
         "type": "boolean"
        },
        {
         "name": "Crop_Cucumber",
         "rawType": "bool",
         "type": "boolean"
        },
        {
         "name": "Crop_Drum Stick",
         "rawType": "bool",
         "type": "boolean"
        },
        {
         "name": "Crop_Dry chillies",
         "rawType": "bool",
         "type": "boolean"
        },
        {
         "name": "Crop_Dry ginger",
         "rawType": "bool",
         "type": "boolean"
        },
        {
         "name": "Crop_Garlic",
         "rawType": "bool",
         "type": "boolean"
        },
        {
         "name": "Crop_Ginger",
         "rawType": "bool",
         "type": "boolean"
        },
        {
         "name": "Crop_Gram",
         "rawType": "bool",
         "type": "boolean"
        },
        {
         "name": "Crop_Grapes",
         "rawType": "bool",
         "type": "boolean"
        },
        {
         "name": "Crop_Groundnut",
         "rawType": "bool",
         "type": "boolean"
        },
        {
         "name": "Crop_Guar seed",
         "rawType": "bool",
         "type": "boolean"
        },
        {
         "name": "Crop_Horse-gram",
         "rawType": "bool",
         "type": "boolean"
        },
        {
         "name": "Crop_Jack Fruit",
         "rawType": "bool",
         "type": "boolean"
        },
        {
         "name": "Crop_Jobster",
         "rawType": "bool",
         "type": "boolean"
        },
        {
         "name": "Crop_Jowar",
         "rawType": "bool",
         "type": "boolean"
        },
        {
         "name": "Crop_Jute",
         "rawType": "bool",
         "type": "boolean"
        },
        {
         "name": "Crop_Jute & mesta",
         "rawType": "bool",
         "type": "boolean"
        },
        {
         "name": "Crop_Kapas",
         "rawType": "bool",
         "type": "boolean"
        },
        {
         "name": "Crop_Khesari",
         "rawType": "bool",
         "type": "boolean"
        },
        {
         "name": "Crop_Korra",
         "rawType": "bool",
         "type": "boolean"
        },
        {
         "name": "Crop_Lab-Lab",
         "rawType": "bool",
         "type": "boolean"
        },
        {
         "name": "Crop_Lemon",
         "rawType": "bool",
         "type": "boolean"
        },
        {
         "name": "Crop_Lentil",
         "rawType": "bool",
         "type": "boolean"
        },
        {
         "name": "Crop_Linseed",
         "rawType": "bool",
         "type": "boolean"
        },
        {
         "name": "Crop_Litchi",
         "rawType": "bool",
         "type": "boolean"
        },
        {
         "name": "Crop_Maize",
         "rawType": "bool",
         "type": "boolean"
        },
        {
         "name": "Crop_Mango",
         "rawType": "bool",
         "type": "boolean"
        },
        {
         "name": "Crop_Masoor",
         "rawType": "bool",
         "type": "boolean"
        },
        {
         "name": "Crop_Mesta",
         "rawType": "bool",
         "type": "boolean"
        },
        {
         "name": "Crop_Moong(Green Gram)",
         "rawType": "bool",
         "type": "boolean"
        },
        {
         "name": "Crop_Moth",
         "rawType": "bool",
         "type": "boolean"
        },
        {
         "name": "Crop_Niger seed",
         "rawType": "bool",
         "type": "boolean"
        },
        {
         "name": "Crop_Oilseeds total",
         "rawType": "bool",
         "type": "boolean"
        },
        {
         "name": "Crop_Onion",
         "rawType": "bool",
         "type": "boolean"
        },
        {
         "name": "Crop_Orange",
         "rawType": "bool",
         "type": "boolean"
        },
        {
         "name": "Crop_Other  Rabi pulses",
         "rawType": "bool",
         "type": "boolean"
        },
        {
         "name": "Crop_Other Cereals & Millets",
         "rawType": "bool",
         "type": "boolean"
        },
        {
         "name": "Crop_Other Citrus Fruit",
         "rawType": "bool",
         "type": "boolean"
        },
        {
         "name": "Crop_Other Dry Fruit",
         "rawType": "bool",
         "type": "boolean"
        },
        {
         "name": "Crop_Other Fresh Fruits",
         "rawType": "bool",
         "type": "boolean"
        },
        {
         "name": "Crop_Other Kharif pulses",
         "rawType": "bool",
         "type": "boolean"
        },
        {
         "name": "Crop_Other Vegetables",
         "rawType": "bool",
         "type": "boolean"
        },
        {
         "name": "Crop_Paddy",
         "rawType": "bool",
         "type": "boolean"
        },
        {
         "name": "Crop_Papaya",
         "rawType": "bool",
         "type": "boolean"
        },
        {
         "name": "Crop_Peach",
         "rawType": "bool",
         "type": "boolean"
        },
        {
         "name": "Crop_Pear",
         "rawType": "bool",
         "type": "boolean"
        },
        {
         "name": "Crop_Peas  (vegetable)",
         "rawType": "bool",
         "type": "boolean"
        },
        {
         "name": "Crop_Peas & beans (Pulses)",
         "rawType": "bool",
         "type": "boolean"
        },
        {
         "name": "Crop_Perilla",
         "rawType": "bool",
         "type": "boolean"
        },
        {
         "name": "Crop_Pineapple",
         "rawType": "bool",
         "type": "boolean"
        },
        {
         "name": "Crop_Plums",
         "rawType": "bool",
         "type": "boolean"
        },
        {
         "name": "Crop_Pome Fruit",
         "rawType": "bool",
         "type": "boolean"
        },
        {
         "name": "Crop_Pome Granet",
         "rawType": "bool",
         "type": "boolean"
        },
        {
         "name": "Crop_Potato",
         "rawType": "bool",
         "type": "boolean"
        },
        {
         "name": "Crop_Pulses total",
         "rawType": "bool",
         "type": "boolean"
        },
        {
         "name": "Crop_Pump Kin",
         "rawType": "bool",
         "type": "boolean"
        },
        {
         "name": "Crop_Ragi",
         "rawType": "bool",
         "type": "boolean"
        },
        {
         "name": "Crop_Rajmash Kholar",
         "rawType": "bool",
         "type": "boolean"
        },
        {
         "name": "Crop_Rapeseed &Mustard",
         "rawType": "bool",
         "type": "boolean"
        },
        {
         "name": "Crop_Redish",
         "rawType": "bool",
         "type": "boolean"
        },
        {
         "name": "Crop_Ribed Guard",
         "rawType": "bool",
         "type": "boolean"
        },
        {
         "name": "Crop_Rice",
         "rawType": "bool",
         "type": "boolean"
        },
        {
         "name": "Crop_Ricebean (nagadal)",
         "rawType": "bool",
         "type": "boolean"
        },
        {
         "name": "Crop_Rubber",
         "rawType": "bool",
         "type": "boolean"
        },
        {
         "name": "Crop_Safflower",
         "rawType": "bool",
         "type": "boolean"
        },
        {
         "name": "Crop_Samai",
         "rawType": "bool",
         "type": "boolean"
        },
        {
         "name": "Crop_Sannhamp",
         "rawType": "bool",
         "type": "boolean"
        },
        {
         "name": "Crop_Sapota",
         "rawType": "bool",
         "type": "boolean"
        },
        {
         "name": "Crop_Sesamum",
         "rawType": "bool",
         "type": "boolean"
        },
        {
         "name": "Crop_Small millets",
         "rawType": "bool",
         "type": "boolean"
        },
        {
         "name": "Crop_Snak Guard",
         "rawType": "bool",
         "type": "boolean"
        },
        {
         "name": "Crop_Soyabean",
         "rawType": "bool",
         "type": "boolean"
        },
        {
         "name": "Crop_Sugarcane",
         "rawType": "bool",
         "type": "boolean"
        },
        {
         "name": "Crop_Sunflower",
         "rawType": "bool",
         "type": "boolean"
        },
        {
         "name": "Crop_Sweet potato",
         "rawType": "bool",
         "type": "boolean"
        },
        {
         "name": "Crop_Tapioca",
         "rawType": "bool",
         "type": "boolean"
        },
        {
         "name": "Crop_Tea",
         "rawType": "bool",
         "type": "boolean"
        },
        {
         "name": "Crop_Tobacco",
         "rawType": "bool",
         "type": "boolean"
        },
        {
         "name": "Crop_Tomato",
         "rawType": "bool",
         "type": "boolean"
        },
        {
         "name": "Crop_Total foodgrain",
         "rawType": "bool",
         "type": "boolean"
        },
        {
         "name": "Crop_Turmeric",
         "rawType": "bool",
         "type": "boolean"
        },
        {
         "name": "Crop_Turnip",
         "rawType": "bool",
         "type": "boolean"
        },
        {
         "name": "Crop_Urad",
         "rawType": "bool",
         "type": "boolean"
        },
        {
         "name": "Crop_Varagu",
         "rawType": "bool",
         "type": "boolean"
        },
        {
         "name": "Crop_Water Melon",
         "rawType": "bool",
         "type": "boolean"
        },
        {
         "name": "Crop_Wheat",
         "rawType": "bool",
         "type": "boolean"
        },
        {
         "name": "Crop_Yam",
         "rawType": "bool",
         "type": "boolean"
        },
        {
         "name": "Crop_other fibres",
         "rawType": "bool",
         "type": "boolean"
        },
        {
         "name": "Crop_other misc. pulses",
         "rawType": "bool",
         "type": "boolean"
        },
        {
         "name": "Crop_other oilseeds",
         "rawType": "bool",
         "type": "boolean"
        }
       ],
       "ref": "d0f4a9a3-9217-483a-8e54-9462d5015b8a",
       "rows": [
        [
         "0",
         "1254.0",
         "2000.0",
         "1.416670217169464e-06",
         "True",
         "False",
         "False",
         "False",
         "False",
         "False",
         "False",
         "False",
         "False",
         "False",
         "False",
         "False",
         "False",
         "False",
         "False",
         "False",
         "False",
         "False",
         "False",
         "False",
         "False",
         "False",
         "False",
         "False",
         "False",
         "False",
         "False",
         "False",
         "False",
         "False",
         "False",
         "False",
         "False",
         "False",
         "True",
         "False",
         "False",
         "False",
         "False",
         "False",
         "False",
         "True",
         "False",
         "False",
         "False",
         "False",
         "False",
         "False",
         "False",
         "False",
         "False",
         "False",
         "False",
         "False",
         "False",
         "False",
         "False",
         "False",
         "False",
         "False",
         "False",
         "False",
         "False",
         "False",
         "False",
         "False",
         "False",
         "False",
         "False",
         "False",
         "False",
         "False",
         "False",
         "False",
         "False",
         "False",
         "False",
         "False",
         "False",
         "False",
         "False",
         "False",
         "False",
         "False",
         "False",
         "False",
         "False",
         "False",
         "False",
         "False",
         "False",
         "False",
         "False",
         "False",
         "False",
         "False",
         "False",
         "False",
         "False",
         "False",
         "False",
         "False",
         "False",
         "False",
         "False",
         "False",
         "False",
         "False",
         "False",
         "False",
         "False",
         "False",
         "False",
         "False",
         "False",
         "False",
         "False",
         "False",
         "False",
         "False",
         "False",
         "False",
         "False",
         "False",
         "False",
         "False",
         "False",
         "False",
         "False",
         "False",
         "False",
         "False",
         "False",
         "False",
         "False",
         "False",
         "False",
         "False",
         "False",
         "False",
         "False",
         "False",
         "False",
         "False",
         "False",
         "False",
         "False",
         "False",
         "False",
         "False",
         "False",
         "False",
         "False",
         "False",
         "False",
         "False",
         "False",
         "False",
         "False",
         "False",
         "False",
         "False",
         "False"
        ],
        [
         "1",
         "2.0",
         "1.0",
         "7.083351085847319e-10",
         "True",
         "False",
         "False",
         "False",
         "False",
         "False",
         "False",
         "False",
         "False",
         "False",
         "False",
         "False",
         "False",
         "False",
         "False",
         "False",
         "False",
         "False",
         "False",
         "False",
         "False",
         "False",
         "False",
         "False",
         "False",
         "False",
         "False",
         "False",
         "False",
         "False",
         "False",
         "False",
         "False",
         "False",
         "True",
         "False",
         "False",
         "False",
         "False",
         "False",
         "False",
         "False",
         "False",
         "False",
         "False",
         "False",
         "False",
         "False",
         "False",
         "False",
         "False",
         "False",
         "False",
         "False",
         "False",
         "False",
         "False",
         "False",
         "False",
         "False",
         "False",
         "False",
         "False",
         "False",
         "False",
         "False",
         "False",
         "False",
         "False",
         "False",
         "False",
         "False",
         "False",
         "False",
         "False",
         "False",
         "False",
         "False",
         "False",
         "False",
         "False",
         "False",
         "False",
         "False",
         "False",
         "False",
         "False",
         "False",
         "False",
         "False",
         "False",
         "False",
         "False",
         "False",
         "False",
         "False",
         "False",
         "False",
         "False",
         "False",
         "False",
         "False",
         "False",
         "False",
         "False",
         "False",
         "False",
         "False",
         "False",
         "False",
         "False",
         "False",
         "False",
         "True",
         "False",
         "False",
         "False",
         "False",
         "False",
         "False",
         "False",
         "False",
         "False",
         "False",
         "False",
         "False",
         "False",
         "False",
         "False",
         "False",
         "False",
         "False",
         "False",
         "False",
         "False",
         "False",
         "False",
         "False",
         "False",
         "False",
         "False",
         "False",
         "False",
         "False",
         "False",
         "False",
         "False",
         "False",
         "False",
         "False",
         "False",
         "False",
         "False",
         "False",
         "False",
         "False",
         "False",
         "False",
         "False",
         "False",
         "False",
         "False",
         "False"
        ],
        [
         "2",
         "102.0",
         "321.0",
         "2.2737556985569892e-07",
         "True",
         "False",
         "False",
         "False",
         "False",
         "False",
         "False",
         "False",
         "False",
         "False",
         "False",
         "False",
         "False",
         "False",
         "False",
         "False",
         "False",
         "False",
         "False",
         "False",
         "False",
         "False",
         "False",
         "False",
         "False",
         "False",
         "False",
         "False",
         "False",
         "False",
         "False",
         "False",
         "False",
         "False",
         "True",
         "False",
         "False",
         "False",
         "False",
         "False",
         "False",
         "False",
         "False",
         "False",
         "False",
         "False",
         "False",
         "False",
         "False",
         "False",
         "False",
         "False",
         "False",
         "False",
         "False",
         "False",
         "False",
         "False",
         "False",
         "False",
         "False",
         "False",
         "False",
         "False",
         "False",
         "False",
         "False",
         "False",
         "False",
         "False",
         "False",
         "False",
         "False",
         "False",
         "False",
         "False",
         "False",
         "False",
         "False",
         "False",
         "False",
         "False",
         "False",
         "False",
         "False",
         "False",
         "False",
         "False",
         "False",
         "False",
         "False",
         "False",
         "False",
         "False",
         "False",
         "False",
         "False",
         "False",
         "False",
         "False",
         "False",
         "False",
         "False",
         "False",
         "False",
         "False",
         "False",
         "False",
         "False",
         "False",
         "False",
         "False",
         "False",
         "False",
         "False",
         "False",
         "False",
         "False",
         "False",
         "False",
         "False",
         "False",
         "False",
         "False",
         "False",
         "False",
         "False",
         "False",
         "False",
         "False",
         "False",
         "False",
         "False",
         "False",
         "True",
         "False",
         "False",
         "False",
         "False",
         "False",
         "False",
         "False",
         "False",
         "False",
         "False",
         "False",
         "False",
         "False",
         "False",
         "False",
         "False",
         "False",
         "False",
         "False",
         "False",
         "False",
         "False",
         "False",
         "False",
         "False",
         "False",
         "False",
         "False"
        ],
        [
         "3",
         "176.0",
         "641.0",
         "4.5404280460281314e-07",
         "True",
         "False",
         "False",
         "False",
         "False",
         "False",
         "False",
         "False",
         "False",
         "False",
         "False",
         "False",
         "False",
         "False",
         "False",
         "False",
         "False",
         "False",
         "False",
         "False",
         "False",
         "False",
         "False",
         "False",
         "False",
         "False",
         "False",
         "False",
         "False",
         "False",
         "False",
         "False",
         "False",
         "False",
         "False",
         "False",
         "False",
         "True",
         "False",
         "False",
         "False",
         "False",
         "False",
         "False",
         "False",
         "False",
         "True",
         "False",
         "False",
         "False",
         "False",
         "False",
         "False",
         "False",
         "False",
         "False",
         "False",
         "False",
         "False",
         "False",
         "False",
         "False",
         "False",
         "False",
         "False",
         "False",
         "False",
         "False",
         "False",
         "False",
         "False",
         "False",
         "False",
         "False",
         "False",
         "False",
         "False",
         "False",
         "False",
         "False",
         "False",
         "False",
         "False",
         "False",
         "False",
         "False",
         "False",
         "False",
         "False",
         "False",
         "False",
         "False",
         "False",
         "False",
         "False",
         "False",
         "False",
         "False",
         "False",
         "False",
         "False",
         "False",
         "False",
         "False",
         "False",
         "False",
         "False",
         "False",
         "False",
         "False",
         "False",
         "False",
         "False",
         "False",
         "False",
         "False",
         "False",
         "False",
         "False",
         "False",
         "False",
         "False",
         "False",
         "False",
         "False",
         "False",
         "False",
         "False",
         "False",
         "False",
         "False",
         "False",
         "False",
         "False",
         "False",
         "False",
         "False",
         "False",
         "False",
         "False",
         "False",
         "False",
         "False",
         "False",
         "False",
         "False",
         "False",
         "False",
         "False",
         "False",
         "False",
         "False",
         "False",
         "False",
         "False",
         "False",
         "False",
         "False",
         "False",
         "False",
         "False",
         "False",
         "False"
        ],
        [
         "4",
         "720.0",
         "165.0",
         "1.1687529291648076e-07",
         "True",
         "False",
         "False",
         "False",
         "False",
         "False",
         "False",
         "False",
         "False",
         "False",
         "False",
         "False",
         "False",
         "False",
         "False",
         "False",
         "False",
         "False",
         "False",
         "False",
         "False",
         "False",
         "False",
         "False",
         "False",
         "False",
         "False",
         "False",
         "False",
         "False",
         "False",
         "False",
         "False",
         "False",
         "False",
         "False",
         "False",
         "True",
         "False",
         "False",
         "False",
         "False",
         "False",
         "False",
         "False",
         "False",
         "False",
         "False",
         "False",
         "False",
         "False",
         "False",
         "False",
         "False",
         "False",
         "False",
         "False",
         "False",
         "False",
         "False",
         "False",
         "True",
         "False",
         "False",
         "False",
         "False",
         "False",
         "False",
         "False",
         "False",
         "False",
         "False",
         "False",
         "False",
         "False",
         "False",
         "False",
         "False",
         "False",
         "False",
         "False",
         "False",
         "False",
         "False",
         "False",
         "False",
         "False",
         "False",
         "False",
         "False",
         "False",
         "False",
         "False",
         "False",
         "False",
         "False",
         "False",
         "False",
         "False",
         "False",
         "False",
         "False",
         "False",
         "False",
         "False",
         "False",
         "False",
         "False",
         "False",
         "False",
         "False",
         "False",
         "False",
         "False",
         "False",
         "False",
         "False",
         "False",
         "False",
         "False",
         "False",
         "False",
         "False",
         "False",
         "False",
         "False",
         "False",
         "False",
         "False",
         "False",
         "False",
         "False",
         "False",
         "False",
         "False",
         "False",
         "False",
         "False",
         "False",
         "False",
         "False",
         "False",
         "False",
         "False",
         "False",
         "False",
         "False",
         "False",
         "False",
         "False",
         "False",
         "False",
         "False",
         "False",
         "False",
         "False",
         "False",
         "False",
         "False",
         "False",
         "False",
         "False",
         "False"
        ]
       ],
       "shape": {
        "columns": 166,
        "rows": 5
       }
      },
      "text/html": [
       "<div>\n",
       "<style scoped>\n",
       "    .dataframe tbody tr th:only-of-type {\n",
       "        vertical-align: middle;\n",
       "    }\n",
       "\n",
       "    .dataframe tbody tr th {\n",
       "        vertical-align: top;\n",
       "    }\n",
       "\n",
       "    .dataframe thead th {\n",
       "        text-align: right;\n",
       "    }\n",
       "</style>\n",
       "<table border=\"1\" class=\"dataframe\">\n",
       "  <thead>\n",
       "    <tr style=\"text-align: right;\">\n",
       "      <th></th>\n",
       "      <th>Area</th>\n",
       "      <th>Production</th>\n",
       "      <th>percent_of_production</th>\n",
       "      <th>State_Name_Andaman and Nicobar Islands</th>\n",
       "      <th>State_Name_Andhra Pradesh</th>\n",
       "      <th>State_Name_Arunachal Pradesh</th>\n",
       "      <th>State_Name_Assam</th>\n",
       "      <th>State_Name_Bihar</th>\n",
       "      <th>State_Name_Chandigarh</th>\n",
       "      <th>State_Name_Chhattisgarh</th>\n",
       "      <th>...</th>\n",
       "      <th>Crop_Turmeric</th>\n",
       "      <th>Crop_Turnip</th>\n",
       "      <th>Crop_Urad</th>\n",
       "      <th>Crop_Varagu</th>\n",
       "      <th>Crop_Water Melon</th>\n",
       "      <th>Crop_Wheat</th>\n",
       "      <th>Crop_Yam</th>\n",
       "      <th>Crop_other fibres</th>\n",
       "      <th>Crop_other misc. pulses</th>\n",
       "      <th>Crop_other oilseeds</th>\n",
       "    </tr>\n",
       "  </thead>\n",
       "  <tbody>\n",
       "    <tr>\n",
       "      <th>0</th>\n",
       "      <td>1254.0</td>\n",
       "      <td>2000.0</td>\n",
       "      <td>1.416670e-06</td>\n",
       "      <td>True</td>\n",
       "      <td>False</td>\n",
       "      <td>False</td>\n",
       "      <td>False</td>\n",
       "      <td>False</td>\n",
       "      <td>False</td>\n",
       "      <td>False</td>\n",
       "      <td>...</td>\n",
       "      <td>False</td>\n",
       "      <td>False</td>\n",
       "      <td>False</td>\n",
       "      <td>False</td>\n",
       "      <td>False</td>\n",
       "      <td>False</td>\n",
       "      <td>False</td>\n",
       "      <td>False</td>\n",
       "      <td>False</td>\n",
       "      <td>False</td>\n",
       "    </tr>\n",
       "    <tr>\n",
       "      <th>1</th>\n",
       "      <td>2.0</td>\n",
       "      <td>1.0</td>\n",
       "      <td>7.083351e-10</td>\n",
       "      <td>True</td>\n",
       "      <td>False</td>\n",
       "      <td>False</td>\n",
       "      <td>False</td>\n",
       "      <td>False</td>\n",
       "      <td>False</td>\n",
       "      <td>False</td>\n",
       "      <td>...</td>\n",
       "      <td>False</td>\n",
       "      <td>False</td>\n",
       "      <td>False</td>\n",
       "      <td>False</td>\n",
       "      <td>False</td>\n",
       "      <td>False</td>\n",
       "      <td>False</td>\n",
       "      <td>False</td>\n",
       "      <td>False</td>\n",
       "      <td>False</td>\n",
       "    </tr>\n",
       "    <tr>\n",
       "      <th>2</th>\n",
       "      <td>102.0</td>\n",
       "      <td>321.0</td>\n",
       "      <td>2.273756e-07</td>\n",
       "      <td>True</td>\n",
       "      <td>False</td>\n",
       "      <td>False</td>\n",
       "      <td>False</td>\n",
       "      <td>False</td>\n",
       "      <td>False</td>\n",
       "      <td>False</td>\n",
       "      <td>...</td>\n",
       "      <td>False</td>\n",
       "      <td>False</td>\n",
       "      <td>False</td>\n",
       "      <td>False</td>\n",
       "      <td>False</td>\n",
       "      <td>False</td>\n",
       "      <td>False</td>\n",
       "      <td>False</td>\n",
       "      <td>False</td>\n",
       "      <td>False</td>\n",
       "    </tr>\n",
       "    <tr>\n",
       "      <th>3</th>\n",
       "      <td>176.0</td>\n",
       "      <td>641.0</td>\n",
       "      <td>4.540428e-07</td>\n",
       "      <td>True</td>\n",
       "      <td>False</td>\n",
       "      <td>False</td>\n",
       "      <td>False</td>\n",
       "      <td>False</td>\n",
       "      <td>False</td>\n",
       "      <td>False</td>\n",
       "      <td>...</td>\n",
       "      <td>False</td>\n",
       "      <td>False</td>\n",
       "      <td>False</td>\n",
       "      <td>False</td>\n",
       "      <td>False</td>\n",
       "      <td>False</td>\n",
       "      <td>False</td>\n",
       "      <td>False</td>\n",
       "      <td>False</td>\n",
       "      <td>False</td>\n",
       "    </tr>\n",
       "    <tr>\n",
       "      <th>4</th>\n",
       "      <td>720.0</td>\n",
       "      <td>165.0</td>\n",
       "      <td>1.168753e-07</td>\n",
       "      <td>True</td>\n",
       "      <td>False</td>\n",
       "      <td>False</td>\n",
       "      <td>False</td>\n",
       "      <td>False</td>\n",
       "      <td>False</td>\n",
       "      <td>False</td>\n",
       "      <td>...</td>\n",
       "      <td>False</td>\n",
       "      <td>False</td>\n",
       "      <td>False</td>\n",
       "      <td>False</td>\n",
       "      <td>False</td>\n",
       "      <td>False</td>\n",
       "      <td>False</td>\n",
       "      <td>False</td>\n",
       "      <td>False</td>\n",
       "      <td>False</td>\n",
       "    </tr>\n",
       "  </tbody>\n",
       "</table>\n",
       "<p>5 rows × 166 columns</p>\n",
       "</div>"
      ],
      "text/plain": [
       "     Area  Production  percent_of_production  \\\n",
       "0  1254.0      2000.0           1.416670e-06   \n",
       "1     2.0         1.0           7.083351e-10   \n",
       "2   102.0       321.0           2.273756e-07   \n",
       "3   176.0       641.0           4.540428e-07   \n",
       "4   720.0       165.0           1.168753e-07   \n",
       "\n",
       "   State_Name_Andaman and Nicobar Islands  State_Name_Andhra Pradesh  \\\n",
       "0                                    True                      False   \n",
       "1                                    True                      False   \n",
       "2                                    True                      False   \n",
       "3                                    True                      False   \n",
       "4                                    True                      False   \n",
       "\n",
       "   State_Name_Arunachal Pradesh  State_Name_Assam  State_Name_Bihar  \\\n",
       "0                         False             False             False   \n",
       "1                         False             False             False   \n",
       "2                         False             False             False   \n",
       "3                         False             False             False   \n",
       "4                         False             False             False   \n",
       "\n",
       "   State_Name_Chandigarh  State_Name_Chhattisgarh  ...  Crop_Turmeric  \\\n",
       "0                  False                    False  ...          False   \n",
       "1                  False                    False  ...          False   \n",
       "2                  False                    False  ...          False   \n",
       "3                  False                    False  ...          False   \n",
       "4                  False                    False  ...          False   \n",
       "\n",
       "   Crop_Turnip  Crop_Urad  Crop_Varagu  Crop_Water Melon  Crop_Wheat  \\\n",
       "0        False      False        False             False       False   \n",
       "1        False      False        False             False       False   \n",
       "2        False      False        False             False       False   \n",
       "3        False      False        False             False       False   \n",
       "4        False      False        False             False       False   \n",
       "\n",
       "   Crop_Yam  Crop_other fibres  Crop_other misc. pulses  Crop_other oilseeds  \n",
       "0     False              False                    False                False  \n",
       "1     False              False                    False                False  \n",
       "2     False              False                    False                False  \n",
       "3     False              False                    False                False  \n",
       "4     False              False                    False                False  \n",
       "\n",
       "[5 rows x 166 columns]"
      ]
     },
     "execution_count": 32,
     "metadata": {},
     "output_type": "execute_result"
    }
   ],
   "source": [
    "data_dum = pd.get_dummies(data1)\n",
    "data_dum[:5]"
   ]
  },
  {
   "cell_type": "code",
   "execution_count": 57,
   "id": "30d0decd",
   "metadata": {},
   "outputs": [],
   "source": [
    "ohe_columns = data_dum.drop(\"Production\", axis=1).columns.tolist()\n",
    "\n",
    "# Save to a pickle file\n",
    "with open(\"ohe_columns.pkl\", \"wb\") as f:\n",
    "    pickle.dump(ohe_columns, f)"
   ]
  },
  {
   "cell_type": "code",
   "execution_count": 34,
   "id": "9229b673",
   "metadata": {},
   "outputs": [
    {
     "name": "stdout",
     "output_type": "stream",
     "text": [
      "x_train : (169652, 165)\n",
      "x_test : (72709, 165)\n",
      "y_train : (169652, 1)\n",
      "y_test : (72709, 1)\n"
     ]
    }
   ],
   "source": [
    "x = data_dum.drop(\"Production\",axis=1)\n",
    "y = data_dum[[\"Production\"]]\n",
    "from sklearn.model_selection import train_test_split\n",
    "x_train,x_test,y_train,y_test = train_test_split(x,y,test_size=0.30, random_state=42)\n",
    "print(\"x_train :\",x_train.shape)\n",
    "print(\"x_test :\",x_test.shape)\n",
    "print(\"y_train :\",y_train.shape)\n",
    "print(\"y_test :\",y_test.shape)"
   ]
  },
  {
   "cell_type": "code",
   "execution_count": 35,
   "id": "a4d1580f",
   "metadata": {},
   "outputs": [
    {
     "data": {
      "application/vnd.microsoft.datawrangler.viewer.v0+json": {
       "columns": [
        {
         "name": "index",
         "rawType": "int64",
         "type": "integer"
        },
        {
         "name": "Area",
         "rawType": "float64",
         "type": "float"
        },
        {
         "name": "percent_of_production",
         "rawType": "float64",
         "type": "float"
        },
        {
         "name": "State_Name_Andaman and Nicobar Islands",
         "rawType": "bool",
         "type": "boolean"
        },
        {
         "name": "State_Name_Andhra Pradesh",
         "rawType": "bool",
         "type": "boolean"
        },
        {
         "name": "State_Name_Arunachal Pradesh",
         "rawType": "bool",
         "type": "boolean"
        },
        {
         "name": "State_Name_Assam",
         "rawType": "bool",
         "type": "boolean"
        },
        {
         "name": "State_Name_Bihar",
         "rawType": "bool",
         "type": "boolean"
        },
        {
         "name": "State_Name_Chandigarh",
         "rawType": "bool",
         "type": "boolean"
        },
        {
         "name": "State_Name_Chhattisgarh",
         "rawType": "bool",
         "type": "boolean"
        },
        {
         "name": "State_Name_Dadra and Nagar Haveli",
         "rawType": "bool",
         "type": "boolean"
        },
        {
         "name": "State_Name_Goa",
         "rawType": "bool",
         "type": "boolean"
        },
        {
         "name": "State_Name_Gujarat",
         "rawType": "bool",
         "type": "boolean"
        },
        {
         "name": "State_Name_Haryana",
         "rawType": "bool",
         "type": "boolean"
        },
        {
         "name": "State_Name_Himachal Pradesh",
         "rawType": "bool",
         "type": "boolean"
        },
        {
         "name": "State_Name_Jammu and Kashmir ",
         "rawType": "bool",
         "type": "boolean"
        },
        {
         "name": "State_Name_Jharkhand",
         "rawType": "bool",
         "type": "boolean"
        },
        {
         "name": "State_Name_Karnataka",
         "rawType": "bool",
         "type": "boolean"
        },
        {
         "name": "State_Name_Kerala",
         "rawType": "bool",
         "type": "boolean"
        },
        {
         "name": "State_Name_Madhya Pradesh",
         "rawType": "bool",
         "type": "boolean"
        },
        {
         "name": "State_Name_Maharashtra",
         "rawType": "bool",
         "type": "boolean"
        },
        {
         "name": "State_Name_Manipur",
         "rawType": "bool",
         "type": "boolean"
        },
        {
         "name": "State_Name_Meghalaya",
         "rawType": "bool",
         "type": "boolean"
        },
        {
         "name": "State_Name_Mizoram",
         "rawType": "bool",
         "type": "boolean"
        },
        {
         "name": "State_Name_Nagaland",
         "rawType": "bool",
         "type": "boolean"
        },
        {
         "name": "State_Name_Odisha",
         "rawType": "bool",
         "type": "boolean"
        },
        {
         "name": "State_Name_Puducherry",
         "rawType": "bool",
         "type": "boolean"
        },
        {
         "name": "State_Name_Punjab",
         "rawType": "bool",
         "type": "boolean"
        },
        {
         "name": "State_Name_Rajasthan",
         "rawType": "bool",
         "type": "boolean"
        },
        {
         "name": "State_Name_Sikkim",
         "rawType": "bool",
         "type": "boolean"
        },
        {
         "name": "State_Name_Tamil Nadu",
         "rawType": "bool",
         "type": "boolean"
        },
        {
         "name": "State_Name_Telangana ",
         "rawType": "bool",
         "type": "boolean"
        },
        {
         "name": "State_Name_Tripura",
         "rawType": "bool",
         "type": "boolean"
        },
        {
         "name": "State_Name_Uttar Pradesh",
         "rawType": "bool",
         "type": "boolean"
        },
        {
         "name": "State_Name_Uttarakhand",
         "rawType": "bool",
         "type": "boolean"
        },
        {
         "name": "State_Name_West Bengal",
         "rawType": "bool",
         "type": "boolean"
        },
        {
         "name": "Season_Autumn     ",
         "rawType": "bool",
         "type": "boolean"
        },
        {
         "name": "Season_Kharif     ",
         "rawType": "bool",
         "type": "boolean"
        },
        {
         "name": "Season_Rabi       ",
         "rawType": "bool",
         "type": "boolean"
        },
        {
         "name": "Season_Summer     ",
         "rawType": "bool",
         "type": "boolean"
        },
        {
         "name": "Season_Whole Year ",
         "rawType": "bool",
         "type": "boolean"
        },
        {
         "name": "Season_Winter     ",
         "rawType": "bool",
         "type": "boolean"
        },
        {
         "name": "Crop_Apple",
         "rawType": "bool",
         "type": "boolean"
        },
        {
         "name": "Crop_Arcanut (Processed)",
         "rawType": "bool",
         "type": "boolean"
        },
        {
         "name": "Crop_Arecanut",
         "rawType": "bool",
         "type": "boolean"
        },
        {
         "name": "Crop_Arhar/Tur",
         "rawType": "bool",
         "type": "boolean"
        },
        {
         "name": "Crop_Ash Gourd",
         "rawType": "bool",
         "type": "boolean"
        },
        {
         "name": "Crop_Atcanut (Raw)",
         "rawType": "bool",
         "type": "boolean"
        },
        {
         "name": "Crop_Bajra",
         "rawType": "bool",
         "type": "boolean"
        },
        {
         "name": "Crop_Banana",
         "rawType": "bool",
         "type": "boolean"
        },
        {
         "name": "Crop_Barley",
         "rawType": "bool",
         "type": "boolean"
        },
        {
         "name": "Crop_Bean",
         "rawType": "bool",
         "type": "boolean"
        },
        {
         "name": "Crop_Beans & Mutter(Vegetable)",
         "rawType": "bool",
         "type": "boolean"
        },
        {
         "name": "Crop_Beet Root",
         "rawType": "bool",
         "type": "boolean"
        },
        {
         "name": "Crop_Ber",
         "rawType": "bool",
         "type": "boolean"
        },
        {
         "name": "Crop_Bhindi",
         "rawType": "bool",
         "type": "boolean"
        },
        {
         "name": "Crop_Bitter Gourd",
         "rawType": "bool",
         "type": "boolean"
        },
        {
         "name": "Crop_Black pepper",
         "rawType": "bool",
         "type": "boolean"
        },
        {
         "name": "Crop_Blackgram",
         "rawType": "bool",
         "type": "boolean"
        },
        {
         "name": "Crop_Bottle Gourd",
         "rawType": "bool",
         "type": "boolean"
        },
        {
         "name": "Crop_Brinjal",
         "rawType": "bool",
         "type": "boolean"
        },
        {
         "name": "Crop_Cabbage",
         "rawType": "bool",
         "type": "boolean"
        },
        {
         "name": "Crop_Cardamom",
         "rawType": "bool",
         "type": "boolean"
        },
        {
         "name": "Crop_Carrot",
         "rawType": "bool",
         "type": "boolean"
        },
        {
         "name": "Crop_Cashewnut",
         "rawType": "bool",
         "type": "boolean"
        },
        {
         "name": "Crop_Cashewnut Processed",
         "rawType": "bool",
         "type": "boolean"
        },
        {
         "name": "Crop_Cashewnut Raw",
         "rawType": "bool",
         "type": "boolean"
        },
        {
         "name": "Crop_Castor seed",
         "rawType": "bool",
         "type": "boolean"
        },
        {
         "name": "Crop_Cauliflower",
         "rawType": "bool",
         "type": "boolean"
        },
        {
         "name": "Crop_Citrus Fruit",
         "rawType": "bool",
         "type": "boolean"
        },
        {
         "name": "Crop_Coconut ",
         "rawType": "bool",
         "type": "boolean"
        },
        {
         "name": "Crop_Coffee",
         "rawType": "bool",
         "type": "boolean"
        },
        {
         "name": "Crop_Colocosia",
         "rawType": "bool",
         "type": "boolean"
        },
        {
         "name": "Crop_Cond-spcs other",
         "rawType": "bool",
         "type": "boolean"
        },
        {
         "name": "Crop_Coriander",
         "rawType": "bool",
         "type": "boolean"
        },
        {
         "name": "Crop_Cotton(lint)",
         "rawType": "bool",
         "type": "boolean"
        },
        {
         "name": "Crop_Cowpea(Lobia)",
         "rawType": "bool",
         "type": "boolean"
        },
        {
         "name": "Crop_Cucumber",
         "rawType": "bool",
         "type": "boolean"
        },
        {
         "name": "Crop_Drum Stick",
         "rawType": "bool",
         "type": "boolean"
        },
        {
         "name": "Crop_Dry chillies",
         "rawType": "bool",
         "type": "boolean"
        },
        {
         "name": "Crop_Dry ginger",
         "rawType": "bool",
         "type": "boolean"
        },
        {
         "name": "Crop_Garlic",
         "rawType": "bool",
         "type": "boolean"
        },
        {
         "name": "Crop_Ginger",
         "rawType": "bool",
         "type": "boolean"
        },
        {
         "name": "Crop_Gram",
         "rawType": "bool",
         "type": "boolean"
        },
        {
         "name": "Crop_Grapes",
         "rawType": "bool",
         "type": "boolean"
        },
        {
         "name": "Crop_Groundnut",
         "rawType": "bool",
         "type": "boolean"
        },
        {
         "name": "Crop_Guar seed",
         "rawType": "bool",
         "type": "boolean"
        },
        {
         "name": "Crop_Horse-gram",
         "rawType": "bool",
         "type": "boolean"
        },
        {
         "name": "Crop_Jack Fruit",
         "rawType": "bool",
         "type": "boolean"
        },
        {
         "name": "Crop_Jobster",
         "rawType": "bool",
         "type": "boolean"
        },
        {
         "name": "Crop_Jowar",
         "rawType": "bool",
         "type": "boolean"
        },
        {
         "name": "Crop_Jute",
         "rawType": "bool",
         "type": "boolean"
        },
        {
         "name": "Crop_Jute & mesta",
         "rawType": "bool",
         "type": "boolean"
        },
        {
         "name": "Crop_Kapas",
         "rawType": "bool",
         "type": "boolean"
        },
        {
         "name": "Crop_Khesari",
         "rawType": "bool",
         "type": "boolean"
        },
        {
         "name": "Crop_Korra",
         "rawType": "bool",
         "type": "boolean"
        },
        {
         "name": "Crop_Lab-Lab",
         "rawType": "bool",
         "type": "boolean"
        },
        {
         "name": "Crop_Lemon",
         "rawType": "bool",
         "type": "boolean"
        },
        {
         "name": "Crop_Lentil",
         "rawType": "bool",
         "type": "boolean"
        },
        {
         "name": "Crop_Linseed",
         "rawType": "bool",
         "type": "boolean"
        },
        {
         "name": "Crop_Litchi",
         "rawType": "bool",
         "type": "boolean"
        },
        {
         "name": "Crop_Maize",
         "rawType": "bool",
         "type": "boolean"
        },
        {
         "name": "Crop_Mango",
         "rawType": "bool",
         "type": "boolean"
        },
        {
         "name": "Crop_Masoor",
         "rawType": "bool",
         "type": "boolean"
        },
        {
         "name": "Crop_Mesta",
         "rawType": "bool",
         "type": "boolean"
        },
        {
         "name": "Crop_Moong(Green Gram)",
         "rawType": "bool",
         "type": "boolean"
        },
        {
         "name": "Crop_Moth",
         "rawType": "bool",
         "type": "boolean"
        },
        {
         "name": "Crop_Niger seed",
         "rawType": "bool",
         "type": "boolean"
        },
        {
         "name": "Crop_Oilseeds total",
         "rawType": "bool",
         "type": "boolean"
        },
        {
         "name": "Crop_Onion",
         "rawType": "bool",
         "type": "boolean"
        },
        {
         "name": "Crop_Orange",
         "rawType": "bool",
         "type": "boolean"
        },
        {
         "name": "Crop_Other  Rabi pulses",
         "rawType": "bool",
         "type": "boolean"
        },
        {
         "name": "Crop_Other Cereals & Millets",
         "rawType": "bool",
         "type": "boolean"
        },
        {
         "name": "Crop_Other Citrus Fruit",
         "rawType": "bool",
         "type": "boolean"
        },
        {
         "name": "Crop_Other Dry Fruit",
         "rawType": "bool",
         "type": "boolean"
        },
        {
         "name": "Crop_Other Fresh Fruits",
         "rawType": "bool",
         "type": "boolean"
        },
        {
         "name": "Crop_Other Kharif pulses",
         "rawType": "bool",
         "type": "boolean"
        },
        {
         "name": "Crop_Other Vegetables",
         "rawType": "bool",
         "type": "boolean"
        },
        {
         "name": "Crop_Paddy",
         "rawType": "bool",
         "type": "boolean"
        },
        {
         "name": "Crop_Papaya",
         "rawType": "bool",
         "type": "boolean"
        },
        {
         "name": "Crop_Peach",
         "rawType": "bool",
         "type": "boolean"
        },
        {
         "name": "Crop_Pear",
         "rawType": "bool",
         "type": "boolean"
        },
        {
         "name": "Crop_Peas  (vegetable)",
         "rawType": "bool",
         "type": "boolean"
        },
        {
         "name": "Crop_Peas & beans (Pulses)",
         "rawType": "bool",
         "type": "boolean"
        },
        {
         "name": "Crop_Perilla",
         "rawType": "bool",
         "type": "boolean"
        },
        {
         "name": "Crop_Pineapple",
         "rawType": "bool",
         "type": "boolean"
        },
        {
         "name": "Crop_Plums",
         "rawType": "bool",
         "type": "boolean"
        },
        {
         "name": "Crop_Pome Fruit",
         "rawType": "bool",
         "type": "boolean"
        },
        {
         "name": "Crop_Pome Granet",
         "rawType": "bool",
         "type": "boolean"
        },
        {
         "name": "Crop_Potato",
         "rawType": "bool",
         "type": "boolean"
        },
        {
         "name": "Crop_Pulses total",
         "rawType": "bool",
         "type": "boolean"
        },
        {
         "name": "Crop_Pump Kin",
         "rawType": "bool",
         "type": "boolean"
        },
        {
         "name": "Crop_Ragi",
         "rawType": "bool",
         "type": "boolean"
        },
        {
         "name": "Crop_Rajmash Kholar",
         "rawType": "bool",
         "type": "boolean"
        },
        {
         "name": "Crop_Rapeseed &Mustard",
         "rawType": "bool",
         "type": "boolean"
        },
        {
         "name": "Crop_Redish",
         "rawType": "bool",
         "type": "boolean"
        },
        {
         "name": "Crop_Ribed Guard",
         "rawType": "bool",
         "type": "boolean"
        },
        {
         "name": "Crop_Rice",
         "rawType": "bool",
         "type": "boolean"
        },
        {
         "name": "Crop_Ricebean (nagadal)",
         "rawType": "bool",
         "type": "boolean"
        },
        {
         "name": "Crop_Rubber",
         "rawType": "bool",
         "type": "boolean"
        },
        {
         "name": "Crop_Safflower",
         "rawType": "bool",
         "type": "boolean"
        },
        {
         "name": "Crop_Samai",
         "rawType": "bool",
         "type": "boolean"
        },
        {
         "name": "Crop_Sannhamp",
         "rawType": "bool",
         "type": "boolean"
        },
        {
         "name": "Crop_Sapota",
         "rawType": "bool",
         "type": "boolean"
        },
        {
         "name": "Crop_Sesamum",
         "rawType": "bool",
         "type": "boolean"
        },
        {
         "name": "Crop_Small millets",
         "rawType": "bool",
         "type": "boolean"
        },
        {
         "name": "Crop_Snak Guard",
         "rawType": "bool",
         "type": "boolean"
        },
        {
         "name": "Crop_Soyabean",
         "rawType": "bool",
         "type": "boolean"
        },
        {
         "name": "Crop_Sugarcane",
         "rawType": "bool",
         "type": "boolean"
        },
        {
         "name": "Crop_Sunflower",
         "rawType": "bool",
         "type": "boolean"
        },
        {
         "name": "Crop_Sweet potato",
         "rawType": "bool",
         "type": "boolean"
        },
        {
         "name": "Crop_Tapioca",
         "rawType": "bool",
         "type": "boolean"
        },
        {
         "name": "Crop_Tea",
         "rawType": "bool",
         "type": "boolean"
        },
        {
         "name": "Crop_Tobacco",
         "rawType": "bool",
         "type": "boolean"
        },
        {
         "name": "Crop_Tomato",
         "rawType": "bool",
         "type": "boolean"
        },
        {
         "name": "Crop_Total foodgrain",
         "rawType": "bool",
         "type": "boolean"
        },
        {
         "name": "Crop_Turmeric",
         "rawType": "bool",
         "type": "boolean"
        },
        {
         "name": "Crop_Turnip",
         "rawType": "bool",
         "type": "boolean"
        },
        {
         "name": "Crop_Urad",
         "rawType": "bool",
         "type": "boolean"
        },
        {
         "name": "Crop_Varagu",
         "rawType": "bool",
         "type": "boolean"
        },
        {
         "name": "Crop_Water Melon",
         "rawType": "bool",
         "type": "boolean"
        },
        {
         "name": "Crop_Wheat",
         "rawType": "bool",
         "type": "boolean"
        },
        {
         "name": "Crop_Yam",
         "rawType": "bool",
         "type": "boolean"
        },
        {
         "name": "Crop_other fibres",
         "rawType": "bool",
         "type": "boolean"
        },
        {
         "name": "Crop_other misc. pulses",
         "rawType": "bool",
         "type": "boolean"
        },
        {
         "name": "Crop_other oilseeds",
         "rawType": "bool",
         "type": "boolean"
        }
       ],
       "ref": "a6e295dd-6077-4f90-8dc0-8af7bc2c6f6a",
       "rows": [
        [
         "227784",
         "674.0",
         "4.3491775667102537e-07",
         "False",
         "False",
         "False",
         "False",
         "False",
         "False",
         "False",
         "False",
         "False",
         "False",
         "False",
         "False",
         "False",
         "False",
         "False",
         "False",
         "False",
         "False",
         "False",
         "False",
         "False",
         "False",
         "False",
         "False",
         "False",
         "False",
         "False",
         "False",
         "False",
         "False",
         "True",
         "False",
         "False",
         "False",
         "False",
         "True",
         "False",
         "False",
         "False",
         "False",
         "False",
         "False",
         "False",
         "False",
         "False",
         "False",
         "False",
         "False",
         "False",
         "False",
         "False",
         "False",
         "False",
         "False",
         "False",
         "False",
         "False",
         "False",
         "False",
         "False",
         "False",
         "False",
         "False",
         "False",
         "False",
         "False",
         "False",
         "False",
         "False",
         "False",
         "False",
         "False",
         "False",
         "False",
         "False",
         "False",
         "False",
         "False",
         "False",
         "False",
         "True",
         "False",
         "False",
         "False",
         "False",
         "False",
         "False",
         "False",
         "False",
         "False",
         "False",
         "False",
         "False",
         "False",
         "False",
         "False",
         "False",
         "False",
         "False",
         "False",
         "False",
         "False",
         "False",
         "False",
         "False",
         "False",
         "False",
         "False",
         "False",
         "False",
         "False",
         "False",
         "False",
         "False",
         "False",
         "False",
         "False",
         "False",
         "False",
         "False",
         "False",
         "False",
         "False",
         "False",
         "False",
         "False",
         "False",
         "False",
         "False",
         "False",
         "False",
         "False",
         "False",
         "False",
         "False",
         "False",
         "False",
         "False",
         "False",
         "False",
         "False",
         "False",
         "False",
         "False",
         "False",
         "False",
         "False",
         "False",
         "False",
         "False",
         "False",
         "False",
         "False",
         "False",
         "False",
         "False",
         "False",
         "False",
         "False",
         "False",
         "False",
         "False",
         "False"
        ],
        [
         "73466",
         "36.0",
         "2.620839901763508e-08",
         "False",
         "False",
         "False",
         "False",
         "False",
         "False",
         "False",
         "False",
         "False",
         "False",
         "False",
         "True",
         "False",
         "False",
         "False",
         "False",
         "False",
         "False",
         "False",
         "False",
         "False",
         "False",
         "False",
         "False",
         "False",
         "False",
         "False",
         "False",
         "False",
         "False",
         "False",
         "False",
         "False",
         "False",
         "True",
         "False",
         "False",
         "False",
         "False",
         "False",
         "False",
         "False",
         "False",
         "False",
         "False",
         "False",
         "False",
         "False",
         "False",
         "False",
         "False",
         "False",
         "False",
         "False",
         "False",
         "False",
         "False",
         "False",
         "False",
         "False",
         "False",
         "False",
         "False",
         "False",
         "False",
         "False",
         "False",
         "False",
         "False",
         "False",
         "False",
         "False",
         "False",
         "False",
         "False",
         "False",
         "False",
         "False",
         "False",
         "False",
         "False",
         "False",
         "True",
         "False",
         "False",
         "False",
         "False",
         "False",
         "False",
         "False",
         "False",
         "False",
         "False",
         "False",
         "False",
         "False",
         "False",
         "False",
         "False",
         "False",
         "False",
         "False",
         "False",
         "False",
         "False",
         "False",
         "False",
         "False",
         "False",
         "False",
         "False",
         "False",
         "False",
         "False",
         "False",
         "False",
         "False",
         "False",
         "False",
         "False",
         "False",
         "False",
         "False",
         "False",
         "False",
         "False",
         "False",
         "False",
         "False",
         "False",
         "False",
         "False",
         "False",
         "False",
         "False",
         "False",
         "False",
         "False",
         "False",
         "False",
         "False",
         "False",
         "False",
         "False",
         "False",
         "False",
         "False",
         "False",
         "False",
         "False",
         "False",
         "False",
         "False",
         "False",
         "False",
         "False",
         "False",
         "False",
         "False",
         "False",
         "False",
         "False",
         "False"
        ],
        [
         "148845",
         "361.0",
         "1.2466697911091281e-07",
         "False",
         "False",
         "False",
         "False",
         "False",
         "False",
         "False",
         "False",
         "False",
         "False",
         "False",
         "False",
         "False",
         "False",
         "False",
         "False",
         "False",
         "False",
         "False",
         "False",
         "False",
         "False",
         "True",
         "False",
         "False",
         "False",
         "False",
         "False",
         "False",
         "False",
         "False",
         "False",
         "False",
         "False",
         "False",
         "False",
         "False",
         "True",
         "False",
         "False",
         "False",
         "False",
         "False",
         "False",
         "False",
         "False",
         "False",
         "False",
         "False",
         "False",
         "False",
         "False",
         "False",
         "False",
         "False",
         "False",
         "False",
         "False",
         "False",
         "False",
         "False",
         "False",
         "False",
         "False",
         "False",
         "False",
         "False",
         "False",
         "False",
         "False",
         "False",
         "True",
         "False",
         "False",
         "False",
         "False",
         "False",
         "False",
         "False",
         "False",
         "False",
         "False",
         "False",
         "False",
         "False",
         "False",
         "False",
         "False",
         "False",
         "False",
         "False",
         "False",
         "False",
         "False",
         "False",
         "False",
         "False",
         "False",
         "False",
         "False",
         "False",
         "False",
         "False",
         "False",
         "False",
         "False",
         "False",
         "False",
         "False",
         "False",
         "False",
         "False",
         "False",
         "False",
         "False",
         "False",
         "False",
         "False",
         "False",
         "False",
         "False",
         "False",
         "False",
         "False",
         "False",
         "False",
         "False",
         "False",
         "False",
         "False",
         "False",
         "False",
         "False",
         "False",
         "False",
         "False",
         "False",
         "False",
         "False",
         "False",
         "False",
         "False",
         "False",
         "False",
         "False",
         "False",
         "False",
         "False",
         "False",
         "False",
         "False",
         "False",
         "False",
         "False",
         "False",
         "False",
         "False",
         "False",
         "False",
         "False",
         "False",
         "False",
         "False"
        ],
        [
         "209150",
         "24.0",
         "1.9833383040372495e-08",
         "False",
         "False",
         "False",
         "False",
         "False",
         "False",
         "False",
         "False",
         "False",
         "False",
         "False",
         "False",
         "False",
         "False",
         "False",
         "False",
         "False",
         "False",
         "False",
         "False",
         "False",
         "False",
         "False",
         "False",
         "False",
         "False",
         "False",
         "False",
         "False",
         "False",
         "True",
         "False",
         "False",
         "False",
         "True",
         "False",
         "False",
         "False",
         "False",
         "False",
         "False",
         "False",
         "False",
         "False",
         "False",
         "False",
         "False",
         "False",
         "False",
         "False",
         "False",
         "False",
         "False",
         "False",
         "False",
         "False",
         "False",
         "False",
         "False",
         "False",
         "False",
         "False",
         "False",
         "False",
         "False",
         "False",
         "False",
         "False",
         "False",
         "False",
         "False",
         "False",
         "False",
         "False",
         "False",
         "False",
         "False",
         "False",
         "False",
         "False",
         "False",
         "False",
         "True",
         "False",
         "False",
         "False",
         "False",
         "False",
         "False",
         "False",
         "False",
         "False",
         "False",
         "False",
         "False",
         "False",
         "False",
         "False",
         "False",
         "False",
         "False",
         "False",
         "False",
         "False",
         "False",
         "False",
         "False",
         "False",
         "False",
         "False",
         "False",
         "False",
         "False",
         "False",
         "False",
         "False",
         "False",
         "False",
         "False",
         "False",
         "False",
         "False",
         "False",
         "False",
         "False",
         "False",
         "False",
         "False",
         "False",
         "False",
         "False",
         "False",
         "False",
         "False",
         "False",
         "False",
         "False",
         "False",
         "False",
         "False",
         "False",
         "False",
         "False",
         "False",
         "False",
         "False",
         "False",
         "False",
         "False",
         "False",
         "False",
         "False",
         "False",
         "False",
         "False",
         "False",
         "False",
         "False",
         "False",
         "False",
         "False",
         "False",
         "False"
        ],
        [
         "30541",
         "330.0",
         "5.395388522089904e-06",
         "False",
         "False",
         "False",
         "False",
         "True",
         "False",
         "False",
         "False",
         "False",
         "False",
         "False",
         "False",
         "False",
         "False",
         "False",
         "False",
         "False",
         "False",
         "False",
         "False",
         "False",
         "False",
         "False",
         "False",
         "False",
         "False",
         "False",
         "False",
         "False",
         "False",
         "False",
         "False",
         "False",
         "False",
         "False",
         "False",
         "False",
         "True",
         "False",
         "False",
         "False",
         "False",
         "False",
         "False",
         "False",
         "False",
         "False",
         "False",
         "False",
         "False",
         "False",
         "False",
         "False",
         "False",
         "False",
         "False",
         "False",
         "False",
         "False",
         "False",
         "False",
         "False",
         "False",
         "False",
         "False",
         "False",
         "False",
         "False",
         "False",
         "False",
         "False",
         "False",
         "False",
         "False",
         "False",
         "False",
         "False",
         "False",
         "False",
         "False",
         "False",
         "False",
         "False",
         "False",
         "False",
         "False",
         "False",
         "False",
         "False",
         "False",
         "False",
         "False",
         "False",
         "False",
         "False",
         "False",
         "False",
         "False",
         "False",
         "False",
         "False",
         "False",
         "False",
         "False",
         "False",
         "False",
         "False",
         "False",
         "False",
         "False",
         "False",
         "False",
         "False",
         "False",
         "False",
         "False",
         "False",
         "False",
         "False",
         "False",
         "False",
         "False",
         "False",
         "False",
         "False",
         "False",
         "False",
         "False",
         "False",
         "False",
         "False",
         "False",
         "False",
         "False",
         "False",
         "False",
         "False",
         "False",
         "False",
         "False",
         "False",
         "False",
         "False",
         "False",
         "False",
         "True",
         "False",
         "False",
         "False",
         "False",
         "False",
         "False",
         "False",
         "False",
         "False",
         "False",
         "False",
         "False",
         "False",
         "False",
         "False",
         "False",
         "False"
        ]
       ],
       "shape": {
        "columns": 165,
        "rows": 5
       }
      },
      "text/html": [
       "<div>\n",
       "<style scoped>\n",
       "    .dataframe tbody tr th:only-of-type {\n",
       "        vertical-align: middle;\n",
       "    }\n",
       "\n",
       "    .dataframe tbody tr th {\n",
       "        vertical-align: top;\n",
       "    }\n",
       "\n",
       "    .dataframe thead th {\n",
       "        text-align: right;\n",
       "    }\n",
       "</style>\n",
       "<table border=\"1\" class=\"dataframe\">\n",
       "  <thead>\n",
       "    <tr style=\"text-align: right;\">\n",
       "      <th></th>\n",
       "      <th>Area</th>\n",
       "      <th>percent_of_production</th>\n",
       "      <th>State_Name_Andaman and Nicobar Islands</th>\n",
       "      <th>State_Name_Andhra Pradesh</th>\n",
       "      <th>State_Name_Arunachal Pradesh</th>\n",
       "      <th>State_Name_Assam</th>\n",
       "      <th>State_Name_Bihar</th>\n",
       "      <th>State_Name_Chandigarh</th>\n",
       "      <th>State_Name_Chhattisgarh</th>\n",
       "      <th>State_Name_Dadra and Nagar Haveli</th>\n",
       "      <th>...</th>\n",
       "      <th>Crop_Turmeric</th>\n",
       "      <th>Crop_Turnip</th>\n",
       "      <th>Crop_Urad</th>\n",
       "      <th>Crop_Varagu</th>\n",
       "      <th>Crop_Water Melon</th>\n",
       "      <th>Crop_Wheat</th>\n",
       "      <th>Crop_Yam</th>\n",
       "      <th>Crop_other fibres</th>\n",
       "      <th>Crop_other misc. pulses</th>\n",
       "      <th>Crop_other oilseeds</th>\n",
       "    </tr>\n",
       "  </thead>\n",
       "  <tbody>\n",
       "    <tr>\n",
       "      <th>227784</th>\n",
       "      <td>674.0</td>\n",
       "      <td>4.349178e-07</td>\n",
       "      <td>False</td>\n",
       "      <td>False</td>\n",
       "      <td>False</td>\n",
       "      <td>False</td>\n",
       "      <td>False</td>\n",
       "      <td>False</td>\n",
       "      <td>False</td>\n",
       "      <td>False</td>\n",
       "      <td>...</td>\n",
       "      <td>False</td>\n",
       "      <td>False</td>\n",
       "      <td>False</td>\n",
       "      <td>False</td>\n",
       "      <td>False</td>\n",
       "      <td>False</td>\n",
       "      <td>False</td>\n",
       "      <td>False</td>\n",
       "      <td>False</td>\n",
       "      <td>False</td>\n",
       "    </tr>\n",
       "    <tr>\n",
       "      <th>73466</th>\n",
       "      <td>36.0</td>\n",
       "      <td>2.620840e-08</td>\n",
       "      <td>False</td>\n",
       "      <td>False</td>\n",
       "      <td>False</td>\n",
       "      <td>False</td>\n",
       "      <td>False</td>\n",
       "      <td>False</td>\n",
       "      <td>False</td>\n",
       "      <td>False</td>\n",
       "      <td>...</td>\n",
       "      <td>False</td>\n",
       "      <td>False</td>\n",
       "      <td>False</td>\n",
       "      <td>False</td>\n",
       "      <td>False</td>\n",
       "      <td>False</td>\n",
       "      <td>False</td>\n",
       "      <td>False</td>\n",
       "      <td>False</td>\n",
       "      <td>False</td>\n",
       "    </tr>\n",
       "    <tr>\n",
       "      <th>148845</th>\n",
       "      <td>361.0</td>\n",
       "      <td>1.246670e-07</td>\n",
       "      <td>False</td>\n",
       "      <td>False</td>\n",
       "      <td>False</td>\n",
       "      <td>False</td>\n",
       "      <td>False</td>\n",
       "      <td>False</td>\n",
       "      <td>False</td>\n",
       "      <td>False</td>\n",
       "      <td>...</td>\n",
       "      <td>False</td>\n",
       "      <td>False</td>\n",
       "      <td>False</td>\n",
       "      <td>False</td>\n",
       "      <td>False</td>\n",
       "      <td>False</td>\n",
       "      <td>False</td>\n",
       "      <td>False</td>\n",
       "      <td>False</td>\n",
       "      <td>False</td>\n",
       "    </tr>\n",
       "    <tr>\n",
       "      <th>209150</th>\n",
       "      <td>24.0</td>\n",
       "      <td>1.983338e-08</td>\n",
       "      <td>False</td>\n",
       "      <td>False</td>\n",
       "      <td>False</td>\n",
       "      <td>False</td>\n",
       "      <td>False</td>\n",
       "      <td>False</td>\n",
       "      <td>False</td>\n",
       "      <td>False</td>\n",
       "      <td>...</td>\n",
       "      <td>False</td>\n",
       "      <td>False</td>\n",
       "      <td>False</td>\n",
       "      <td>False</td>\n",
       "      <td>False</td>\n",
       "      <td>False</td>\n",
       "      <td>False</td>\n",
       "      <td>False</td>\n",
       "      <td>False</td>\n",
       "      <td>False</td>\n",
       "    </tr>\n",
       "    <tr>\n",
       "      <th>30541</th>\n",
       "      <td>330.0</td>\n",
       "      <td>5.395389e-06</td>\n",
       "      <td>False</td>\n",
       "      <td>False</td>\n",
       "      <td>False</td>\n",
       "      <td>False</td>\n",
       "      <td>True</td>\n",
       "      <td>False</td>\n",
       "      <td>False</td>\n",
       "      <td>False</td>\n",
       "      <td>...</td>\n",
       "      <td>False</td>\n",
       "      <td>False</td>\n",
       "      <td>False</td>\n",
       "      <td>False</td>\n",
       "      <td>False</td>\n",
       "      <td>False</td>\n",
       "      <td>False</td>\n",
       "      <td>False</td>\n",
       "      <td>False</td>\n",
       "      <td>False</td>\n",
       "    </tr>\n",
       "  </tbody>\n",
       "</table>\n",
       "<p>5 rows × 165 columns</p>\n",
       "</div>"
      ],
      "text/plain": [
       "         Area  percent_of_production  State_Name_Andaman and Nicobar Islands  \\\n",
       "227784  674.0           4.349178e-07                                   False   \n",
       "73466    36.0           2.620840e-08                                   False   \n",
       "148845  361.0           1.246670e-07                                   False   \n",
       "209150   24.0           1.983338e-08                                   False   \n",
       "30541   330.0           5.395389e-06                                   False   \n",
       "\n",
       "        State_Name_Andhra Pradesh  State_Name_Arunachal Pradesh  \\\n",
       "227784                      False                         False   \n",
       "73466                       False                         False   \n",
       "148845                      False                         False   \n",
       "209150                      False                         False   \n",
       "30541                       False                         False   \n",
       "\n",
       "        State_Name_Assam  State_Name_Bihar  State_Name_Chandigarh  \\\n",
       "227784             False             False                  False   \n",
       "73466              False             False                  False   \n",
       "148845             False             False                  False   \n",
       "209150             False             False                  False   \n",
       "30541              False              True                  False   \n",
       "\n",
       "        State_Name_Chhattisgarh  State_Name_Dadra and Nagar Haveli  ...  \\\n",
       "227784                    False                              False  ...   \n",
       "73466                     False                              False  ...   \n",
       "148845                    False                              False  ...   \n",
       "209150                    False                              False  ...   \n",
       "30541                     False                              False  ...   \n",
       "\n",
       "        Crop_Turmeric  Crop_Turnip  Crop_Urad  Crop_Varagu  Crop_Water Melon  \\\n",
       "227784          False        False      False        False             False   \n",
       "73466           False        False      False        False             False   \n",
       "148845          False        False      False        False             False   \n",
       "209150          False        False      False        False             False   \n",
       "30541           False        False      False        False             False   \n",
       "\n",
       "        Crop_Wheat  Crop_Yam  Crop_other fibres  Crop_other misc. pulses  \\\n",
       "227784       False     False              False                    False   \n",
       "73466        False     False              False                    False   \n",
       "148845       False     False              False                    False   \n",
       "209150       False     False              False                    False   \n",
       "30541        False     False              False                    False   \n",
       "\n",
       "        Crop_other oilseeds  \n",
       "227784                False  \n",
       "73466                 False  \n",
       "148845                False  \n",
       "209150                False  \n",
       "30541                 False  \n",
       "\n",
       "[5 rows x 165 columns]"
      ]
     },
     "execution_count": 35,
     "metadata": {},
     "output_type": "execute_result"
    }
   ],
   "source": [
    "x_train[:5]"
   ]
  },
  {
   "cell_type": "code",
   "execution_count": 36,
   "id": "f55d5535",
   "metadata": {},
   "outputs": [
    {
     "name": "stderr",
     "output_type": "stream",
     "text": [
      "c:\\Users\\ankit\\AppData\\Local\\Programs\\Python\\Python312\\Lib\\site-packages\\sklearn\\base.py:1389: DataConversionWarning: A column-vector y was passed when a 1d array was expected. Please change the shape of y to (n_samples,), for example using ravel().\n",
      "  return fit_method(estimator, *args, **kwargs)\n"
     ]
    }
   ],
   "source": [
    "from sklearn.ensemble import RandomForestRegressor\n",
    "model = RandomForestRegressor()\n",
    "model.fit(x_train,y_train)\n",
    "preds = model.predict(x_test)"
   ]
  },
  {
   "cell_type": "code",
   "execution_count": 37,
   "id": "ee524ab0",
   "metadata": {},
   "outputs": [
    {
     "name": "stdout",
     "output_type": "stream",
     "text": [
      "R2score when we predict using Randomn forest is  0.9979901934937807\n"
     ]
    }
   ],
   "source": [
    "from sklearn.metrics import r2_score\n",
    "r = r2_score(y_test,preds)\n",
    "print(\"R2score when we predict using Randomn forest is \",r)"
   ]
  },
  {
   "cell_type": "code",
   "execution_count": null,
   "id": "a8023104",
   "metadata": {},
   "outputs": [],
   "source": [
    "'''from sklearn.linear_model import LinearRegression\n",
    "model = LinearRegression()\n",
    "model.fit(x_train,y_train)'''"
   ]
  },
  {
   "cell_type": "code",
   "execution_count": 51,
   "id": "0c3a8bb1",
   "metadata": {},
   "outputs": [
    {
     "name": "stdout",
     "output_type": "stream",
     "text": [
      "Mean Squared Error: 691388924863.443\n",
      "Mean Absolute Error: 7481.2138\n",
      "R-squared: 0.998\n"
     ]
    }
   ],
   "source": [
    "from sklearn.metrics import mean_squared_error, mean_absolute_error, r2_score\n",
    "\n",
    "\n",
    "\n",
    "print(\"Mean Squared Error:\", round(mse, 4))\n",
    "print(\"Mean Absolute Error:\", round(mae, 4))\n",
    "print(\"R-squared:\", round(r2, 4))\n"
   ]
  },
  {
   "cell_type": "code",
   "execution_count": 55,
   "id": "51e86697",
   "metadata": {},
   "outputs": [
    {
     "name": "stdout",
     "output_type": "stream",
     "text": [
      "R² Score: 0.998\n",
      "RMSE: 831498.0005\n",
      "MAE: 7481.2138\n",
      "✅ Random Forest model, scaler, and encoders saved.\n"
     ]
    }
   ],
   "source": [
    "import pickle\n",
    "from sklearn.metrics import r2_score, mean_squared_error, mean_absolute_error\n",
    "import numpy as np\n",
    "\n",
    "\n",
    "\n",
    "# ✅ Regression Metrics\n",
    "r2 = r2_score(y_test, preds)\n",
    "rmse = np.sqrt(mean_squared_error(y_test, preds))\n",
    "mae = mean_absolute_error(y_test, preds)\n",
    "\n",
    "print(\"R² Score:\", round(r2, 4))\n",
    "print(\"RMSE:\", round(rmse, 4))\n",
    "print(\"MAE:\", round(mae, 4))\n",
    "\n",
    "# ✅ Save Pickle files\n",
    "with open(\"rf_model.pkl\", \"wb\") as f:\n",
    "    pickle.dump(model, f)\n",
    "\n",
    "\n",
    "\n",
    "print(\"✅ Random Forest model, scaler, and encoders saved.\")\n"
   ]
  }
 ],
 "metadata": {
  "kernelspec": {
   "display_name": "Python 3",
   "language": "python",
   "name": "python3"
  },
  "language_info": {
   "codemirror_mode": {
    "name": "ipython",
    "version": 3
   },
   "file_extension": ".py",
   "mimetype": "text/x-python",
   "name": "python",
   "nbconvert_exporter": "python",
   "pygments_lexer": "ipython3",
   "version": "3.12.6"
  }
 },
 "nbformat": 4,
 "nbformat_minor": 5
}
